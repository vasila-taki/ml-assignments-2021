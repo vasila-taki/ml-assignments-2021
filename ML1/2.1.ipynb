{
 "cells": [
  {
   "cell_type": "markdown",
   "metadata": {
    "id": "0BER1SBdNPSp"
   },
   "source": [
    "## Global Imports"
   ]
  },
  {
   "cell_type": "code",
   "execution_count": 16,
   "metadata": {
    "executionInfo": {
     "elapsed": 1087,
     "status": "ok",
     "timestamp": 1641848882322,
     "user": {
      "displayName": "Vasilis Kalekis",
      "photoUrl": "https://lh3.googleusercontent.com/a/default-user=s64",
      "userId": "03941487579091556456"
     },
     "user_tz": -120
    },
    "id": "WGSPDFK_eVZh"
   },
   "outputs": [],
   "source": [
    "import pandas as pd\n",
    "import numpy as np\n",
    "from sklearn.model_selection import train_test_split\n",
    "import scipy.stats\n",
    "from sklearn.model_selection import KFold \n",
    "import matplotlib.pyplot as plt\n",
    "from sklearn.metrics import accuracy_score\n"
   ]
  },
  {
   "cell_type": "markdown",
   "metadata": {
    "id": "yX-wIA5slieq"
   },
   "source": [
    "## Functions used in Problem 2 - Questions 1i, 1ii"
   ]
  },
  {
   "cell_type": "code",
   "execution_count": 17,
   "metadata": {
    "executionInfo": {
     "elapsed": 54,
     "status": "ok",
     "timestamp": 1641848882324,
     "user": {
      "displayName": "Vasilis Kalekis",
      "photoUrl": "https://lh3.googleusercontent.com/a/default-user=s64",
      "userId": "03941487579091556456"
     },
     "user_tz": -120
    },
    "id": "1kDcCrMz2i6T"
   },
   "outputs": [],
   "source": [
    "def implement_kNN(x, X_tr, Y_tr, k, dist_choice, cov_inv_matrices):\n",
    "  \"\"\"\n",
    "    Implementation of the knn algorithm. Given a query point x, a training set (X_tr, Y_tr) and a distance metric, the algorithm finds the\n",
    "    k-nearest neighbours of the query point in the train set. \n",
    "    Supports Euclidean, Manhattan and Mahalanobis metric. The last metric, as it is distribution dependent, requires the covariance matrices of\n",
    "    all classes in training set.\n",
    "  \"\"\"\n",
    "  distances = []\n",
    "\n",
    "  if (dist_choice == \"Euclidean\"):\n",
    "    distances = calculate_euclidean(x, X_tr)\n",
    "  elif (dist_choice == \"Mahalanobis\"):\n",
    "    distances = calculate_mahalanobis(x, X_tr, Y_tr, cov_inv_matrices)\n",
    "  elif (dist_choice == \"Manhattan\"):\n",
    "    distances = calculate_manhattan(x, X_tr)      \n",
    "    \n",
    "  # K-closest points to the query point.\n",
    "  nn_ids = distances.argsort()[:k]\n",
    "  # Classes of those points.\n",
    "  nn_classes = Y_tr[nn_ids]\n",
    "  b = nn_classes.flatten()\n",
    "    \n",
    "  # Return the class which has the majority.\n",
    "  return np.bincount(b).argmax()"
   ]
  },
  {
   "cell_type": "code",
   "execution_count": 18,
   "metadata": {
    "executionInfo": {
     "elapsed": 54,
     "status": "ok",
     "timestamp": 1641848882326,
     "user": {
      "displayName": "Vasilis Kalekis",
      "photoUrl": "https://lh3.googleusercontent.com/a/default-user=s64",
      "userId": "03941487579091556456"
     },
     "user_tz": -120
    },
    "id": "K2Xkc3t0aUDO"
   },
   "outputs": [],
   "source": [
    "def produce_y_pred(X_tst, X_tr, Y_tr, k, dist_choice, cov_inv_matrices):\n",
    "  \"\"\"\n",
    "    Makes predictions on a test set by using the knn algorithm.\n",
    "  \"\"\"  \n",
    "  Y_pred = []\n",
    "\n",
    "  for i in range(len(X_tst)):\n",
    "    Y_pred.append(implement_kNN(X_tst[i], X_tr, Y_tr, k, dist_choice, cov_inv_matrices))\n",
    "\n",
    "  return Y_pred"
   ]
  },
  {
   "cell_type": "code",
   "execution_count": 19,
   "metadata": {
    "executionInfo": {
     "elapsed": 53,
     "status": "ok",
     "timestamp": 1641848882327,
     "user": {
      "displayName": "Vasilis Kalekis",
      "photoUrl": "https://lh3.googleusercontent.com/a/default-user=s64",
      "userId": "03941487579091556456"
     },
     "user_tz": -120
    },
    "id": "0t4jR6_jxBWL"
   },
   "outputs": [],
   "source": [
    "def cross_validation(k, m, dist_choice, cov_inv_matrices=[]):\n",
    "  \"\"\"\n",
    "    Implements cross validation with k splits on a dataset, splitting it to a test dataset of size original_dataset/k and\n",
    "    using the remaining dataset for training. This is repeated k times.\n",
    "    The accuracies across all runs are averaged in order to give a more unbiased view of the accuracy in the whole dataset.\n",
    "  \"\"\"\n",
    "  acc = []\n",
    "\n",
    "  kf = KFold(n_splits=k, random_state=None)\n",
    "  \n",
    "  for i , j in kf.split(np_X):\n",
    "    X_train , X_test = np_X[i,:], np_X[j,:]\n",
    "    y_train , y_test = Y[i], Y[j]\n",
    "     \n",
    "    y_pred = produce_y_pred(X_test, X_train, y_train, m, dist_choice, cov_inv_matrices)\n",
    "    \n",
    "    a = accuracy_score(y_test, y_pred)\n",
    "    acc.append(a)\n",
    "     \n",
    "  avg_acc = sum(acc)/k\n",
    "  \n",
    "  return avg_acc"
   ]
  },
  {
   "cell_type": "markdown",
   "metadata": {
    "id": "j_q1JdXYGpM5"
   },
   "source": [
    "## Distances "
   ]
  },
  {
   "cell_type": "code",
   "execution_count": 20,
   "metadata": {
    "executionInfo": {
     "elapsed": 52,
     "status": "ok",
     "timestamp": 1641848882328,
     "user": {
      "displayName": "Vasilis Kalekis",
      "photoUrl": "https://lh3.googleusercontent.com/a/default-user=s64",
      "userId": "03941487579091556456"
     },
     "user_tz": -120
    },
    "id": "VM13XcaEGw4q"
   },
   "outputs": [],
   "source": [
    "def calculate_euclidean(x, X_tr):\n",
    "  \"\"\"\n",
    "    Euclidean distance\n",
    "  \"\"\"\n",
    "  x1 = np.array(X_tr - x, dtype=np.float64)\n",
    "  return np.linalg.norm(x1, axis=1)"
   ]
  },
  {
   "cell_type": "code",
   "execution_count": 21,
   "metadata": {
    "executionInfo": {
     "elapsed": 49,
     "status": "ok",
     "timestamp": 1641848882329,
     "user": {
      "displayName": "Vasilis Kalekis",
      "photoUrl": "https://lh3.googleusercontent.com/a/default-user=s64",
      "userId": "03941487579091556456"
     },
     "user_tz": -120
    },
    "id": "aG0ctI_aGtrM"
   },
   "outputs": [],
   "source": [
    "def calculate_mahalanobis(x, X_tr, Y_tr, cov_inv_matrices):\n",
    "  \"\"\"\n",
    "    Mahalanobis distance, uses the inverse covariance matrices of all classes in the dataset.\n",
    "  \"\"\"\n",
    "  distances = []\n",
    "\n",
    "  for i, val in enumerate(X_tr):\n",
    "    cov_inv = cov_inv_matrices[Y_tr[i][0]]\n",
    "    \n",
    "    dif = val - x\n",
    "    left_factor = np.matmul(np.transpose(dif), cov_inv)\n",
    "    distance = np.matmul(left_factor, dif)\n",
    "    distances.append(distance)\n",
    "\n",
    "  distances = np.array(distances, dtype=np.float64)\n",
    "  return distances"
   ]
  },
  {
   "cell_type": "code",
   "execution_count": 22,
   "metadata": {
    "executionInfo": {
     "elapsed": 32,
     "status": "ok",
     "timestamp": 1641848882331,
     "user": {
      "displayName": "Vasilis Kalekis",
      "photoUrl": "https://lh3.googleusercontent.com/a/default-user=s64",
      "userId": "03941487579091556456"
     },
     "user_tz": -120
    },
    "id": "_yF7Pb3YJ5NX"
   },
   "outputs": [],
   "source": [
    "def calculate_manhattan(x, X_tr):\n",
    "  \"\"\"\n",
    "    Manhattan distance\n",
    "  \"\"\"\n",
    "  return np.sum(np.abs(x-X_tr), axis=1)"
   ]
  },
  {
   "cell_type": "markdown",
   "metadata": {
    "id": "_kKj3L6PjN-M"
   },
   "source": [
    "## Problem 2 - Question 1i\n",
    "\n",
    "We are going to implement a k nearest neighbours classifier (k-ΝΝ) in order to solve a classification problem using the IRIS PLANT DATABASE. There are three possible classes: \"Iris Setosa\", \"Iris Versicolor\" and \"Iris Virginica\" which we are going to map to values 0, 1 and 2 respectively."
   ]
  },
  {
   "cell_type": "markdown",
   "metadata": {
    "id": "9iQOrRJThyLL"
   },
   "source": [
    "## Dataset upload and preprocessing "
   ]
  },
  {
   "cell_type": "code",
   "execution_count": 23,
   "metadata": {
    "executionInfo": {
     "elapsed": 19,
     "status": "ok",
     "timestamp": 1641848940139,
     "user": {
      "displayName": "Vasilis Kalekis",
      "photoUrl": "https://lh3.googleusercontent.com/a/default-user=s64",
      "userId": "03941487579091556456"
     },
     "user_tz": -120
    },
    "id": "rU3GtiHnc_RT"
   },
   "outputs": [],
   "source": [
    "# Loads dataset and performs a random permutation of the rows.\n",
    "\n",
    "df = pd.read_csv(\"./UCIdata-exercise1/iris.data\", header= None)\n",
    "np_A = df.values\n",
    "np.take(np_A,np.random.permutation(np_A.shape[0]),axis=0,out=np_A)\\\n",
    "\n",
    "# Split to x and y vectors.\n",
    "np_X = np_A[:, 0:4]\n",
    "np_Y = np_A[:, [4]]\n",
    "\n",
    "# Mapping of class string names to integers.\n",
    "mapping = {'Iris-setosa': 0, 'Iris-versicolor': 1, 'Iris-virginica': 2}\n",
    "\n",
    "Y = np.zeros(np_Y.shape, dtype=\"int64\")\n",
    "\n",
    "for n, tup in mapping.items():\n",
    "    Y[np_Y == n] = tup\n",
    "\n",
    "\n",
    "# Creates covariance and inverse covariance matrices of the distribution of each class.\n",
    "X_0 = []\n",
    "X_1 = []\n",
    "X_2 = []\n",
    "\n",
    "for i, value in enumerate(np_X):\n",
    "  if(Y[i] == 0):\n",
    "    X_0.append(value)\n",
    "  elif(Y[i] == 1):\n",
    "    X_1.append(value)\n",
    "  elif(Y[i] == 2):\n",
    "    X_2.append(value)\n",
    "\n",
    "X_0 = np.array(X_0, dtype=np.float64)\n",
    "X_1 = np.array(X_1, dtype=np.float64)\n",
    "X_2 = np.array(X_2, dtype=np.float64)\n",
    "\n",
    "\n",
    "cov_0 = np.cov(X_0, rowvar=False)\n",
    "cov_inv_0 = np.linalg.inv(cov_0)\n",
    "cov_1 = np.cov(X_1, rowvar=False)\n",
    "cov_inv_1 = np.linalg.inv(cov_1)\n",
    "cov_2 = np.cov(X_2, rowvar=False)\n",
    "cov_inv_2 = np.linalg.inv(cov_2)\n",
    "\n",
    "cov_inv_matrices_1 = [cov_inv_0, cov_inv_1, cov_inv_2]\n"
   ]
  },
  {
   "cell_type": "markdown",
   "metadata": {
    "id": "TXzKotjTp3fw"
   },
   "source": [
    "In order to classify an unlabeled vector x, what the kNN algorithm does is: it searches the whole training set in order to find the k nearest vectors to x, then it also finds the class with the most representatives among those k vectors, and assigns it to x.\n",
    "\n",
    "We are going to implement the kNN algorithm for various values of k. \n",
    "\n",
    "Also, for each k, we are implementing K-fold cross validation in order to assess the performane of our algorithm.\n",
    "\n",
    "According to this method, we split our dataset into K roughly equal sized parts. We implement training K times, and each time we select one different part of the data for testing, and leave the remaining K-1 parts for training.\n",
    "This gives us the advantage of performing testing on a part of the dataset that has not been used in the training process, and at the same time using all of our data both for training and for testing. This generally produces less biased models.\n",
    "\n",
    "We are going to implement it for K = 10 (which is a very common choice for K).\n",
    "Each of those 10 times we calculate the accuracy of our y_pred, and once we ve finished with the whole process, we combine our results by averaging them.\n",
    "\n",
    "\n",
    "We will use three different metrics/distances for finding the nearest neighbours, which are the folowing. The notation $d(x,y)$ indicates the distance of $x$ from $y$.\n",
    "* Euclidean distance : $d(x,y)=\\sqrt{\\sum_{i=0}^{n-1}(x_i-y_i)^2}$\n",
    "* Manhattan distance : $d(x,y)=\\sum_{i=0}^{n-1}|x_i-y_i|$\n",
    "* Mahalanobis distance : $d(x,y)=(x-y)^T\\Sigma^{-1}(x-y)$, where $\\Sigma$ is the covariance matrix of the distribution followed by $y$.\n"
   ]
  },
  {
   "cell_type": "code",
   "execution_count": 24,
   "metadata": {
    "colab": {
     "base_uri": "https://localhost:8080/"
    },
    "executionInfo": {
     "elapsed": 16,
     "status": "ok",
     "timestamp": 1641848940141,
     "user": {
      "displayName": "Vasilis Kalekis",
      "photoUrl": "https://lh3.googleusercontent.com/a/default-user=s64",
      "userId": "03941487579091556456"
     },
     "user_tz": -120
    },
    "id": "U9JqXdXM8tqy",
    "outputId": "07128392-8958-443c-fe8e-e38b410bb68c"
   },
   "outputs": [
    {
     "name": "stdout",
     "output_type": "stream",
     "text": [
      "[1, 2, 3, 4, 5, 6, 7, 8, 9, 10, 11, 12, 13, 14, 15, 16, 17, 18, 19, 20, 22, 24, 26, 28, 30, 32, 34, 36, 38, 40, 42, 44, 46, 48, 50, 55, 60, 65, 70, 75, 80, 85, 90, 95, 100]\n"
     ]
    }
   ],
   "source": [
    "# Number of nearest neighboors we are going to use\n",
    "# 1-19 with step = 1\n",
    "# 20-48 with step = 2\n",
    "# 50-100 with step = 5\n",
    "# Since the classes are not binary, we are not restricted to only odd values of k.\n",
    "\n",
    "num_of_nn_1 = [i for i in range(1, 20)]\n",
    "num_of_nn1_1 = [i for i in range(20, 50, 2)]\n",
    "num_of_nn2_1 = [i for i in range(50, 105, 5)]\n",
    "num_of_nn1_1.extend(num_of_nn2_1)\n",
    "num_of_nn_1.extend(num_of_nn1_1)\n",
    "print(num_of_nn_1)"
   ]
  },
  {
   "cell_type": "code",
   "execution_count": 25,
   "metadata": {
    "colab": {
     "base_uri": "https://localhost:8080/"
    },
    "executionInfo": {
     "elapsed": 10427,
     "status": "ok",
     "timestamp": 1641848950556,
     "user": {
      "displayName": "Vasilis Kalekis",
      "photoUrl": "https://lh3.googleusercontent.com/a/default-user=s64",
      "userId": "03941487579091556456"
     },
     "user_tz": -120
    },
    "id": "PvHbcfbVPZSl",
    "outputId": "24244b53-5b4d-4af5-e41e-8159a716e5df"
   },
   "outputs": [
    {
     "name": "stdout",
     "output_type": "stream",
     "text": [
      "Average accuracies from knn using Euclidean distance: [0.9600000000000002, 0.9466666666666667, 0.9666666666666668, 0.9666666666666668, 0.9666666666666668, 0.9600000000000002, 0.96, 0.9733333333333334, 0.9733333333333334, 0.9666666666666668, 0.9800000000000001, 0.9733333333333334, 0.9666666666666666, 0.9733333333333334, 0.9733333333333334, 0.9733333333333334, 0.9800000000000001, 0.9733333333333334, 0.9800000000000001, 0.9666666666666668, 0.9533333333333334, 0.9533333333333334, 0.9533333333333334, 0.9400000000000001, 0.9466666666666667, 0.9533333333333334, 0.9466666666666667, 0.96, 0.9466666666666667, 0.9466666666666667, 0.9466666666666667, 0.9333333333333333, 0.9333333333333333, 0.9333333333333333, 0.9133333333333334, 0.9066666666666668, 0.9000000000000001, 0.9000000000000001, 0.8866666666666667, 0.8866666666666667, 0.8800000000000001, 0.8266666666666668, 0.6533333333333333, 0.6, 0.5599999999999999]\n",
      "Average accuracies from knn using Manhattan distance: [0.9533333333333334, 0.9333333333333333, 0.9666666666666668, 0.9466666666666667, 0.9600000000000002, 0.9533333333333335, 0.9533333333333334, 0.9466666666666669, 0.9600000000000002, 0.9533333333333334, 0.9533333333333334, 0.9533333333333334, 0.9666666666666666, 0.9666666666666666, 0.96, 0.96, 0.9666666666666666, 0.9600000000000002, 0.9733333333333334, 0.96, 0.9466666666666667, 0.9533333333333334, 0.9400000000000001, 0.9466666666666667, 0.9533333333333334, 0.9333333333333333, 0.9333333333333333, 0.9400000000000001, 0.9466666666666667, 0.9400000000000001, 0.9466666666666667, 0.9266666666666667, 0.9400000000000001, 0.9266666666666667, 0.9333333333333333, 0.9266666666666667, 0.9066666666666668, 0.8933333333333335, 0.8933333333333335, 0.8933333333333335, 0.8666666666666666, 0.8400000000000001, 0.6533333333333333, 0.6666666666666666, 0.6]\n",
      "Average accuracies from knn using Mahalanobis distance: [0.9666666666666668, 0.9666666666666668, 0.9666666666666668, 0.9666666666666666, 0.9733333333333334, 0.9733333333333334, 0.9666666666666668, 0.9733333333333334, 0.9733333333333334, 0.9733333333333334, 0.9733333333333334, 0.9733333333333334, 0.9666666666666668, 0.9666666666666668, 0.9666666666666668, 0.9666666666666668, 0.9666666666666668, 0.9666666666666668, 0.9666666666666668, 0.9733333333333334, 0.9666666666666668, 0.9666666666666668, 0.9733333333333334, 0.9733333333333334, 0.9733333333333334, 0.9800000000000001, 0.9866666666666667, 0.9733333333333334, 0.9866666666666667, 0.9866666666666667, 0.9866666666666667, 0.9866666666666667, 0.9800000000000001, 0.9800000000000001, 0.9800000000000001, 0.9800000000000001, 0.9800000000000001, 0.9800000000000001, 0.9733333333333334, 0.9733333333333334, 0.9800000000000001, 0.8466666666666667, 0.5666666666666667, 0.48666666666666664, 0.4666666666666667]\n"
     ]
    }
   ],
   "source": [
    "# We will create vectors contain the average accuracy we get from K-fold cross validation for each k and for each distance.\n",
    "\n",
    "# Euclidean distance\n",
    "avg_acc_collection_Euc_1 = []\n",
    "\n",
    "for i in num_of_nn_1:  \n",
    "    avg_acc = cross_validation(10, i, \"Euclidean\")\n",
    "    avg_acc_collection_Euc_1.append(avg_acc)\n",
    "\n",
    "print(f\"Average accuracies from knn using Euclidean distance: {avg_acc_collection_Euc_1}\")\n",
    "\n",
    "# Manhattan distance\n",
    "avg_acc_collection_Man_1 = []\n",
    "\n",
    "for i in num_of_nn_1:  \n",
    "    avg_acc = cross_validation(10, i, \"Manhattan\")\n",
    "    avg_acc_collection_Man_1.append(avg_acc)\n",
    "\n",
    "print(f\"Average accuracies from knn using Manhattan distance: {avg_acc_collection_Man_1}\")\n",
    "\n",
    "# Mahalanobis distance - the only distance which uses the covariance matrices calculated previously.\n",
    "avg_acc_collection_Mah_1 = []\n",
    "\n",
    "for i in num_of_nn_1:  \n",
    "    avg_acc = cross_validation(10, i, \"Mahalanobis\", cov_inv_matrices_1)\n",
    "    avg_acc_collection_Mah_1.append(avg_acc)\n",
    "\n",
    "print(f\"Average accuracies from knn using Mahalanobis distance: {avg_acc_collection_Mah_1}\")"
   ]
  },
  {
   "cell_type": "code",
   "execution_count": 26,
   "metadata": {
    "colab": {
     "base_uri": "https://localhost:8080/",
     "height": 694
    },
    "executionInfo": {
     "elapsed": 1285,
     "status": "ok",
     "timestamp": 1641848951830,
     "user": {
      "displayName": "Vasilis Kalekis",
      "photoUrl": "https://lh3.googleusercontent.com/a/default-user=s64",
      "userId": "03941487579091556456"
     },
     "user_tz": -120
    },
    "id": "nGzGu5A4MGc-",
    "outputId": "8f10635f-4b0f-424b-ac18-c4bda15d49db"
   },
   "outputs": [
    {
     "data": {
      "text/plain": [
       "<matplotlib.legend.Legend at 0x7fe00f0db670>"
      ]
     },
     "execution_count": 26,
     "metadata": {},
     "output_type": "execute_result"
    },
    {
     "data": {
      "image/png": "[encoded data removed]",
      "text/plain": [
       "<Figure size 1440x720 with 6 Axes>"
      ]
     },
     "metadata": {
      "needs_background": "light"
     },
     "output_type": "display_data"
    }
   ],
   "source": [
    "# Plot of average accuracies\n",
    "fig, axs = plt.subplots(2,3, figsize=(20,10))\n",
    "\n",
    "custom_ylim = (0.4, 1.0)\n",
    "plt.setp(axs, ylim=custom_ylim)\n",
    "\n",
    "axs[0,0].plot(num_of_nn_1, avg_acc_collection_Euc_1, c = \"green\")\n",
    "axs[0,1].plot(num_of_nn_1, avg_acc_collection_Man_1, c = \"green\")\n",
    "axs[0,2].plot(num_of_nn_1, avg_acc_collection_Mah_1, c = \"green\")\n",
    "axs[1,0].set_visible(False)\n",
    "axs[1,1].plot(num_of_nn_1, avg_acc_collection_Euc_1, c = \"red\", label=\"Euclidean\")\n",
    "axs[1,1].plot(num_of_nn_1, avg_acc_collection_Man_1, c = \"blue\", label=\"Manhattan\")\n",
    "axs[1,1].plot(num_of_nn_1, avg_acc_collection_Mah_1, c = \"green\", label=\"Mahalanobis\")\n",
    "axs[1,2].set_visible(False)\n",
    "\n",
    "fig.suptitle(\"Average accuracies obtained from knn using different distances on IRIS PLANT DATABASE\", fontsize=16)\n",
    "axs[0,0].title.set_text('Euclidean distance')\n",
    "axs[0,1].title.set_text('Manhattan distance')\n",
    "axs[0,2].title.set_text('Mahalanobis distance')\n",
    "axs[1,1].title.set_text('Superimposed curves')\n",
    "\n",
    "axs[0,0].set_xlabel('Number of neighbours k')\n",
    "axs[0,0].set_ylabel('avg_accuracy')\n",
    "axs[0,1].set_xlabel('Number of neighbours k')\n",
    "axs[0,1].set_ylabel('avg_accuracy')\n",
    "axs[0,2].set_xlabel('Number of neighbours k')\n",
    "axs[0,2].set_ylabel('avg_accuracy')\n",
    "axs[1,1].set_xlabel('Number of neighbours k')\n",
    "axs[1,1].set_ylabel('avg_accuracy')\n",
    "\n",
    "axs[1,1].legend(loc=\"lower right\")\n"
   ]
  },
  {
   "cell_type": "markdown",
   "metadata": {
    "id": "2XWZ7yxkRvN6"
   },
   "source": [
    "## Comments\n",
    "\n",
    "For the Euclidean and Manhattan distances, we can easily observe from the graph above that we've managed to score a good acuracy in our predictions, which however decreases as the number of k goes up. The differences in the average accuracies between these two metrics are not very large but for k in the range of 10-20, Euclidean distance is the winner.\n",
    "\n",
    "\n",
    "Mahalanobis distance is scale-invariant, unitless and takes into consideration the correlation between variables. In this case we observe, that overally the Mahalanobis distance scores better accuracy and manages to maintain it for very large values of k as well, for which the accuracy scored with the other two distances drops."
   ]
  },
  {
   "cell_type": "markdown",
   "metadata": {
    "id": "pOzvxrJdk9mh"
   },
   "source": [
    "## Problem 2 - Question 1ii\n",
    "\n",
    "We are going to implement a k nearest neighbours classifier (k-ΝΝ) in order to solve a classification problem using the PIMA INDIANS DIABETES DATABASE. There are two possible classes: \"tested positive for diabetes\", \"tested not positive for diabetes\" which we are going to map to values 1 and 0 respectively."
   ]
  },
  {
   "cell_type": "markdown",
   "metadata": {
    "id": "DkCWOwRbl06H"
   },
   "source": [
    "## Dataset upload and preprocessing "
   ]
  },
  {
   "cell_type": "code",
   "execution_count": 27,
   "metadata": {
    "executionInfo": {
     "elapsed": 33,
     "status": "ok",
     "timestamp": 1641848974289,
     "user": {
      "displayName": "Vasilis Kalekis",
      "photoUrl": "https://lh3.googleusercontent.com/a/default-user=s64",
      "userId": "03941487579091556456"
     },
     "user_tz": -120
    },
    "id": "vyvcdNBVnW3Z"
   },
   "outputs": [],
   "source": [
    "#Preprocessing as before.\n",
    "\n",
    "df = pd.read_csv(\"./UCIdata-exercise1/pima-indians-diabetes.data\", header= None)\n",
    "\n",
    "np_A = df.values\n",
    "np.take(np_A,np.random.permutation(np_A.shape[0]),axis=0,out=np_A)\n",
    "\n",
    "np_X = np_A[:, 0:8]  \n",
    "Y = np_A[:, [8]]\n",
    "Y = np.array(Y, dtype=np.int64)\n",
    "\n",
    "X_0 = []\n",
    "X_1 = []\n",
    "\n",
    "\n",
    "for i, value in enumerate(np_X):\n",
    "  if(Y[i] == 0):\n",
    "    X_0.append(value)\n",
    "  elif(Y[i] == 1):\n",
    "    X_1.append(value)\n",
    "\n",
    "X_0 = np.array(X_0, dtype=np.float64)\n",
    "X_1 = np.array(X_1, dtype=np.float64)\n",
    "\n",
    "cov_0 = np.cov(X_0, rowvar=False)\n",
    "cov_inv_0 = np.linalg.inv(cov_0)\n",
    "cov_1 = np.cov(X_1, rowvar=False)\n",
    "cov_inv_1 = np.linalg.inv(cov_1)\n",
    "\n",
    "cov_inv_matrices_2 = [cov_inv_0, cov_inv_1]"
   ]
  },
  {
   "cell_type": "markdown",
   "metadata": {
    "id": "hqgUW2DWn1p-"
   },
   "source": [
    "As before we are implementing the kNN algorithm for the same numbers of k, and we are going to assess the performance of our algorithm using K-fold cross validation for K=10. We are going to use the distances we used before. \n",
    "\n",
    "Here, the problem is binary classification (2 classes) and we have to use odd values for k in order to get the majority of votes for which class to classify a query point."
   ]
  },
  {
   "cell_type": "code",
   "execution_count": 28,
   "metadata": {
    "colab": {
     "base_uri": "https://localhost:8080/"
    },
    "executionInfo": {
     "elapsed": 31,
     "status": "ok",
     "timestamp": 1641848974293,
     "user": {
      "displayName": "Vasilis Kalekis",
      "photoUrl": "https://lh3.googleusercontent.com/a/default-user=s64",
      "userId": "03941487579091556456"
     },
     "user_tz": -120
    },
    "id": "YVCJyseXXCtN",
    "outputId": "37a26c5a-4749-44ed-dae3-d9c5672a935b"
   },
   "outputs": [
    {
     "name": "stdout",
     "output_type": "stream",
     "text": [
      "[1, 3, 5, 7, 9, 11, 13, 15, 17, 19, 21, 25, 29, 33, 37, 41, 45, 49, 51, 57, 63, 69, 75, 81, 87, 93, 99]\n"
     ]
    }
   ],
   "source": [
    "# Number of nearest neighboors we are going to use. The task is binary classification so only odd values are chosen.\n",
    "# 1-19 with step = 2\n",
    "# 21-49 with step = 4\n",
    "# 51-99 with step = 6\n",
    "\n",
    "num_of_nn_2 = [i for i in range(1, 20, 2)]\n",
    "num_of_nn1_2 = [i for i in range(21, 50, 4)]\n",
    "num_of_nn2_2 = [i for i in range(51, 100, 6)]\n",
    "num_of_nn1_2.extend(num_of_nn2_2)\n",
    "num_of_nn_2.extend(num_of_nn1_2)\n",
    "print(num_of_nn_2)"
   ]
  },
  {
   "cell_type": "code",
   "execution_count": 29,
   "metadata": {
    "colab": {
     "base_uri": "https://localhost:8080/"
    },
    "executionInfo": {
     "elapsed": 85687,
     "status": "ok",
     "timestamp": 1641849059955,
     "user": {
      "displayName": "Vasilis Kalekis",
      "photoUrl": "https://lh3.googleusercontent.com/a/default-user=s64",
      "userId": "03941487579091556456"
     },
     "user_tz": -120
    },
    "id": "zCLmgdcgn1OP",
    "outputId": "cf6d74f0-3939-4b9c-b435-c5a4918e3feb"
   },
   "outputs": [
    {
     "name": "stdout",
     "output_type": "stream",
     "text": [
      "Average accuracies from k-nn using Euclidean distance: [0.6705058099794942, 0.691473000683527, 0.7148838004101161, 0.7293062200956937, 0.7253759398496241, 0.7370984278879016, 0.7435748462064252, 0.743609022556391, 0.7448735475051265, 0.738414217361586, 0.7410287081339713, 0.7383971291866029, 0.7319036226930964, 0.727904989747095, 0.7370984278879016, 0.7304853041695147, 0.7214114832535887, 0.7253417634996582, 0.7279733424470266, 0.7305878332194122, 0.7305707450444293, 0.7266575529733427, 0.7344326725905674, 0.7318352699931647, 0.7397129186602871, 0.7227443609022557, 0.7213773069036227]\n",
      "Average accuracies from knn using Manhattan distance: [0.6862098427887902, 0.6861756664388243, 0.7279049897470949, 0.7175324675324675, 0.7188311688311689, 0.7409603554340396, 0.7448735475051265, 0.7540157211209844, 0.7514354066985646, 0.7514524948735476, 0.7501196172248804, 0.7501537935748461, 0.739712918660287, 0.740909090909091, 0.7409603554340396, 0.7409945317840054, 0.7436090225563909, 0.7514183185235817, 0.7501196172248804, 0.7461722488038278, 0.7422419685577581, 0.7448564593301437, 0.7409432672590568, 0.7487354750512646, 0.7435748462064251, 0.7449077238550924, 0.7357655502392344]\n",
      "Average accuracies from knn using Mahalanobis distance: [0.656185919343814, 0.6952665755297335, 0.6913192071086808, 0.6860902255639099, 0.6978298017771702, 0.7004442925495558, 0.7148496240601505, 0.7031442241968558, 0.6927033492822967, 0.708356117566644, 0.7044258373205741, 0.70446001367054, 0.7044429254955572, 0.7057416267942586, 0.7083902939166098, 0.716250854408749, 0.716250854408749, 0.7174982911825016, 0.7201127819548871, 0.7109876965140123, 0.7188311688311688, 0.7253246753246753, 0.718814080656186, 0.7253075871496923, 0.7252904989747095, 0.7279049897470949, 0.7331168831168832]\n"
     ]
    }
   ],
   "source": [
    "# We will create vectors contain the average accuracy we get from K-fold cross validation for each k and for each distance.\n",
    "\n",
    "# Euclidean distance\n",
    "avg_acc_collection_Euc_2 = []\n",
    "\n",
    "for i in num_of_nn_2:  \n",
    "    avg_acc = cross_validation(10, i, \"Euclidean\")\n",
    "    avg_acc_collection_Euc_2.append(avg_acc)\n",
    "\n",
    "print(f\"Average accuracies from k-nn using Euclidean distance: {avg_acc_collection_Euc_2}\")\n",
    "\n",
    "# Manhattan distance\n",
    "avg_acc_collection_Man_2 = []\n",
    "\n",
    "for i in num_of_nn_2:  \n",
    "    avg_acc = cross_validation(10, i, \"Manhattan\")\n",
    "    avg_acc_collection_Man_2.append(avg_acc)\n",
    "\n",
    "print(f\"Average accuracies from knn using Manhattan distance: {avg_acc_collection_Man_2}\")\n",
    "\n",
    "# Mahalanobis distance - the only distance which uses the covariance matrices calculated previously.\n",
    "avg_acc_collection_Mah_2 = []\n",
    "\n",
    "for i in num_of_nn_2:  \n",
    "    avg_acc = cross_validation(10, i, \"Mahalanobis\", cov_inv_matrices_2)\n",
    "    avg_acc_collection_Mah_2.append(avg_acc)\n",
    "\n",
    "print(f\"Average accuracies from knn using Mahalanobis distance: {avg_acc_collection_Mah_2}\")"
   ]
  },
  {
   "cell_type": "code",
   "execution_count": 30,
   "metadata": {
    "colab": {
     "base_uri": "https://localhost:8080/",
     "height": 694
    },
    "executionInfo": {
     "elapsed": 1058,
     "status": "ok",
     "timestamp": 1641849060989,
     "user": {
      "displayName": "Vasilis Kalekis",
      "photoUrl": "https://lh3.googleusercontent.com/a/default-user=s64",
      "userId": "03941487579091556456"
     },
     "user_tz": -120
    },
    "id": "gkuv3_99r9K5",
    "outputId": "ae1f7548-f203-4db2-ef91-a4bab0c7c0b7"
   },
   "outputs": [
    {
     "data": {
      "text/plain": [
       "<matplotlib.legend.Legend at 0x7fe00ead59a0>"
      ]
     },
     "execution_count": 30,
     "metadata": {},
     "output_type": "execute_result"
    },
    {
     "data": {
      "image/png": "[encoded data removed]",
      "text/plain": [
       "<Figure size 1440x720 with 6 Axes>"
      ]
     },
     "metadata": {
      "needs_background": "light"
     },
     "output_type": "display_data"
    }
   ],
   "source": [
    "# Plot of average accuracies\n",
    "fig, axs = plt.subplots(2,3, figsize=(20,10))\n",
    "\n",
    "custom_ylim = (0.4, 1.0)\n",
    "plt.setp(axs, ylim=custom_ylim)\n",
    "\n",
    "axs[0,0].plot(num_of_nn_2, avg_acc_collection_Euc_2, c = \"green\")\n",
    "axs[0,1].plot(num_of_nn_2, avg_acc_collection_Man_2, c = \"green\")\n",
    "axs[0,2].plot(num_of_nn_2, avg_acc_collection_Mah_2, c = \"green\")\n",
    "axs[1,0].set_visible(False)\n",
    "axs[1,1].plot(num_of_nn_2, avg_acc_collection_Euc_2, c = \"red\", label=\"Euclidean\")\n",
    "axs[1,1].plot(num_of_nn_2, avg_acc_collection_Man_2, c = \"blue\", label=\"Manhattan\")\n",
    "axs[1,1].plot(num_of_nn_2, avg_acc_collection_Mah_2, c = \"green\", label=\"Mahalanobis\")\n",
    "axs[1,2].set_visible(False)\n",
    "\n",
    "fig.suptitle(\"Average accuracies obtained from knn using different distances on PIMA INDIANS DIABETES DATABASE\", fontsize=16)\n",
    "axs[0,0].title.set_text('Euclidean distance')\n",
    "axs[0,1].title.set_text('Manhattan distance')\n",
    "axs[0,2].title.set_text('Mahalanobis distance')\n",
    "axs[1,1].title.set_text('Superimposed curves')\n",
    "\n",
    "axs[0,0].set_xlabel('Number of neighbours k')\n",
    "axs[0,0].set_ylabel('avg_accuracy')\n",
    "axs[0,1].set_xlabel('Number of neighbours k')\n",
    "axs[0,1].set_ylabel('avg_accuracy')\n",
    "axs[0,2].set_xlabel('Number of neighbours k')\n",
    "axs[0,2].set_ylabel('avg_accuracy')\n",
    "axs[1,1].set_xlabel('Number of neighbours k')\n",
    "axs[1,1].set_ylabel('avg_accuracy')\n",
    "\n",
    "axs[1,1].legend(loc=\"lower right\")"
   ]
  },
  {
   "cell_type": "markdown",
   "metadata": {
    "id": "uRZOOfKhsxvC"
   },
   "source": [
    "## Comments\n",
    "In this case, we observe that the accuracy we score is in generally lower than before for all distance metrics.\n",
    "\n",
    "Also here, small k's give us the worst accuracies. As the values of k increase, so does the accuracy. For very large k's we observe that our accuracy plateaus first and then decreases again but not as fast as it did in the previous dataset. Those observations hold for all distances.\n",
    "\n",
    "Again, we observe that the Mahalanobis distance manages to maintain high accuracies for large values of k but doesn't outperform the other two. However in this dataset, the largest accuracy overall, is scored using the Manhattan distance for k=21."
   ]
  }
 ],
 "metadata": {
  "colab": {
   "collapsed_sections": [],
   "name": "2.1.ipynb",
   "provenance": []
  },
  "kernelspec": {
   "display_name": "Python 3 (ipykernel)",
   "language": "python",
   "name": "python3"
  },
  "language_info": {
   "codemirror_mode": {
    "name": "ipython",
    "version": 3
   },
   "file_extension": ".py",
   "mimetype": "text/x-python",
   "name": "python",
   "nbconvert_exporter": "python",
   "pygments_lexer": "ipython3",
   "version": "3.9.5"
  }
 },
 "nbformat": 4,
 "nbformat_minor": 1
}
