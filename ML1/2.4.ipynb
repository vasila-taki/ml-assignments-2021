{
 "cells": [
  {
   "cell_type": "markdown",
   "id": "c8afd97e",
   "metadata": {
    "id": "c8afd97e"
   },
   "source": [
    "## Global Imports"
   ]
  },
  {
   "cell_type": "code",
   "execution_count": 7,
   "id": "9enQYcjlgtCN",
   "metadata": {
    "executionInfo": {
     "elapsed": 27,
     "status": "ok",
     "timestamp": 1641849249297,
     "user": {
      "displayName": "Valia Mavrikou",
      "photoUrl": "https://lh3.googleusercontent.com/a-/AOh14GjILpHRCIxbMLTJpbXrLUfXeR0D0fq59J9IzlIElg=s64",
      "userId": "01605552294531161702"
     },
     "user_tz": -120
    },
    "id": "9enQYcjlgtCN"
   },
   "outputs": [],
   "source": [
    "import pandas as pd\n",
    "import numpy as np"
   ]
  },
  {
   "cell_type": "markdown",
   "id": "zhOwQXvUhFZS",
   "metadata": {
    "id": "zhOwQXvUhFZS"
   },
   "source": [
    "## Function used in Problem 2 - Question 4"
   ]
  },
  {
   "cell_type": "code",
   "execution_count": 8,
   "id": "F1SSZ5JkhK_6",
   "metadata": {
    "executionInfo": {
     "elapsed": 26,
     "status": "ok",
     "timestamp": 1641849249299,
     "user": {
      "displayName": "Valia Mavrikou",
      "photoUrl": "https://lh3.googleusercontent.com/a-/AOh14GjILpHRCIxbMLTJpbXrLUfXeR0D0fq59J9IzlIElg=s64",
      "userId": "01605552294531161702"
     },
     "user_tz": -120
    },
    "id": "F1SSZ5JkhK_6"
   },
   "outputs": [],
   "source": [
    "def perceptron(X1, X2, target1, target2, epochs):\n",
    "    \"\"\"\n",
    "      Perceptron algorithm for finding the separating hyperplane between class X1 (with target1) and class X2 (with target target2).\n",
    "      We set a maximum number of epochs for the algorithm to run if the algorithm fails to terminate on its own. The algorithm\n",
    "      terminates on its own if there are no misclassifications, ie the hyperplane perfectly separates the two classes.\n",
    "      We measure the misclassifications (or equivalently the lack of them) by the times we update the weights (or equivalenty don't update them) in an epoch.\n",
    "      If the weights don't get updated even one time in an epoch, the algorithm has converged to a solution that perfectly separates the two classes.\n",
    "    \"\"\"\n",
    "\n",
    "    # Multiplies the samples of each class with the corresponding target and creates matrix X containing the samples of both classes.\n",
    "    X = np.concatenate((X1*target1, X2*target2), axis=0)\n",
    "\n",
    "    # Zero initial weights.  \n",
    "    w = np.zeros(X.shape[1])\n",
    "    # Parameters for measuring the amount of misclassifications and the current epoch.\n",
    "    count = 0\n",
    "    epoch = 0\n",
    "    \n",
    "    # Loop while we are under the given number of epochs and we have some misclassifications.\n",
    "    while epoch < epochs and count!=len(X):\n",
    "        #print(f\"Epoch {epoch}\")\n",
    "        count = 0\n",
    "\n",
    "        for i in range(len(X)):\n",
    "            # Condition for updating weights: t*w*x <= 0\n",
    "            cond = np.dot(X[i], w)\n",
    "\n",
    "            if cond<=0:\n",
    "                w += X[i]\n",
    "                #print(f\"Cond {cond} Update Y {X[i]} -> {w}\")\n",
    "            else:\n",
    "                count += 1\n",
    "                #print(f\"Cond {cond} Update N {X[i]}\")\n",
    "                \n",
    "        epoch += 1\n",
    "    #print(f\"\\nFinal w: {w}\")\n",
    "    return w, epoch, count"
   ]
  },
  {
   "cell_type": "markdown",
   "id": "h99v0fodwmIs",
   "metadata": {
    "id": "h99v0fodwmIs"
   },
   "source": [
    "## Problem 2 - Question 6\n",
    "\n",
    "In this question, we implemented the Perceptron algorithm on the IRIS PLANT DATABASE to perform classification on the 3 classes. Specifically, we examined if each class is linearly separable from the two other classes.\n",
    "\n",
    "Preprocessing: After loading the dataset, we splitted it to 2 classes (one class containing one type of plant and the other \"super\" class containing the other two classes). We modified every sample/pattern in each class, by appending a feature of value -1 to the end of it. This feature corresponds to the threshold $w_0$ of the weight vector. Also, we adopted target outputs $+1$ for one class and $-1$ for the other, multiplying the samples of each class by the target.\n",
    "\n",
    "Algorithm: We started by initial synaptic weights $\\vec{w}=(w_1,w_2,...,w_0)$ set to 0. At every epoch, we presented the network every pattern $\\vec{x_k}$ in the two classes and we calculated $t\\cdot \\vec{w}\\vec{x_k}=\\vec{w}\\vec{x_k'}$ with the current weights value. If $\\vec{w}\\vec{x'_k}\\leq 0$ we updated the weights by the rule $\\vec{w} \\rightarrow \\vec{w}+\\Delta \\vec{w}=\\vec{w}+\\vec{w}\\vec{x_k'}$. \n",
    "\n",
    "The epoch ends after all patterns are shown to the network one time. If we didn't update the weights at a given epoch, the algorithm has converged and there are no misclassifications (points classified on the wrong class / on the wrong side on the hyperplane). \n",
    "\n",
    "The separating hyperplane after convergence or after exceeding max number of epochs (given by user) is $\\vec{w}\\cdot \\vec{x}-w_0=0\\rightarrow w_1\\cdot x_1+w_2\\cdot x_2 +...+w_n\\cdot x_n - w_0=0$\n",
    "\n",
    "*To show that the perceptron we developed is working correctly, we ran the algorithm on two of the examples conducted during the lectures (The first one in 'PERCEPTRON.pdf' and the second one in 'notes_lecture_8.pdf').\n"
   ]
  },
  {
   "cell_type": "code",
   "execution_count": 9,
   "id": "lUAswZ65BV23",
   "metadata": {
    "colab": {
     "base_uri": "https://localhost:8080/"
    },
    "executionInfo": {
     "elapsed": 25,
     "status": "ok",
     "timestamp": 1641849249300,
     "user": {
      "displayName": "Valia Mavrikou",
      "photoUrl": "https://lh3.googleusercontent.com/a-/AOh14GjILpHRCIxbMLTJpbXrLUfXeR0D0fq59J9IzlIElg=s64",
      "userId": "01605552294531161702"
     },
     "user_tz": -120
    },
    "id": "lUAswZ65BV23",
    "outputId": "f131226a-bfbf-47a8-9330-fe8186eae055"
   },
   "outputs": [
    {
     "name": "stdout",
     "output_type": "stream",
     "text": [
      "Final weights: [ 1.  1. -1.]  At epoch: 2 Number of correctly classified patterns: 4\n",
      "Final weights: [ 2.  1. -1.]  At epoch: 3 Number of correctly classified patterns: 3\n"
     ]
    }
   ],
   "source": [
    "# Examples from class. We've already added the -1 feature corresponding to w0.\n",
    "# Example from PERCEPTRON.pdf\n",
    "X1 = np.array([[1, -1, -1],\n",
    "               [-1, 1, -1],\n",
    "               [1, 1, -1]])\n",
    "X2 = np.array([[-1, -1, -1]])\n",
    "\n",
    "w, epoch, count = perceptron(X1, X2, 1, -1, 10)\n",
    "print(f\"Final weights: {w}  At epoch: {epoch} Number of correctly classified patterns: {count}\")\n",
    "\n",
    "# Example from lecture notes.\n",
    "X1 = np.array([[1, 0, -1],\n",
    "              [0, 1, -1]])\n",
    "X2 = np.array([[-1, 0, -1]])\n",
    "\n",
    "w, epoch, count = perceptron(X1, X2, 1, -1, 10)\n",
    "print(f\"Final weights: {w}  At epoch: {epoch} Number of correctly classified patterns: {count}\")"
   ]
  },
  {
   "cell_type": "markdown",
   "id": "IFS6VfVZDemL",
   "metadata": {
    "id": "IFS6VfVZDemL"
   },
   "source": [
    "The results match the ones we obtained by doing the calculations by hand."
   ]
  },
  {
   "cell_type": "code",
   "execution_count": 10,
   "id": "13822ae5",
   "metadata": {
    "colab": {
     "base_uri": "https://localhost:8080/",
     "height": 334,
     "resources": {
      "http://localhost:8080/nbextensions/google.colab/files.js": {
       "data": "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",
       "headers": [
        [
         "content-type",
         "application/javascript"
        ]
       ],
       "ok": true,
       "status": 200,
       "status_text": "OK"
      }
     }
    },
    "executionInfo": {
     "elapsed": 29378,
     "status": "ok",
     "timestamp": 1641849278658,
     "user": {
      "displayName": "Valia Mavrikou",
      "photoUrl": "https://lh3.googleusercontent.com/a-/AOh14GjILpHRCIxbMLTJpbXrLUfXeR0D0fq59J9IzlIElg=s64",
      "userId": "01605552294531161702"
     },
     "user_tz": -120
    },
    "id": "13822ae5",
    "outputId": "7922c320-0572-4891-b7a3-8290420b4a8f"
   },
   "outputs": [
    {
     "data": {
      "text/plain": [
       "<bound method NDFrame.head of       SL   SP   PL   PW           Class\n",
       "0    5.1  3.5  1.4  0.2     Iris-setosa\n",
       "1    4.9  3.0  1.4  0.2     Iris-setosa\n",
       "2    4.7  3.2  1.3  0.2     Iris-setosa\n",
       "3    4.6  3.1  1.5  0.2     Iris-setosa\n",
       "4    5.0  3.6  1.4  0.2     Iris-setosa\n",
       "..   ...  ...  ...  ...             ...\n",
       "145  6.7  3.0  5.2  2.3  Iris-virginica\n",
       "146  6.3  2.5  5.0  1.9  Iris-virginica\n",
       "147  6.5  3.0  5.2  2.0  Iris-virginica\n",
       "148  6.2  3.4  5.4  2.3  Iris-virginica\n",
       "149  5.9  3.0  5.1  1.8  Iris-virginica\n",
       "\n",
       "[150 rows x 5 columns]>"
      ]
     },
     "execution_count": 10,
     "metadata": {},
     "output_type": "execute_result"
    }
   ],
   "source": [
    "# Load IRIS PLANT dataset.\n",
    "df = pd.read_csv(\"./UCIdata-exercise1/iris.data\", header = None, names = [\"SL\", \"SP\", \"PL\", \"PW\", \"Class\"])\n",
    "df.head"
   ]
  },
  {
   "cell_type": "code",
   "execution_count": 11,
   "id": "0912b5f7",
   "metadata": {
    "colab": {
     "base_uri": "https://localhost:8080/"
    },
    "executionInfo": {
     "elapsed": 21,
     "status": "ok",
     "timestamp": 1641849278661,
     "user": {
      "displayName": "Valia Mavrikou",
      "photoUrl": "https://lh3.googleusercontent.com/a-/AOh14GjILpHRCIxbMLTJpbXrLUfXeR0D0fq59J9IzlIElg=s64",
      "userId": "01605552294531161702"
     },
     "user_tz": -120
    },
    "id": "0912b5f7",
    "outputId": "2132539e-550f-4a38-9dfe-36b6403b0229"
   },
   "outputs": [
    {
     "name": "stdout",
     "output_type": "stream",
     "text": [
      "(50, 5)   (50, 5)    (50, 5)\n",
      "(100, 5)   (100, 5)    (100, 5)\n"
     ]
    }
   ],
   "source": [
    "# Split dataset to matrices with each matrix containing the data for each type of plant.\n",
    "X_set = df[df.Class=='Iris-setosa'].iloc[:, :4].values\n",
    "X_ver = df[df.Class=='Iris-versicolor'].iloc[:, :4].values\n",
    "X_vir = df[df.Class=='Iris-virginica'].iloc[:, :4].values\n",
    "\n",
    "# Add -1 to the end of each sample.\n",
    "minus_ones_set = -np.ones((X_set.shape[0], 1))\n",
    "minus_ones_ver = -np.ones((X_ver.shape[0], 1))\n",
    "minus_ones_vir = -np.ones((X_vir.shape[0], 1))\n",
    "\n",
    "X_set = np.append(X_set, minus_ones_set, axis=1)\n",
    "X_ver = np.append(X_ver, minus_ones_ver, axis=1)\n",
    "X_vir = np.append(X_vir, minus_ones_vir, axis=1)\n",
    "\n",
    "# Create 3 superclasses by concatenating every pair of classes.\n",
    "X_set_ver = np.concatenate((X_set, X_ver), axis=0)\n",
    "X_set_vir = np.concatenate((X_set, X_vir), axis=0)\n",
    "X_ver_vir = np.concatenate((X_ver, X_vir), axis=0)\n",
    "\n",
    "print(f\"{X_set.shape}   {X_ver.shape}    {X_vir.shape}\")\n",
    "print(f\"{X_set_ver.shape}   {X_set_vir.shape}    {X_ver_vir.shape}\")"
   ]
  },
  {
   "cell_type": "code",
   "execution_count": 12,
   "id": "69ff6825",
   "metadata": {
    "colab": {
     "base_uri": "https://localhost:8080/"
    },
    "executionInfo": {
     "elapsed": 625,
     "status": "ok",
     "timestamp": 1641849279271,
     "user": {
      "displayName": "Valia Mavrikou",
      "photoUrl": "https://lh3.googleusercontent.com/a-/AOh14GjILpHRCIxbMLTJpbXrLUfXeR0D0fq59J9IzlIElg=s64",
      "userId": "01605552294531161702"
     },
     "user_tz": -120
    },
    "id": "69ff6825",
    "outputId": "660749f5-e86b-4664-95f4-f478eb8d4f7d"
   },
   "outputs": [
    {
     "name": "stdout",
     "output_type": "stream",
     "text": [
      "Final weights: [ 1.3  4.1 -5.2 -2.2 -1. ]  At epoch: 4 Number of correctly classified patterns: 150\n",
      "Final weights: [ 38.8 -73.2   6.5 -64.  123. ]  At epoch: 1000 Number of correctly classified patterns: 143\n",
      "Final weights: [-105.7 -128.1  150.5  244.5  180. ]  At epoch: 1000 Number of correctly classified patterns: 148\n"
     ]
    }
   ],
   "source": [
    "# Separating setosa from versicolor+virginica class.\n",
    "w, epoch, count = perceptron(X_set, X_ver_vir, 1, -1, 10)\n",
    "print(f\"Final weights: {w}  At epoch: {epoch} Number of correctly classified patterns: {count}\")\n",
    "\n",
    "# Separating versicolor from setosa+virginica class.\n",
    "w, epoch, count = perceptron(X_ver, X_set_vir, 1, -1, 1000)\n",
    "print(f\"Final weights: {w}  At epoch: {epoch} Number of correctly classified patterns: {count}\")\n",
    "\n",
    "# Separating virginica from setosa+versicolor class.\n",
    "w, epoch, count = perceptron(X_vir, X_set_ver, 1, -1, 1000)\n",
    "print(f\"Final weights: {w}  At epoch: {epoch} Number of correctly classified patterns: {count}\")"
   ]
  },
  {
   "cell_type": "markdown",
   "id": "P4dRkQ42EY-h",
   "metadata": {
    "id": "P4dRkQ42EY-h"
   },
   "source": [
    "After running the perceptron algorithm on the dataset, it is clear that the setosa class is linearly separable from the other two classes. The algorithm has converged in a small number of epochs and the separating hyperplane is: $1.3\\cdot x_1+4.1\\cdot x_2 -5.2\\cdot x_3 -2.2\\cdot x_4 +1 =0$\n",
    "\n",
    "As for the other two classes, they are not linearly separable from the other \"super\"classes. After running the algorithm 1000 epochs, we still have misclassified points (7 and 2 respectively). If we allow such a small margin of error (~5%) we can state that we indeed found a separaring hyperplane for each one of these two classes."
   ]
  }
 ],
 "metadata": {
  "colab": {
   "collapsed_sections": [],
   "name": "2.4.ipynb",
   "provenance": []
  },
  "kernelspec": {
   "display_name": "Python 3 (ipykernel)",
   "language": "python",
   "name": "python3"
  },
  "language_info": {
   "codemirror_mode": {
    "name": "ipython",
    "version": 3
   },
   "file_extension": ".py",
   "mimetype": "text/x-python",
   "name": "python",
   "nbconvert_exporter": "python",
   "pygments_lexer": "ipython3",
   "version": "3.9.5"
  }
 },
 "nbformat": 4,
 "nbformat_minor": 5
}
