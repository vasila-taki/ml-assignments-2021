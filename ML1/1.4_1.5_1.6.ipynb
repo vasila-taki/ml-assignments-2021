{
 "cells": [
  {
   "cell_type": "markdown",
   "id": "734403d4",
   "metadata": {
    "id": "734403d4"
   },
   "source": [
    "## Global Imports"
   ]
  },
  {
   "cell_type": "code",
   "execution_count": 26,
   "id": "2af394fb",
   "metadata": {
    "executionInfo": {
     "elapsed": 8,
     "status": "ok",
     "timestamp": 1641847345914,
     "user": {
      "displayName": "Valia Mavrikou",
      "photoUrl": "https://lh3.googleusercontent.com/a-/AOh14GjILpHRCIxbMLTJpbXrLUfXeR0D0fq59J9IzlIElg=s64",
      "userId": "01605552294531161702"
     },
     "user_tz": -120
    },
    "id": "2af394fb"
   },
   "outputs": [],
   "source": [
    "import numpy as np\n",
    "import matplotlib.pyplot as plt\n",
    "from numpy import array  \n",
    "from numpy.linalg import norm "
   ]
  },
  {
   "cell_type": "markdown",
   "id": "8662278f",
   "metadata": {
    "id": "8662278f"
   },
   "source": [
    "## Functions used in Problem 1 - Questions 4, 5, 6"
   ]
  },
  {
   "cell_type": "code",
   "execution_count": 27,
   "id": "a3eded1c",
   "metadata": {
    "executionInfo": {
     "elapsed": 348,
     "status": "ok",
     "timestamp": 1641847348173,
     "user": {
      "displayName": "Valia Mavrikou",
      "photoUrl": "https://lh3.googleusercontent.com/a-/AOh14GjILpHRCIxbMLTJpbXrLUfXeR0D0fq59J9IzlIElg=s64",
      "userId": "01605552294531161702"
     },
     "user_tz": -120
    },
    "id": "a3eded1c"
   },
   "outputs": [],
   "source": [
    "def generate_phi(x, thetas_len):\n",
    "    \"\"\"\n",
    "        Generates small phi matrix, containing a sample of the training set, raised to the appropriate powers,\n",
    "        according to the theta vector we are using.\n",
    "        Matrix size: (l+1)*1\n",
    "    \"\"\"\n",
    "    \n",
    "    # powers = [1,2,3...0]\n",
    "    powers = np.concatenate([np.arange(1, thetas_len), np.array([0])])\n",
    "    # Tiles x and the resulting vector's size is 1*(l+1).\n",
    "    tiled_x = np.tile(x, thetas_len)\n",
    "\n",
    "    return np.reshape(np.power(tiled_x, powers), (thetas_len,1))"
   ]
  },
  {
   "cell_type": "code",
   "execution_count": 28,
   "id": "1fcbc054",
   "metadata": {
    "executionInfo": {
     "elapsed": 5,
     "status": "ok",
     "timestamp": 1641847349998,
     "user": {
      "displayName": "Valia Mavrikou",
      "photoUrl": "https://lh3.googleusercontent.com/a-/AOh14GjILpHRCIxbMLTJpbXrLUfXeR0D0fq59J9IzlIElg=s64",
      "userId": "01605552294531161702"
     },
     "user_tz": -120
    },
    "id": "1fcbc054"
   },
   "outputs": [],
   "source": [
    "def generate_big_phi(x, thetas_len, N):\n",
    "    \"\"\"\n",
    "        Generates big phi matrix, containing all samples in training set, raised to the appropriate power. \n",
    "        Matrix size: N*(l+1), N: Training set size, l: Number of features in theta vector (theta_len)\n",
    "    \"\"\"\n",
    "    \n",
    "    # powers = [1,2,...thetas_len,0\n",
    "    #              ...\n",
    "    #          1,2,...thetas_len,0]    \n",
    "    powers = np.tile(np.concatenate([np.arange(1, thetas_len), np.array([0])]), (N,1))\n",
    "    \n",
    "    # Tiles each value in x vector (thetas_len+1) times. The resulting matrix is size N*(l+1).\n",
    "    tiled_x = np.tile(x, (1, powers.shape[1]))\n",
    "    \n",
    "    # Element-wise power of matrix tiled_x to powers matrix.\n",
    "    return np.power(tiled_x, powers)"
   ]
  },
  {
   "cell_type": "code",
   "execution_count": 29,
   "id": "53ea47a4",
   "metadata": {
    "executionInfo": {
     "elapsed": 878,
     "status": "ok",
     "timestamp": 1641847352580,
     "user": {
      "displayName": "Valia Mavrikou",
      "photoUrl": "https://lh3.googleusercontent.com/a-/AOh14GjILpHRCIxbMLTJpbXrLUfXeR0D0fq59J9IzlIElg=s64",
      "userId": "01605552294531161702"
     },
     "user_tz": -120
    },
    "id": "53ea47a4"
   },
   "outputs": [],
   "source": [
    "def calculate_y(x, thetas, N, noise_variance=-0.1):\n",
    "    \"\"\"\n",
    "        Calculates vector y, containing the observations or predictions, using the relationship: y=big_phi*thetas\n",
    "        Matrix size: (N,1)\n",
    "        If we want to apply gaussian noise to generate synthetic observations, we pass a positive\n",
    "            noise variance as the last argument of the function.\n",
    "        \n",
    "    \"\"\"\n",
    "    big_phi = generate_big_phi(x, len(thetas), N)\n",
    "    \n",
    "    y = np.matmul(big_phi, thetas)\n",
    "\n",
    "    if noise_variance > 0:\n",
    "        gaussian_noise = np.random.normal(0, np.sqrt(noise_variance), N).reshape((N,1))\n",
    "        y_withnoise = y + gaussian_noise\n",
    "        return y_withnoise\n",
    "    else:\n",
    "        return y"
   ]
  },
  {
   "cell_type": "code",
   "execution_count": 30,
   "id": "e509111d",
   "metadata": {
    "executionInfo": {
     "elapsed": 6,
     "status": "ok",
     "timestamp": 1641847354139,
     "user": {
      "displayName": "Valia Mavrikou",
      "photoUrl": "https://lh3.googleusercontent.com/a-/AOh14GjILpHRCIxbMLTJpbXrLUfXeR0D0fq59J9IzlIElg=s64",
      "userId": "01605552294531161702"
     },
     "user_tz": -120
    },
    "id": "e509111d"
   },
   "outputs": [],
   "source": [
    "def calculate_m_th_given_y(theta_0, theta, theta_variance, noise_variance, N_train):\n",
    "    \"\"\"\n",
    "        Calculates μ_θ|y using the formulas in Bayesian Linear Regression-Gaussian.pdf\n",
    "    \"\"\"\n",
    "    \n",
    "    x_train = np.linspace(0, 2, num=N_train).reshape((N_train, 1))\n",
    "    y_train = calculate_y(x_train, theta_0, N_train, noise_variance)\n",
    "    big_phi = generate_big_phi(x_train, len(theta), N_train)    \n",
    "\n",
    "    eye = np.eye(len(theta))\n",
    "    \n",
    "    x1 = 1/theta_variance * eye + 1/noise_variance * np.matmul(big_phi.transpose(), big_phi)\n",
    "    x1_inv = np.linalg.inv(x1)\n",
    "\n",
    "    x2 = np.matmul(big_phi.transpose(), y_train - np.matmul(big_phi, theta))\n",
    "    x3 = 1/noise_variance * np.matmul(x1_inv, x2)\n",
    "\n",
    "    m_th_given_y = theta + x3\n",
    "    \n",
    "    return m_th_given_y, big_phi  "
   ]
  },
  {
   "cell_type": "code",
   "execution_count": 31,
   "id": "9075ddef",
   "metadata": {
    "executionInfo": {
     "elapsed": 924,
     "status": "ok",
     "timestamp": 1641847356860,
     "user": {
      "displayName": "Valia Mavrikou",
      "photoUrl": "https://lh3.googleusercontent.com/a-/AOh14GjILpHRCIxbMLTJpbXrLUfXeR0D0fq59J9IzlIElg=s64",
      "userId": "01605552294531161702"
     },
     "user_tz": -120
    },
    "id": "9075ddef"
   },
   "outputs": [],
   "source": [
    "def calculate_means_variances(x_test, m_th_given_y, big_phi, theta_variance, noise_variance, thetas_len):\n",
    "    \"\"\"\n",
    "        Calculates means and variances for each sample in the test set using the formulas \n",
    "            in Bayesian Linear Regression-Gaussian.pdf\n",
    "    \"\"\"\n",
    "    \n",
    "    means = np.zeros((len(x_test), 1))\n",
    "    variances = np.zeros((len(x_test), 1))\n",
    "    eye = np.eye(thetas_len)\n",
    "\n",
    "    for i in range(N_test):\n",
    "        phi = generate_phi(x_test[i], thetas_len)\n",
    "        means[i] = np.matmul(phi.transpose(), m_th_given_y)\n",
    "        \n",
    "        x1 = noise_variance * eye + theta_variance * np.matmul(big_phi.transpose(), big_phi)\n",
    "        x1_inv = np.linalg.inv(x1)\n",
    "        x2 = np.matmul(phi.transpose(), x1_inv)\n",
    "        variances[i] = noise_variance + noise_variance * theta_variance * np.matmul(x2, phi)\n",
    "        \n",
    "    return means, variances"
   ]
  },
  {
   "cell_type": "markdown",
   "id": "44e6111d",
   "metadata": {
    "id": "44e6111d"
   },
   "source": [
    "## Problem 1 - Questions 4, 5\n",
    "\n",
    "For Questions 4,5, we encoded our prior knowledge for the unknown parameter vector to a Gaussian having a mean vector $\\theta_0$ (different for each question) and covariance matrix $\\Sigma_\\theta=\\sigma_\\theta^2I$. We performed full Bayesian inference using the formulas in \"Bayesian Linear Regression-Gaussian.pdf\" in e-class to evaluate the y value for 20 randomly selected points in [0,2], using $N_{train}$ points for the calculation.\n",
    "\n",
    "We used different combinations of the variance of the prior knowledge of theta $\\sigma_\\theta^2$, the noise variance $\\sigma_\\eta^2$, our estimation of the parameter vector $\\theta_0$ and the number of training points $N_{train}$ which can be summarized as:\n",
    "\n",
    "- Question 4 : Parameter vector $\\theta_0$ equal to the true theta vector $\\theta_{true}$ used in the other questions, $\\sigma_\\theta^2=0.1$, $N_{train}=20$. We examined:\n",
    "    - $\\sigma_\\eta^2=0.05$\n",
    "    - $\\sigma_\\eta^2=0.15$\n",
    "- Question 5 : Parameter vector $\\theta_0$ not equal to the true theta vector $\\theta_{true}$, $\\sigma_\\eta^2=0.05$. We examined:\n",
    "    - $\\sigma_\\theta^2=0.1$, $N_{train}=20$\n",
    "    - $\\sigma_\\theta^2=0.1$, $N_{train}=500$\n",
    "    - $\\sigma_\\theta^2=2$, $N_{train}=20$\n",
    "    - $\\sigma_\\theta^2=2$, $N_{train}=500$"
   ]
  },
  {
   "cell_type": "markdown",
   "id": "ba8db62a",
   "metadata": {
    "id": "ba8db62a"
   },
   "source": [
    "## Problem 1 - Question 4"
   ]
  },
  {
   "cell_type": "code",
   "execution_count": 32,
   "id": "19174b75",
   "metadata": {
    "id": "19174b75"
   },
   "outputs": [],
   "source": [
    "# Parameters\n",
    "\n",
    "# True theta : theta1, theta2, ..., theta5, theta0\n",
    "theta_true = np.array([-1, 0.9, 0.7, 0, -0.2, 0.2]).reshape((6,1))\n",
    "\n",
    "# N_train_1 : Question 4\n",
    "N_train_1 = 20\n",
    "N_test = 20\n",
    "\n",
    "#Prior knowledge:  theta_1 : Question 4\n",
    "theta_0 = theta_true\n",
    "\n",
    "#Theta variance:  theta_variance_1 : Question 4\n",
    "theta_variance_1 = 0.1\n",
    "\n",
    "#Noise variance:  noise_variance_1 : Question 4a, noise_variance_2 : Question 4b\n",
    "noise_variance_1 = 0.05\n",
    "noise_variance_2 = 0.15"
   ]
  },
  {
   "cell_type": "code",
   "execution_count": 33,
   "id": "a6192697",
   "metadata": {
    "id": "a6192697"
   },
   "outputs": [],
   "source": [
    "# Combinations of variances for Question 4.\n",
    "combinations_1 = [(theta_variance_1, noise_variance_1),\n",
    "               (theta_variance_1, noise_variance_2)]\n",
    "\n",
    "means_collection_1 = []\n",
    "variances_collection_1 = []"
   ]
  },
  {
   "cell_type": "code",
   "execution_count": 34,
   "id": "3e5386d0",
   "metadata": {
    "id": "3e5386d0"
   },
   "outputs": [],
   "source": [
    "# Test vector and true vector (only used for plotting).\n",
    "x_test = np.sort(2 * np.random.sample(N_test)).reshape((N_test, 1))\n",
    "\n",
    "x_true = np.linspace(0, 2, num=1000).reshape((1000, 1))\n",
    "y_true = calculate_y(x_true, theta_true, 1000)"
   ]
  },
  {
   "cell_type": "code",
   "execution_count": 35,
   "id": "a3de9efa",
   "metadata": {
    "id": "a3de9efa"
   },
   "outputs": [],
   "source": [
    "# Bayesian inference on a train set.\n",
    "# Appending results to vectors which will collect the means and variances from the 4 experiments.\n",
    "for index, comb in enumerate(combinations_1):    \n",
    "    \n",
    "    m_th_given_y, big_phi = calculate_m_th_given_y(theta_true, theta_0, comb[0], comb[1], N_train_1)\n",
    "    means, variances = calculate_means_variances(x_test, m_th_given_y, big_phi, comb[0], comb[1], len(theta_0))\n",
    "\n",
    "    means_collection_1.append(means)\n",
    "    variances_collection_1.append(variances)"
   ]
  },
  {
   "cell_type": "code",
   "execution_count": 36,
   "id": "b7d8c664",
   "metadata": {
    "colab": {
     "base_uri": "https://localhost:8080/",
     "height": 342
    },
    "executionInfo": {
     "elapsed": 464,
     "status": "ok",
     "timestamp": 1641847285640,
     "user": {
      "displayName": "Vasilis Kalekis",
      "photoUrl": "https://lh3.googleusercontent.com/a/default-user=s64",
      "userId": "03941487579091556456"
     },
     "user_tz": -120
    },
    "id": "b7d8c664",
    "outputId": "0678d51f-8020-42ff-b381-921e0a40100d"
   },
   "outputs": [
    {
     "data": {
      "image/png": "[encoded data removed]",
      "text/plain": [
       "<Figure size 720x360 with 2 Axes>"
      ]
     },
     "metadata": {
      "needs_background": "light"
     },
     "output_type": "display_data"
    }
   ],
   "source": [
    "fig, axs = plt.subplots(1,2, figsize=(10,5))\n",
    "\n",
    "custom_ylim = (-1, 2.5)\n",
    "plt.setp(axs, ylim=custom_ylim)\n",
    "\n",
    "for index in range(len(means_collection_1)):\n",
    "    axs[index].plot(x_true, y_true, c='green')\n",
    "\n",
    "    axs[index].errorbar(x_test, \n",
    "                        means_collection_1[index], \n",
    "                        yerr=np.squeeze(np.sqrt(variances_collection_1[index])), \n",
    "                        fmt='.', capsize=5)\n",
    "\n",
    "\n",
    "axs[0].title.set_text(r'Prior knowledge: $\\theta_0=\\theta_{true}$, $\\sigma^2_\\theta=0.1$, $\\sigma^2_\\eta=0.05$')\n",
    "axs[1].title.set_text(r'Prior knowledge: $\\theta_0=\\theta_{true}$, $\\sigma^2_\\theta=0.1$, $\\sigma^2_\\eta=0.15$')"
   ]
  },
  {
   "cell_type": "markdown",
   "id": "1b0a4160",
   "metadata": {
    "id": "1b0a4160"
   },
   "source": [
    "## Comments\n",
    "\n",
    "Here, the hunch we have for theta is a very good one, in fact it is 100% accurate. That leads to a good fit of the resulting curves, even though the number of training points is small. If we increase the noise variance in the train data (Second plot), the error bars become larger, showing the growing uncertainty of the model's prediction of the y values.\n"
   ]
  },
  {
   "cell_type": "markdown",
   "id": "e47533ea",
   "metadata": {
    "id": "e47533ea"
   },
   "source": [
    "## Problem 1 - Question 5"
   ]
  },
  {
   "cell_type": "code",
   "execution_count": 37,
   "id": "60540ae1",
   "metadata": {
    "id": "60540ae1"
   },
   "outputs": [],
   "source": [
    "# Parameters\n",
    "\n",
    "# True theta : theta1, theta2, ..., theta5, theta0\n",
    "theta_true = np.array([-1, 0.9, 0.7, 0, -0.2, 0.2]).reshape((6,1))\n",
    "\n",
    "# N_train_1 : Question 5a, N_train_2 : Question 5b\n",
    "N_train_1 = 20\n",
    "N_train_2 = 500\n",
    "N_test = 20\n",
    "\n",
    "#Prior knowledge:  \n",
    "theta_0 = np.array([0.465, 0.0087, -0.093, -0.004, -10.54]).reshape((5,1))\n",
    "\n",
    "#Theta variance:  theta_variance_1 : Question 5a, theta_variance_2 : Question 5b \n",
    "theta_variance_1 = 0.1\n",
    "theta_variance_2 = 2\n",
    "\n",
    "#Noise variance:  noise_variance_1 : Question 5\n",
    "noise_variance_1 = 0.05"
   ]
  },
  {
   "cell_type": "code",
   "execution_count": 38,
   "id": "eebf74f9",
   "metadata": {
    "id": "eebf74f9"
   },
   "outputs": [],
   "source": [
    "# Combinations of train points and theta variances for Question 5.\n",
    "combinations_2 = [(N_train_1, theta_variance_1),\n",
    "               (N_train_1, theta_variance_2),\n",
    "               (N_train_2, theta_variance_1),\n",
    "               (N_train_2, theta_variance_2)]\n",
    "\n",
    "means_collection_2 = []\n",
    "variances_collection_2 = []"
   ]
  },
  {
   "cell_type": "code",
   "execution_count": 39,
   "id": "79339994",
   "metadata": {
    "id": "79339994"
   },
   "outputs": [],
   "source": [
    "# Test vector and true vector (only used for plotting).\n",
    "x_test = np.sort(2 * np.random.sample(N_test)).reshape((N_test, 1))\n",
    "\n",
    "x_true = np.linspace(0, 2, num=1000).reshape((1000, 1))\n",
    "y_true = calculate_y(x_true, theta_true, 1000)"
   ]
  },
  {
   "cell_type": "code",
   "execution_count": 40,
   "id": "63c258cc",
   "metadata": {
    "id": "63c258cc"
   },
   "outputs": [],
   "source": [
    "# Bayesian inference on a train set.\n",
    "# Appending results to vectors which will collect the means and variances from the 4 experiments.\n",
    "for index, comb in enumerate(combinations_2):\n",
    "    \n",
    "    m_th_given_y, big_phi = calculate_m_th_given_y(theta_true, theta_0, comb[1], noise_variance_1, comb[0])\n",
    "    means, variances = calculate_means_variances(x_test, m_th_given_y, big_phi, comb[1], noise_variance_1, len(theta_0))\n",
    "\n",
    "    means_collection_2.append(means)\n",
    "    variances_collection_2.append(variances)"
   ]
  },
  {
   "cell_type": "code",
   "execution_count": 41,
   "id": "35b7cee9",
   "metadata": {
    "colab": {
     "base_uri": "https://localhost:8080/",
     "height": 613
    },
    "executionInfo": {
     "elapsed": 1642,
     "status": "ok",
     "timestamp": 1641847287254,
     "user": {
      "displayName": "Vasilis Kalekis",
      "photoUrl": "https://lh3.googleusercontent.com/a/default-user=s64",
      "userId": "03941487579091556456"
     },
     "user_tz": -120
    },
    "id": "35b7cee9",
    "outputId": "328db0bc-327e-44b0-d92e-d3954dcd89c7"
   },
   "outputs": [
    {
     "data": {
      "image/png": "[encoded data removed]",
      "text/plain": [
       "<Figure size 720x720 with 4 Axes>"
      ]
     },
     "metadata": {
      "needs_background": "light"
     },
     "output_type": "display_data"
    }
   ],
   "source": [
    "fig, axs = plt.subplots(2,2, figsize=(10,10))\n",
    "\n",
    "custom_ylim = (-1.5, 2.5)\n",
    "plt.setp(axs, ylim=custom_ylim)\n",
    "\n",
    "for index in range(len(means_collection_2)):\n",
    "    axs[index//2, index%2].plot(x_true, y_true, c='green')\n",
    "\n",
    "    axs[index//2, index%2].errorbar(x_test, \n",
    "                                    means_collection_2[index], \n",
    "                                    yerr=np.squeeze(np.sqrt(variances_collection_2[index])), \n",
    "                                    fmt='.', capsize=5)\n",
    "\n",
    "\n",
    "axs[0, 0].title.set_text(r'Prior: $\\theta_0\\neq \\theta_{true}$, $\\sigma^2_\\eta=0.05$, $\\sigma^2_\\theta=0.1$, $N_{train}=20$')\n",
    "axs[0, 1].title.set_text(r'Prior: $\\theta_0\\neq \\theta_{true}$, $\\sigma^2_\\eta=0.05$, $\\sigma^2_\\theta=2$, $N_{train}=20$')\n",
    "axs[1, 0].title.set_text(r'Prior: $\\theta_0\\neq \\theta_{true}$, $\\sigma^2_\\eta=0.05$, $\\sigma^2_\\theta=0.1$, $N_{train}=500$')\n",
    "axs[1, 1].title.set_text(r'Prior: $\\theta_0\\neq \\theta_{true}$, $\\sigma^2_\\eta=0.05$, $\\sigma^2_\\theta=2$, $N_{train}=500$')"
   ]
  },
  {
   "cell_type": "markdown",
   "id": "cPE6W2emwh8C",
   "metadata": {
    "id": "cPE6W2emwh8C"
   },
   "source": [
    "## Comments\n",
    "\n",
    "In this case, we don't have a good hunch about theta as we had previously. \n",
    "\n",
    "* For a small number of training points ($N_{train}=20$) and not allowing a large enough variance around the prior knowledge, the model fails to fit in a satisfactory amount the true curve (First plot). Due to the small number of training points, the only useful information is the a-priori estimation of theta which is not close to the true value. By increasing the theta variance to 2, we get better results as the model is allowed to move more from the prior knowledge of theta to a position closer to the true theta (Second plot). The fit obtained is a better one than the first case, but not perfect.\n",
    "\n",
    "* For a large training set ($N_{train}=500$), its distribution is the dominant factor and overcomes the wrong a-priori information we have. The training set is large enough that no other information is needed to provide a good fit of the true curve (we practically end up with an ML estimator). That it true for either small (Third plot) or large variance of theta (Fourth plot) and we can clearly see that the large variance of the theta estimation doesn't play a big part in improving the results."
   ]
  },
  {
   "cell_type": "markdown",
   "id": "24aef45b",
   "metadata": {
    "id": "24aef45b"
   },
   "source": [
    "## Functions used in Problem 1 - Question 6"
   ]
  },
  {
   "cell_type": "code",
   "execution_count": 42,
   "id": "Q5A1rgUZ9-HL",
   "metadata": {
    "executionInfo": {
     "elapsed": 12,
     "status": "ok",
     "timestamp": 1641847371703,
     "user": {
      "displayName": "Valia Mavrikou",
      "photoUrl": "https://lh3.googleusercontent.com/a-/AOh14GjILpHRCIxbMLTJpbXrLUfXeR0D0fq59J9IzlIElg=s64",
      "userId": "01605552294531161702"
     },
     "user_tz": -120
    },
    "id": "Q5A1rgUZ9-HL"
   },
   "outputs": [],
   "source": [
    "def calculate_m_s_th_given_y(alpha, beta, big_phi, y, thetas_len):\n",
    "    \"\"\"\n",
    "        Calculates mean vector μ_θ|y and covariance matrix Σ_θ|y at iteration j.\n",
    "    \"\"\"\n",
    "    eye = np.eye(thetas_len)\n",
    "    x1 = alpha * eye + beta * np.matmul(big_phi.transpose(), big_phi)\n",
    "    s = np.linalg.inv(x1)\n",
    "    \n",
    "    x2 = np.matmul(s, big_phi.transpose())\n",
    "    m = beta * np.matmul(x2, y)\n",
    "    \n",
    "    return m, s  "
   ]
  },
  {
   "cell_type": "code",
   "execution_count": 43,
   "id": "px2LmNj4C5vE",
   "metadata": {
    "executionInfo": {
     "elapsed": 7,
     "status": "ok",
     "timestamp": 1641847375849,
     "user": {
      "displayName": "Valia Mavrikou",
      "photoUrl": "https://lh3.googleusercontent.com/a-/AOh14GjILpHRCIxbMLTJpbXrLUfXeR0D0fq59J9IzlIElg=s64",
      "userId": "01605552294531161702"
     },
     "user_tz": -120
    },
    "id": "px2LmNj4C5vE"
   },
   "outputs": [],
   "source": [
    "def calculate_A_B(alpha, beta, big_phi, y, thetas_len):\n",
    "    \"\"\"\n",
    "        Calculates A and B at iteration j.\n",
    "    \"\"\"\n",
    "    \n",
    "    m, s = calculate_m_s_th_given_y(alpha, beta, big_phi, y, thetas_len)\n",
    "    A = pow(norm(m,2),2) + s.trace()\n",
    "\n",
    "    x1 = np.matmul(big_phi, m) \n",
    "    x2 = y - x1\n",
    "    x3 = np.matmul(big_phi, s)\n",
    "    x4 = np.matmul(x3, big_phi.transpose())\n",
    "    B = pow(norm(x2,2),2) + x4.trace()\n",
    "    \n",
    "    return A,B  "
   ]
  },
  {
   "cell_type": "code",
   "execution_count": 44,
   "id": "toIPjjv3jJK2",
   "metadata": {
    "executionInfo": {
     "elapsed": 8,
     "status": "ok",
     "timestamp": 1641847379021,
     "user": {
      "displayName": "Valia Mavrikou",
      "photoUrl": "https://lh3.googleusercontent.com/a-/AOh14GjILpHRCIxbMLTJpbXrLUfXeR0D0fq59J9IzlIElg=s64",
      "userId": "01605552294531161702"
     },
     "user_tz": -120
    },
    "id": "toIPjjv3jJK2"
   },
   "outputs": [],
   "source": [
    "def implement_E_M(alpha, beta, big_phi, y, N_train, thetas_len, threshold):\n",
    "    \"\"\"\n",
    "        Implementation of Expectation Maximization method. \n",
    "        The values a_j and b_j are initialized to a and b respectively and the calculations\n",
    "            are performed while the correspoding differences are larger than a given threshold.\n",
    "    \"\"\"\n",
    "\n",
    "    s_n = []\n",
    "    num_it = []\n",
    "    a_j = alpha\n",
    "    b_j = beta\n",
    "    num_it.append(0)\n",
    "    s_n.append(1 / b_j)\n",
    "    A, B = calculate_A_B(a_j, b_j, big_phi, y, thetas_len)\n",
    "    a_jp1 = (big_phi.ndim) / A\n",
    "    b_jp1 = N_train / B\n",
    "    j = 1\n",
    "    num_it.append(j)\n",
    "    s_n.append(1 / b_jp1)\n",
    "    print(f\"Iter: {j}, a_j={a_j:.6f}, a_(j+1)={a_jp1:.6f}, b_j={b_j:.6f}, b_(j+1)={b_jp1:.6f}\")\n",
    "\n",
    "    while (abs(a_jp1 - a_j) > threshold) and (abs(b_jp1 - b_j) > threshold):\n",
    "        A, B = calculate_A_B(a_jp1, b_jp1, big_phi, y, thetas_len)\n",
    "        a_j = a_jp1\n",
    "        a_jp1 = (big_phi.ndim) / A\n",
    "        b_j = b_jp1\n",
    "        b_jp1 = N_train / B\n",
    "        j += 1\n",
    "        num_it.append(j)\n",
    "        s_n.append(1 / b_jp1)\n",
    "        print(f\"Iter: {j}, a_j={a_j:.6f}, a_(j+1)={a_jp1:.6f}, b_j={b_j:.6f}, b_(j+1)={b_jp1:.6f}\")\n",
    "\n",
    "    return a_jp1, b_jp1, num_it, s_n "
   ]
  },
  {
   "cell_type": "markdown",
   "id": "9jFN3DUSsrPh",
   "metadata": {
    "id": "9jFN3DUSsrPh"
   },
   "source": [
    "## Problem 1 - Question 6\n",
    "\n",
    "We consider $N_{train} = 500$ equidistant points in the interval [0,2] which will be our x_train, and we feed them to our true model (using $\\sigma_\\eta^2$ = 0.05) in order to get our y_train, and so we have constructed a training set.\n",
    "Given only this training set, the only random variable we can directly observe is y. Random variable $\\vec{\\theta}$ can't be directly observed, and so we call it a latent variable. We don't know $\\vec{\\theta}$, but we will use as prior knowledge that $\\vec{\\theta_0} = 0$ (even if we really know that it is not a good estimate).  We will also consider that $\\vec{\\theta}$ has the same dimensionality with the parameter vector of our true model).\n",
    "So, given the above, from the full Bayesian inference we can derive estimates:\n",
    "\n",
    "$μ_{θ|y} = bΣ_{θ|y}Φ^{T}Y$, $Σ_{θ|y} = (aI + bΦ^{Τ}Φ)^{-1}$ and we have also defined the variables $a=\\frac{1}{\\sigma_\\theta^2}$ and $b=\\frac{1}{\\sigma_\\eta^2}$. \n",
    "\n",
    "We can easily observe that we cant have our estimates, unless we know the values of $a$ and $b$.\n",
    "\n",
    "For this, we will employ the EM algorithm which is a tool we use to maximize the likelihood function for problems with latent variables. It is an iterative process, during which we begin by initializing a and b with some arbitrary positive values  $a^{(0)}$ and $b^{(0)}$, and the algorithm goes on until it converges to some values $a^{(n)}$ and $b^{(n)}$.\n",
    "\n",
    "\n",
    "\n"
   ]
  },
  {
   "cell_type": "code",
   "execution_count": 45,
   "id": "Yr6uyRjBuNPA",
   "metadata": {
    "executionInfo": {
     "elapsed": 8,
     "status": "ok",
     "timestamp": 1641847385383,
     "user": {
      "displayName": "Valia Mavrikou",
      "photoUrl": "https://lh3.googleusercontent.com/a-/AOh14GjILpHRCIxbMLTJpbXrLUfXeR0D0fq59J9IzlIElg=s64",
      "userId": "01605552294531161702"
     },
     "user_tz": -120
    },
    "id": "Yr6uyRjBuNPA"
   },
   "outputs": [],
   "source": [
    "# Parameters\n",
    "N_train = 500\n",
    "noise_variance = 0.05\n",
    "thetas = np.array([-1, 0.9, 0.7, 0, -0.2, 0.2]).reshape((6,1))\n",
    "threshold = 0.0095\n",
    "\n",
    "# Train vectors\n",
    "x_train = np.linspace(0, 2, num=N_train).reshape((N_train, 1))\n",
    "big_phi = generate_big_phi(x_train, len(thetas), N_train) \n",
    "y_train = calculate_y(x_train, thetas, N_train, noise_variance)"
   ]
  },
  {
   "cell_type": "code",
   "execution_count": 46,
   "id": "vNmYnWknzlR_",
   "metadata": {
    "colab": {
     "base_uri": "https://localhost:8080/"
    },
    "executionInfo": {
     "elapsed": 345,
     "status": "ok",
     "timestamp": 1641847388297,
     "user": {
      "displayName": "Valia Mavrikou",
      "photoUrl": "https://lh3.googleusercontent.com/a-/AOh14GjILpHRCIxbMLTJpbXrLUfXeR0D0fq59J9IzlIElg=s64",
      "userId": "01605552294531161702"
     },
     "user_tz": -120
    },
    "id": "vNmYnWknzlR_",
    "outputId": "ec18f666-9dd5-4eb3-a5e2-eac858df583d"
   },
   "outputs": [
    {
     "name": "stdout",
     "output_type": "stream",
     "text": [
      "Iter: 1, a_j=1.000000, a_(j+1)=0.733339, b_j=1.000000, b_(j+1)=17.260133\n",
      "Iter: 2, a_j=0.733339, a_(j+1)=0.485210, b_j=17.260133, b_(j+1)=20.283481\n",
      "Iter: 3, a_j=0.485210, a_(j+1)=0.402795, b_j=20.283481, b_(j+1)=20.323842\n",
      "Iter: 4, a_j=0.402795, a_(j+1)=0.370767, b_j=20.323842, b_(j+1)=20.325199\n",
      "Final values: a=0.370767, b=20.3252\n",
      "From E-M algorithm: theta variance=2.69712, noise variance=0.0492\n"
     ]
    }
   ],
   "source": [
    "# Run EM method.\n",
    "a_0 = 1.0\n",
    "b_0 = 1.0\n",
    "\n",
    "a, b, num_it, s_n = implement_E_M(a_0, b_0, big_phi, y_train, N_train, len(thetas), threshold)\n",
    "print(f\"Final values: a={a:.6}, b={b:.6}\")\n",
    "print(f\"From E-M algorithm: theta variance={1/a:.6}, noise variance={1/b:.6}\")"
   ]
  },
  {
   "cell_type": "markdown",
   "id": "DjvYuxJNv5z_",
   "metadata": {
    "id": "DjvYuxJNv5z_"
   },
   "source": [
    "## Comments\n",
    "We observe that the value we obtained for $\\sigma_\\eta^2$ is very close to the value of the noise variance 0.05 we used on our true model."
   ]
  },
  {
   "cell_type": "code",
   "execution_count": 47,
   "id": "hYM8KJJ4q5mX",
   "metadata": {
    "colab": {
     "base_uri": "https://localhost:8080/",
     "height": 296
    },
    "executionInfo": {
     "elapsed": 495,
     "status": "ok",
     "timestamp": 1641847399977,
     "user": {
      "displayName": "Valia Mavrikou",
      "photoUrl": "https://lh3.googleusercontent.com/a-/AOh14GjILpHRCIxbMLTJpbXrLUfXeR0D0fq59J9IzlIElg=s64",
      "userId": "01605552294531161702"
     },
     "user_tz": -120
    },
    "id": "hYM8KJJ4q5mX",
    "outputId": "484d31f8-d9f3-4bf8-9200-2392d4fc394e"
   },
   "outputs": [
    {
     "data": {
      "text/plain": [
       "Text(0, 0.5, '$\\\\sigma_\\\\eta^2$')"
      ]
     },
     "execution_count": 47,
     "metadata": {},
     "output_type": "execute_result"
    },
    {
     "data": {
      "image/png": "[encoded data removed]",
      "text/plain": [
       "<Figure size 432x288 with 1 Axes>"
      ]
     },
     "metadata": {
      "needs_background": "light"
     },
     "output_type": "display_data"
    }
   ],
   "source": [
    "fig = plt.figure()\n",
    "plt.plot(num_it, s_n, c = \"green\")\n",
    "\n",
    "plt.xlabel('num of iterations')\n",
    "plt.ylabel('$\\sigma_\\eta^2$')"
   ]
  },
  {
   "cell_type": "markdown",
   "id": "bN8XiYYhwl8J",
   "metadata": {
    "id": "bN8XiYYhwl8J"
   },
   "source": [
    "With those optimal values for $σ^{-2}_{θ}$ and $σ^{-2}_{η}$ we obtained from EM, we perform predictions of the output variables y’s and their errors over a test set of 20 points we randomly select in the interval [0,2], using:\n",
    "\n",
    "\n",
    "$μ_{y} = φ^{Τ}(x)μ_{θ|y}%$\n",
    "\n",
    "$σ^{2}_{y} = σ^{2}_{η} + σ^{2}_{η}σ^{2}_{θ}φ^{Τ}(x)(σ^{2}_{η}Ι + σ^{2}_{θ}Φ^{Τ}Φ)^{-1}φ^{Τ}(x)$"
   ]
  },
  {
   "cell_type": "code",
   "execution_count": 48,
   "id": "lvWMzTAiPenA",
   "metadata": {
    "executionInfo": {
     "elapsed": 569,
     "status": "ok",
     "timestamp": 1641847403439,
     "user": {
      "displayName": "Valia Mavrikou",
      "photoUrl": "https://lh3.googleusercontent.com/a-/AOh14GjILpHRCIxbMLTJpbXrLUfXeR0D0fq59J9IzlIElg=s64",
      "userId": "01605552294531161702"
     },
     "user_tz": -120
    },
    "id": "lvWMzTAiPenA"
   },
   "outputs": [],
   "source": [
    "# Test vector for making predictions using the values recovered from EM algorithm.\n",
    "N_test = 20\n",
    "x_test = np.sort(2 * np.random.sample(N_test)).reshape((N_test, 1))\n",
    "\n",
    "# Vectors used to plot true curve.\n",
    "x_true = np.linspace(0, 2, num=1000).reshape((1000, 1))\n",
    "y_true = calculate_y(x_true, thetas, 1000)"
   ]
  },
  {
   "cell_type": "code",
   "execution_count": 49,
   "id": "4b6K-BRiSCqU",
   "metadata": {
    "executionInfo": {
     "elapsed": 9,
     "status": "ok",
     "timestamp": 1641847405538,
     "user": {
      "displayName": "Valia Mavrikou",
      "photoUrl": "https://lh3.googleusercontent.com/a-/AOh14GjILpHRCIxbMLTJpbXrLUfXeR0D0fq59J9IzlIElg=s64",
      "userId": "01605552294531161702"
     },
     "user_tz": -120
    },
    "id": "4b6K-BRiSCqU"
   },
   "outputs": [],
   "source": [
    "# Calculate means and variances on test set.\n",
    "m_th_given_y, s = calculate_m_s_th_given_y(a, b, big_phi, y_train, len(thetas))\n",
    "means, variances = calculate_means_variances(x_test, m_th_given_y, big_phi, 1/a, 1/b, len(thetas))"
   ]
  },
  {
   "cell_type": "code",
   "execution_count": 50,
   "id": "fyoRmyx2SDfu",
   "metadata": {
    "colab": {
     "base_uri": "https://localhost:8080/",
     "height": 282
    },
    "executionInfo": {
     "elapsed": 422,
     "status": "ok",
     "timestamp": 1641847407909,
     "user": {
      "displayName": "Valia Mavrikou",
      "photoUrl": "https://lh3.googleusercontent.com/a-/AOh14GjILpHRCIxbMLTJpbXrLUfXeR0D0fq59J9IzlIElg=s64",
      "userId": "01605552294531161702"
     },
     "user_tz": -120
    },
    "id": "fyoRmyx2SDfu",
    "outputId": "87e759b2-9390-493e-d6ca-b9f33b3c08d8"
   },
   "outputs": [
    {
     "data": {
      "text/plain": [
       "<matplotlib.legend.Legend at 0x7f6b523ccb20>"
      ]
     },
     "execution_count": 50,
     "metadata": {},
     "output_type": "execute_result"
    },
    {
     "data": {
      "image/png": "[encoded data removed]",
      "text/plain": [
       "<Figure size 432x288 with 1 Axes>"
      ]
     },
     "metadata": {
      "needs_background": "light"
     },
     "output_type": "display_data"
    }
   ],
   "source": [
    "# Plot train points, predicted points on test set and true curve.\n",
    "fig = plt.figure()\n",
    "plt.scatter(x_train, y_train, s=0.1, c=\"blue\", label=\"y_train\")\n",
    "plt.errorbar(x_test, means, yerr=np.sqrt(np.squeeze(variances)), c='red', fmt='.', capsize=5, label=\"y_pred\")\n",
    "plt.plot(x_true, y_true, c='green', label=\"y_true\")\n",
    "plt.legend(loc=\"upper left\")"
   ]
  },
  {
   "cell_type": "markdown",
   "id": "S9ljhiOvxiwK",
   "metadata": {
    "id": "S9ljhiOvxiwK"
   },
   "source": [
    "##Comment\n",
    "From the graph, we can observe that our predictions for y's are very close to the corresponding values we take from our true model."
   ]
  }
 ],
 "metadata": {
  "colab": {
   "collapsed_sections": [],
   "name": "1.4_1.5_1.6_officially.ipynb",
   "provenance": []
  },
  "kernelspec": {
   "display_name": "Python 3 (ipykernel)",
   "language": "python",
   "name": "python3"
  },
  "language_info": {
   "codemirror_mode": {
    "name": "ipython",
    "version": 3
   },
   "file_extension": ".py",
   "mimetype": "text/x-python",
   "name": "python",
   "nbconvert_exporter": "python",
   "pygments_lexer": "ipython3",
   "version": "3.9.5"
  }
 },
 "nbformat": 4,
 "nbformat_minor": 5
}
