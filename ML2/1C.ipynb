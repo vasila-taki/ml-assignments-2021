{
 "cells": [
  {
   "cell_type": "markdown",
   "metadata": {
    "id": "l73f3NGt1CgG"
   },
   "source": [
    "***Exercise 1, Question C***\n",
    "\n",
    "\n",
    "\n",
    "In this question, we are asked to train each one of the models of 1B, for 3 epochs, on the same data set. Then, for each layer of our models, we compute the maximum value of the gradient on a given mini-batch (in our case te 1st batch).\n",
    "\n",
    "Moreover for each ANN depth, we create a plot of “layer depth vs. max gradient\", and organize them as a grid, so that the results for the different activation functions for each depth choice appear on the same subplot. \n"
   ]
  },
  {
   "cell_type": "markdown",
   "metadata": {
    "id": "fRq1mhj14UBU"
   },
   "source": [
    "***Global Imports***"
   ]
  },
  {
   "cell_type": "code",
   "execution_count": null,
   "metadata": {
    "id": "YavScGjtX2v2"
   },
   "outputs": [],
   "source": [
    "from tensorflow.keras.layers import Dense, Activation, Dropout, Flatten, Conv2D, MaxPooling2D\n",
    "from tensorflow.keras.layers import BatchNormalization\n",
    "import tensorflow as tf\n",
    "import os\n",
    "import pickle\n",
    "import numpy as np\n",
    "import matplotlib.pyplot as plt\n",
    "import tensorflow\n",
    "from tensorflow import keras\n",
    "from tensorflow.keras import layers\n",
    "from tensorflow.keras.models import Sequential\n",
    "from sklearn.manifold import SpectralEmbedding\n",
    "from keras import backend as K\n",
    "\n",
    "from tensorflow.keras.datasets import mnist"
   ]
  },
  {
   "cell_type": "markdown",
   "metadata": {
    "id": "5KswwVr84VoH"
   },
   "source": [
    "***Dataset load and preprocessing***\n",
    "\n",
    "In order to calculate the gradients for each layer of our models (that is the gradient of the loss function with respect to the weights, for each layer), we need to perform the gradient descent algorithm 'manually'. \n",
    "\n",
    "\n",
    "So, appart from the usual preprocessing of our dataset, we also split our training set into batches of 64 samples each."
   ]
  },
  {
   "cell_type": "code",
   "execution_count": null,
   "metadata": {
    "colab": {
     "base_uri": "https://localhost:8080/"
    },
    "executionInfo": {
     "elapsed": 976,
     "status": "ok",
     "timestamp": 1646837077818,
     "user": {
      "displayName": "Vasilis Kalekis",
      "photoUrl": "https://lh3.googleusercontent.com/a/default-user=s64",
      "userId": "03941487579091556456"
     },
     "user_tz": -120
    },
    "id": "XfdubMoPYFh1",
    "outputId": "f7e4daf6-92a7-4e09-cc0c-302ceba77731"
   },
   "outputs": [
    {
     "name": "stdout",
     "output_type": "stream",
     "text": [
      "(60000, 28, 28)\n",
      "(10000, 28, 28)\n"
     ]
    }
   ],
   "source": [
    "# Load the MNIST data set\n",
    "(x_train, y_train), (x_test, y_test) = mnist.load_data()\n",
    "\n",
    "print(x_train.shape)\n",
    "print(x_test.shape)\n",
    "\n",
    "\n",
    "#normalize the image data to the interval [0, 1]. This is done by dividing by 255.\n",
    "x_train = x_train / 255.0\n",
    "x_test = x_test / 255.0\n",
    "\n",
    "\n",
    "#create one-hot vectors for each label in the data set\n",
    "label_set = np.sort(np.unique(y_train))\n",
    "y_train = keras.utils.to_categorical(y_train, len(label_set))\n",
    "y_test = keras.utils.to_categorical(y_test, len(label_set))\n",
    "\n",
    "\n",
    "x_train = x_train.reshape(len(x_train), 28 * 28)\n",
    "x_test = x_test.reshape(len(x_test), 28 * 28)\n",
    "\n",
    "# split training set into batches of 64 samples\n",
    "dataset = tf.data.Dataset.from_tensor_slices((x_train.reshape(60000, 784).astype(\"float32\"), y_train))\n",
    "dataset = dataset.shuffle(buffer_size=1024).batch(64)"
   ]
  },
  {
   "cell_type": "markdown",
   "metadata": {
    "id": "O4lLiFDp51_u"
   },
   "source": [
    "***Model_1a***"
   ]
  },
  {
   "cell_type": "markdown",
   "metadata": {
    "id": "Nczv-_lGdLkb"
   },
   "source": [
    "Method tape.gradient() returns for each layer $[l]$, 2 matrices of shapes $(n_{[l-1]}$ x $n_{[l]})$ and $(n_{[l]}$ x 1) respectively. \n",
    "\n",
    "\n",
    "The first matrix is the gradient of the loss function with respect to matrix w:  $\\frac{\\partial E}{\\partial w^{[l]}}$, and the second is the gradient of the loss function with respect to matrix b:  $\\frac{\\partial E}{\\partial b^{[l]}}$, for layer $[l]$. $n_{[l]}$ is the number of nodes in layer $[l]$. \n",
    "\n",
    "For our plots, we are using the matrices that correspond to the gradients wrt w, as they usually contain larger values than those of the matrices that correspond to the gradients wrt b. Moreover, in order to somehow compare those matrices and find the max gradient as asked, we are calculating the mean of the elements of each one of them, and we are using those means instead."
   ]
  },
  {
   "cell_type": "code",
   "execution_count": null,
   "metadata": {
    "id": "6exIiRwm2oBS"
   },
   "outputs": [],
   "source": [
    "#define model\n",
    "inputs = tf.keras.Input(shape=(784,), dtype=\"float32\")\n",
    "layer1 = keras.layers.Dense(32, activation=\"relu\")\n",
    "l1 = layer1(inputs)\n",
    "layer2 = keras.layers.Dense(32, activation=\"relu\")\n",
    "l2 = layer2(l1)\n",
    "layer3 = keras.layers.Dense(32, activation=\"relu\")\n",
    "l3 = layer3(l2)\n",
    "layer4 = keras.layers.Dense(32, activation=\"relu\")\n",
    "l4 = layer4(l3)\n",
    "layer5 = keras.layers.Dense(10, activation=\"softmax\")\n",
    "l5 = layer5(l4)\n",
    "\n",
    "model1a = tf.keras.Model(inputs, l5)\n",
    "\n",
    "optimizer=keras.optimizers.SGD(learning_rate=0.01)\n",
    "\n",
    "# For each epoch, we are going to keep here the gradients and the values for each layer\n",
    "layers_1a = [layer1, layer2, layer3, layer4, layer5]\n",
    "layers_gradients_1a = [[] for i in range(len(layers_1a))]"
   ]
  },
  {
   "cell_type": "code",
   "execution_count": null,
   "metadata": {
    "id": "L8GytTixZK-_"
   },
   "outputs": [],
   "source": [
    "def training_loop(model, layers, layers_gradients):\n",
    "\n",
    "  # implement the gradient descent algorithm for 3 epochs\n",
    "  for i in range(3):  \n",
    "    for step, (x, y) in enumerate(dataset):\n",
    "\n",
    "        # Open a GradientTape.\n",
    "        with tf.GradientTape(persistent=True) as tape:\n",
    "\n",
    "            # Loss value for this batch.\n",
    "            loss = tf.keras.losses.CategoricalCrossentropy()(y, model(x))\n",
    "\n",
    "        \n",
    "        # Get gradients of the loss wrt the weights.\n",
    "        gradients = [[] for i in range(len(layers))]\n",
    "        \n",
    "       \n",
    "        for i in range(len(layers)):\n",
    "          gradients[i] = tape.gradient(loss, layers[i].trainable_weights)\n",
    "          \n",
    "        # keep gradients for the 1st batch\n",
    "        if step == 63:\n",
    "          for i in range(len(layers_gradients)):\n",
    "            layers_gradients[i].append(gradients[i])\n",
    "      \n",
    "\n",
    "        # Update the weights of our layers.\n",
    "\n",
    "        for i in range(len(layers)):\n",
    "          optimizer.apply_gradients(zip(gradients[i], layers[i].trainable_weights))\n",
    "       \n",
    "\n",
    "        # Logging.\n",
    "        if step % 100 == 0:\n",
    "            print(\"Step:\", step, \"Loss:\", float(loss))\n",
    "\n",
    "  return layers_gradients\n"
   ]
  },
  {
   "cell_type": "code",
   "execution_count": null,
   "metadata": {
    "id": "ArOENhA8CPeO"
   },
   "outputs": [],
   "source": [
    "def evaluate(layers_gradients):\n",
    "  \n",
    "  max_gradients = []\n",
    "\n",
    "  for layer_gradient in layers_gradients:\n",
    "    #layer, epoch_1\n",
    "    layer_w_e1, layer_b_e1 = layer_gradient[0]\n",
    "    #layer, epoch_2\n",
    "    layer_w_e2, layer_b_e2 = layer_gradient[1]\n",
    "    #layer, epoch_3\n",
    "    layer_w_e3, layer_b_e3 = layer_gradient[2]\n",
    "\n",
    "    maxl_w = max(np.array(layer_w_e1).mean(),np.array(layer_w_e2).mean(),np.array(layer_w_e3).mean())\n",
    "    print(maxl_w)\n",
    "    maxl_b = max(np.array(layer_b_e1).mean(),np.array(layer_b_e2).mean(),np.array(layer_b_e3).mean())\n",
    "    print(maxl_b)\n",
    "\n",
    "    max_gradients.append(maxl_w)\n",
    "  return max_gradients"
   ]
  },
  {
   "cell_type": "code",
   "execution_count": null,
   "metadata": {
    "colab": {
     "base_uri": "https://localhost:8080/"
    },
    "executionInfo": {
     "elapsed": 86930,
     "status": "ok",
     "timestamp": 1646837165201,
     "user": {
      "displayName": "Vasilis Kalekis",
      "photoUrl": "https://lh3.googleusercontent.com/a/default-user=s64",
      "userId": "03941487579091556456"
     },
     "user_tz": -120
    },
    "id": "6Zx5ugoqvkG6",
    "outputId": "020efb50-5890-48fd-b62d-9d1dc126895b"
   },
   "outputs": [
    {
     "name": "stdout",
     "output_type": "stream",
     "text": [
      "Step: 0 Loss: 2.3142075538635254\n",
      "Step: 100 Loss: 2.223457098007202\n",
      "Step: 200 Loss: 2.085066795349121\n",
      "Step: 300 Loss: 1.8194823265075684\n",
      "Step: 400 Loss: 1.5773816108703613\n",
      "Step: 500 Loss: 1.1951351165771484\n",
      "Step: 600 Loss: 1.1511472463607788\n",
      "Step: 700 Loss: 1.0788182020187378\n",
      "Step: 800 Loss: 0.5909669399261475\n",
      "Step: 900 Loss: 0.43375223875045776\n",
      "Step: 0 Loss: 0.5819963216781616\n",
      "Step: 100 Loss: 0.7537761926651001\n",
      "Step: 200 Loss: 0.6733541488647461\n",
      "Step: 300 Loss: 0.3247784376144409\n",
      "Step: 400 Loss: 0.31984296441078186\n",
      "Step: 500 Loss: 0.3236030638217926\n",
      "Step: 600 Loss: 0.3571191430091858\n",
      "Step: 700 Loss: 0.36812782287597656\n",
      "Step: 800 Loss: 0.3830130100250244\n",
      "Step: 900 Loss: 0.33637547492980957\n",
      "Step: 0 Loss: 0.34683388471603394\n",
      "Step: 100 Loss: 0.3273448050022125\n",
      "Step: 200 Loss: 0.403767466545105\n",
      "Step: 300 Loss: 0.38782399892807007\n",
      "Step: 400 Loss: 0.2222292423248291\n",
      "Step: 500 Loss: 0.36528974771499634\n",
      "Step: 600 Loss: 0.2847553491592407\n",
      "Step: 700 Loss: 0.26498591899871826\n",
      "Step: 800 Loss: 0.3105119466781616\n",
      "Step: 900 Loss: 0.24478887021541595\n"
     ]
    }
   ],
   "source": [
    "layers_gradients_1a = training_loop(model1a, layers_1a, layers_gradients_1a)"
   ]
  },
  {
   "cell_type": "code",
   "execution_count": null,
   "metadata": {
    "colab": {
     "base_uri": "https://localhost:8080/"
    },
    "executionInfo": {
     "elapsed": 45,
     "status": "ok",
     "timestamp": 1646837165206,
     "user": {
      "displayName": "Vasilis Kalekis",
      "photoUrl": "https://lh3.googleusercontent.com/a/default-user=s64",
      "userId": "03941487579091556456"
     },
     "user_tz": -120
    },
    "id": "TvdfaSbaw3rl",
    "outputId": "88f4e100-6542-4f36-addb-a8c26f6cd806"
   },
   "outputs": [
    {
     "name": "stdout",
     "output_type": "stream",
     "text": [
      "0.000288352\n",
      "0.0013706322\n",
      "-0.00017082883\n",
      "-0.0009936563\n",
      "0.0019753696\n",
      "0.0014212871\n",
      "0.0025001192\n",
      "0.0009985325\n",
      "-2.3283065e-11\n",
      "2.7939678e-10\n"
     ]
    }
   ],
   "source": [
    "m1a = evaluate(layers_gradients_1a)"
   ]
  },
  {
   "cell_type": "markdown",
   "metadata": {
    "id": "32U5dkt1EM10"
   },
   "source": [
    "***Model_1b***"
   ]
  },
  {
   "cell_type": "code",
   "execution_count": null,
   "metadata": {
    "id": "0VN6cKJAELNX"
   },
   "outputs": [],
   "source": [
    "# define model \n",
    "inputs = tf.keras.Input(shape=(784,), dtype=\"float32\")\n",
    "layer1 = keras.layers.Dense(32, activation=\"tanh\")\n",
    "l1 = layer1(inputs)\n",
    "layer2 = keras.layers.Dense(32, activation=\"tanh\")\n",
    "l2 = layer2(l1)\n",
    "layer3 = keras.layers.Dense(32, activation=\"tanh\")\n",
    "l3 = layer3(l2)\n",
    "layer4 = keras.layers.Dense(32, activation=\"tanh\")\n",
    "l4 = layer4(l3)\n",
    "layer5 = keras.layers.Dense(10, activation=\"softmax\")\n",
    "l5 = layer5(l4)\n",
    "\n",
    "model1b = tf.keras.Model(inputs, l5)\n",
    "\n",
    "optimizer=keras.optimizers.SGD(learning_rate=0.01)\n",
    "\n",
    "\n",
    "# For each epoch, we are going to keep here the gradients and the values for each layer\n",
    "\n",
    "layers_1b = [layer1, layer2, layer3, layer4, layer5]\n",
    "layers_gradients_1b = [[] for i in range(len(layers_1b))]"
   ]
  },
  {
   "cell_type": "code",
   "execution_count": null,
   "metadata": {
    "colab": {
     "base_uri": "https://localhost:8080/"
    },
    "executionInfo": {
     "elapsed": 123344,
     "status": "ok",
     "timestamp": 1646837288527,
     "user": {
      "displayName": "Vasilis Kalekis",
      "photoUrl": "https://lh3.googleusercontent.com/a/default-user=s64",
      "userId": "03941487579091556456"
     },
     "user_tz": -120
    },
    "id": "lvFgl8XXC9gh",
    "outputId": "2c939f06-b546-4804-c963-b3bd317fba7a"
   },
   "outputs": [
    {
     "name": "stdout",
     "output_type": "stream",
     "text": [
      "Step: 0 Loss: 2.269225597381592\n",
      "Step: 100 Loss: 1.684699535369873\n",
      "Step: 200 Loss: 1.3466739654541016\n",
      "Step: 300 Loss: 1.1478924751281738\n",
      "Step: 400 Loss: 0.967097282409668\n",
      "Step: 500 Loss: 1.0111382007598877\n",
      "Step: 600 Loss: 0.696932315826416\n",
      "Step: 700 Loss: 0.6835916042327881\n",
      "Step: 800 Loss: 0.6838964223861694\n",
      "Step: 900 Loss: 0.37721744179725647\n",
      "Step: 0 Loss: 0.4419541358947754\n",
      "Step: 100 Loss: 0.5565916299819946\n",
      "Step: 200 Loss: 0.6718469858169556\n",
      "Step: 300 Loss: 0.4586685299873352\n",
      "Step: 400 Loss: 0.3733883500099182\n",
      "Step: 500 Loss: 0.59538733959198\n",
      "Step: 600 Loss: 0.39343079924583435\n",
      "Step: 700 Loss: 0.4407988488674164\n",
      "Step: 800 Loss: 0.5005797147750854\n",
      "Step: 900 Loss: 0.38430142402648926\n",
      "Step: 0 Loss: 0.32700324058532715\n",
      "Step: 100 Loss: 0.34848636388778687\n",
      "Step: 200 Loss: 0.38346025347709656\n",
      "Step: 300 Loss: 0.32854580879211426\n",
      "Step: 400 Loss: 0.4184722900390625\n",
      "Step: 500 Loss: 0.3197658061981201\n",
      "Step: 600 Loss: 0.5178813338279724\n",
      "Step: 700 Loss: 0.46363043785095215\n",
      "Step: 800 Loss: 0.4116724729537964\n",
      "Step: 900 Loss: 0.23051556944847107\n"
     ]
    }
   ],
   "source": [
    "layers_gradients_1b = training_loop(model1b, layers_1b, layers_gradients_1b)"
   ]
  },
  {
   "cell_type": "code",
   "execution_count": null,
   "metadata": {
    "colab": {
     "base_uri": "https://localhost:8080/"
    },
    "executionInfo": {
     "elapsed": 34,
     "status": "ok",
     "timestamp": 1646837288529,
     "user": {
      "displayName": "Vasilis Kalekis",
      "photoUrl": "https://lh3.googleusercontent.com/a/default-user=s64",
      "userId": "03941487579091556456"
     },
     "user_tz": -120
    },
    "id": "C_dnMntwDCGH",
    "outputId": "29cf55bd-055a-4ff2-8930-64ad6157e3ca"
   },
   "outputs": [
    {
     "name": "stdout",
     "output_type": "stream",
     "text": [
      "0.0013907469\n",
      "0.011317524\n",
      "0.00048357755\n",
      "0.0043494413\n",
      "0.00022662124\n",
      "0.002467068\n",
      "0.00027104656\n",
      "0.0043242173\n",
      "1.7462298e-10\n",
      "9.313226e-10\n"
     ]
    }
   ],
   "source": [
    "m1b = evaluate(layers_gradients_1b)"
   ]
  },
  {
   "cell_type": "markdown",
   "metadata": {
    "id": "s3IqAY5KFNlF"
   },
   "source": [
    "***Model_1c***"
   ]
  },
  {
   "cell_type": "code",
   "execution_count": null,
   "metadata": {
    "id": "ek9G6qCOFTtF"
   },
   "outputs": [],
   "source": [
    "inputs = tf.keras.Input(shape=(784,), dtype=\"float32\")\n",
    "layer1 = keras.layers.Dense(32, activation=\"sigmoid\")\n",
    "l1 = layer1(inputs)\n",
    "layer2 = keras.layers.Dense(32, activation=\"sigmoid\")\n",
    "l2 = layer2(l1)\n",
    "layer3 = keras.layers.Dense(32, activation=\"sigmoid\")\n",
    "l3 = layer3(l2)\n",
    "layer4 = keras.layers.Dense(32, activation=\"sigmoid\")\n",
    "l4 = layer4(l3)\n",
    "layer5 = keras.layers.Dense(10, activation=\"softmax\")\n",
    "l5 = layer5(l4)\n",
    "\n",
    "model1c = tf.keras.Model(inputs, l5)\n",
    "\n",
    "optimizer=keras.optimizers.SGD(learning_rate=0.01)\n",
    "\n",
    "\n",
    "\n",
    "# For each epoch, we are going to keep here the gradients and the values for each layer\n",
    "layers_1c = [layer1, layer2, layer3, layer4, layer5]\n",
    "layers_gradients_1c = [[] for i in range(len(layers_1c))]"
   ]
  },
  {
   "cell_type": "code",
   "execution_count": null,
   "metadata": {
    "colab": {
     "base_uri": "https://localhost:8080/"
    },
    "executionInfo": {
     "elapsed": 164137,
     "status": "ok",
     "timestamp": 1646837452653,
     "user": {
      "displayName": "Vasilis Kalekis",
      "photoUrl": "https://lh3.googleusercontent.com/a/default-user=s64",
      "userId": "03941487579091556456"
     },
     "user_tz": -120
    },
    "id": "tOeWe3wfECcX",
    "outputId": "361dbcd5-0a70-4f1d-f5c7-46a04cca255f"
   },
   "outputs": [
    {
     "name": "stdout",
     "output_type": "stream",
     "text": [
      "Step: 0 Loss: 2.412320852279663\n",
      "Step: 100 Loss: 2.3968327045440674\n",
      "Step: 200 Loss: 2.3132338523864746\n",
      "Step: 300 Loss: 2.3080930709838867\n",
      "Step: 400 Loss: 2.295645236968994\n",
      "Step: 500 Loss: 2.2912678718566895\n",
      "Step: 600 Loss: 2.3090620040893555\n",
      "Step: 700 Loss: 2.292809009552002\n",
      "Step: 800 Loss: 2.2881524562835693\n",
      "Step: 900 Loss: 2.3022797107696533\n",
      "Step: 0 Loss: 2.2991385459899902\n",
      "Step: 100 Loss: 2.2999258041381836\n",
      "Step: 200 Loss: 2.2925827503204346\n",
      "Step: 300 Loss: 2.3032050132751465\n",
      "Step: 400 Loss: 2.2830724716186523\n",
      "Step: 500 Loss: 2.302395820617676\n",
      "Step: 600 Loss: 2.308917284011841\n",
      "Step: 700 Loss: 2.3064122200012207\n",
      "Step: 800 Loss: 2.3041787147521973\n",
      "Step: 900 Loss: 2.291598320007324\n",
      "Step: 0 Loss: 2.3078129291534424\n",
      "Step: 100 Loss: 2.3016672134399414\n",
      "Step: 200 Loss: 2.311156988143921\n",
      "Step: 300 Loss: 2.3146843910217285\n",
      "Step: 400 Loss: 2.293673515319824\n",
      "Step: 500 Loss: 2.292630910873413\n",
      "Step: 600 Loss: 2.3001561164855957\n",
      "Step: 700 Loss: 2.308253288269043\n",
      "Step: 800 Loss: 2.294635772705078\n",
      "Step: 900 Loss: 2.305953025817871\n"
     ]
    }
   ],
   "source": [
    "layers_gradients_1c = training_loop(model1c, layers_1c, layers_gradients_1c)"
   ]
  },
  {
   "cell_type": "code",
   "execution_count": null,
   "metadata": {
    "colab": {
     "base_uri": "https://localhost:8080/"
    },
    "executionInfo": {
     "elapsed": 36,
     "status": "ok",
     "timestamp": 1646837452658,
     "user": {
      "displayName": "Vasilis Kalekis",
      "photoUrl": "https://lh3.googleusercontent.com/a/default-user=s64",
      "userId": "03941487579091556456"
     },
     "user_tz": -120
    },
    "id": "ruq8-egaEHk1",
    "outputId": "2340c68d-7875-4446-c95b-9c8d4d1292a0"
   },
   "outputs": [
    {
     "name": "stdout",
     "output_type": "stream",
     "text": [
      "1.1949172e-06\n",
      "2.168795e-06\n",
      "2.4631123e-05\n",
      "4.8785005e-05\n",
      "5.16601e-05\n",
      "9.303211e-05\n",
      "0.00058754743\n",
      "0.0011352673\n",
      "6.4028427e-10\n",
      "1.0244549e-09\n"
     ]
    }
   ],
   "source": [
    "m1c = evaluate(layers_gradients_1c)"
   ]
  },
  {
   "cell_type": "code",
   "execution_count": null,
   "metadata": {
    "colab": {
     "base_uri": "https://localhost:8080/",
     "height": 295
    },
    "executionInfo": {
     "elapsed": 404,
     "status": "ok",
     "timestamp": 1646837456717,
     "user": {
      "displayName": "Vasilis Kalekis",
      "photoUrl": "https://lh3.googleusercontent.com/a/default-user=s64",
      "userId": "03941487579091556456"
     },
     "user_tz": -120
    },
    "id": "jMeo7RsNI3up",
    "outputId": "c1e84e56-b537-4d1a-f25c-e50959a20909"
   },
   "outputs": [
    {
     "data": {
      "image/png": "[encoded data removed]",
      "text/plain": [
       "<Figure size 432x288 with 1 Axes>"
      ]
     },
     "metadata": {
      "needs_background": "light"
     },
     "output_type": "display_data"
    }
   ],
   "source": [
    "l = [0, 1, 2, 3, 4]\n",
    "  \n",
    "plt.plot(l, m1a, '*--', color='r', label='ReLU')\n",
    "plt.plot(l, m1b, '*--', color='g', label='tanh')\n",
    "plt.plot(l, m1c, '*--', color='b', label='sigmoid')\n",
    "\n",
    "plt.ylabel(\"max_gradient\")\n",
    "plt.xlabel(\"layer\")\n",
    "plt.title(\"max_gradient per layer\")\n",
    "  \n",
    "plt.legend()\n",
    "  \n",
    "plt.show()"
   ]
  },
  {
   "cell_type": "markdown",
   "metadata": {
    "id": "WGrLVK6Z-687"
   },
   "source": [
    "***Observations***\n",
    "\n",
    "\n",
    "From the graph above, we can observe that in general, the values of the gradient wrt w, vary in the cases of the tanh and the ReLU activation functions. \n",
    "\n",
    "In the case of the sigmoid activation however, the value of the gradient is almost zero for all layers. Respectivelly, in the previous question, we had observed that it took too many epochs for model 1c to reach to a descent accuracy, comparing to the results of models 1a and 1b, where the training process was much faster.\n",
    "\n",
    "This is known as the vanishing gradient problem and is caused by the use of the sigmoid as an activation function for the hidden layers.\n",
    "In the case of shallow networks with only a few layers, like ours, this isn’t a very big problem, as training is just slowed down. However, in the case of much deeper architectures, as we have in ii) and iii), it can cause the gradient to be too small that the whole training process freezes.\n",
    "\n",
    "The reason for this happening is because the output of the sigmoid function saturates (becomes parallel to x-axis) for the most part of the curve. Thus, its gradient at these regions is almost zero. \n",
    "\n",
    "Now we know that the backpropagation algorithm calculates the derivatives for  each layer, starting from the output and moving towards the input layer of our model. \n",
    "\n",
    "For a layer, this derivative depends on the products of the derivatives of the activation fuctions of all its previous layers. So, when n hidden layers use an activation like the sigmoid function, n small derivatives are multiplied together. Thus, the gradient decreases exponentially as we propagate down to the initial layers. This can also be observed in the graph above, as in the case of the sigmoid activation, the value of the gradient tends to become smaller as we move backwards in the network.\n",
    "\n",
    "\n",
    "We know that: $δw^{[l]} = -ε \\frac{\\partial E}{\\partial w^{[l]}}$, which means that when the gradients values are close to 0 for a layer, the weight update on this layer is also very small, and this slows down the learning process (or even freezes it). \n",
    "\n",
    "\n",
    "\n",
    "In general, the tanh activation function is also linked with the  vanishing gradients problem:\n",
    "\n",
    "![2.png](data:image/png;base64,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)\n",
    "\n",
    "However, the gradient of tanh is four times greater than the gradient of the sigmoid function, and this results in higher values of the gradient during training, and thus higher updates in the weights of the network as well. Moreover, the output of tanh is symmetric around zero, leading to faster convergence. \n",
    "\n",
    "\n",
    "This is probably the reason why we didn't face any problems with the training of our models which use the tanh as an activation for the hidden layers.\n",
    "\n",
    " \n",
    "\n",
    "\n"
   ]
  },
  {
   "cell_type": "markdown",
   "metadata": {
    "id": "pYhFhYqaJi2W"
   },
   "source": [
    "***Model_2a***"
   ]
  },
  {
   "cell_type": "code",
   "execution_count": null,
   "metadata": {
    "id": "uR7bodEzJkd0"
   },
   "outputs": [],
   "source": [
    "inputs = tf.keras.Input(shape=(784,), dtype=\"float32\")\n",
    "layer1 = keras.layers.Dense(32, activation=\"relu\")\n",
    "l1 = layer1(inputs)\n",
    "layer2 = keras.layers.Dense(32, activation=\"relu\")\n",
    "l2 = layer2(l1)\n",
    "layer3 = keras.layers.Dense(32, activation=\"relu\")\n",
    "l3 = layer3(l2)\n",
    "layer4 = keras.layers.Dense(32, activation=\"relu\")\n",
    "l4 = layer4(l3)\n",
    "layer5 = keras.layers.Dense(32, activation=\"relu\")\n",
    "l5 = layer5(l4)\n",
    "layer6 = keras.layers.Dense(32, activation=\"relu\")\n",
    "l6 = layer6(l5)\n",
    "layer7 = keras.layers.Dense(32, activation=\"relu\")\n",
    "l7 = layer7(l6)\n",
    "layer8 = keras.layers.Dense(32, activation=\"relu\")\n",
    "l8 = layer8(l7)\n",
    "layer9 = keras.layers.Dense(32, activation=\"relu\")\n",
    "l9 = layer9(l8)\n",
    "layer10 = keras.layers.Dense(32, activation=\"relu\")\n",
    "l10 = layer10(l9)\n",
    "layer11 = keras.layers.Dense(32, activation=\"relu\")\n",
    "l11 = layer11(l10)\n",
    "layer12 = keras.layers.Dense(32, activation=\"relu\")\n",
    "l12 = layer12(l11)\n",
    "layer13 = keras.layers.Dense(32, activation=\"relu\")\n",
    "l13 = layer13(l12)\n",
    "layer14 = keras.layers.Dense(32, activation=\"relu\")\n",
    "l14 = layer14(l13)\n",
    "layer15 = keras.layers.Dense(32, activation=\"relu\")\n",
    "l15 = layer15(l14)\n",
    "layer16 = keras.layers.Dense(32, activation=\"relu\")\n",
    "l16 = layer16(l15)\n",
    "layer17 = keras.layers.Dense(32, activation=\"relu\")\n",
    "l17 = layer17(l16)\n",
    "layer18 = keras.layers.Dense(32, activation=\"relu\")\n",
    "l18 = layer18(l17)\n",
    "layer19 = keras.layers.Dense(32, activation=\"relu\")\n",
    "l19 = layer19(l18)\n",
    "layer20 = keras.layers.Dense(10, activation=\"softmax\")\n",
    "l20 = layer20(l19)\n",
    "\n",
    "model2a = tf.keras.Model(inputs, l20)\n",
    "\n",
    "optimizer=keras.optimizers.SGD(learning_rate=0.01)\n",
    "\n",
    "\n",
    "# For each epoch, we are going to keep here the gradients and the values for each layer\n",
    "layers_2a = [layer1, layer2, layer3, layer4, layer5, layer6, layer7, layer8, layer9, layer10, \n",
    "             layer11, layer12, layer13, layer14, layer15, layer16, layer17, layer18, layer19, layer20]\n",
    "layers_gradients_2a = [[] for i in range(len(layers_2a))]"
   ]
  },
  {
   "cell_type": "code",
   "execution_count": null,
   "metadata": {
    "colab": {
     "base_uri": "https://localhost:8080/"
    },
    "executionInfo": {
     "elapsed": 546497,
     "status": "ok",
     "timestamp": 1646838055912,
     "user": {
      "displayName": "Vasilis Kalekis",
      "photoUrl": "https://lh3.googleusercontent.com/a/default-user=s64",
      "userId": "03941487579091556456"
     },
     "user_tz": -120
    },
    "id": "C65m1spjKY7j",
    "outputId": "b30432d0-1726-4553-f1e5-e3382cbdda22"
   },
   "outputs": [
    {
     "name": "stdout",
     "output_type": "stream",
     "text": [
      "Step: 0 Loss: 2.302600860595703\n",
      "Step: 100 Loss: 2.299833297729492\n",
      "Step: 200 Loss: 2.2984068393707275\n",
      "Step: 300 Loss: 2.295334577560425\n",
      "Step: 400 Loss: 2.2983951568603516\n",
      "Step: 500 Loss: 2.2931265830993652\n",
      "Step: 600 Loss: 2.286267042160034\n",
      "Step: 700 Loss: 2.2841625213623047\n",
      "Step: 800 Loss: 2.2793025970458984\n",
      "Step: 900 Loss: 2.2651541233062744\n",
      "Step: 0 Loss: 2.2687172889709473\n",
      "Step: 100 Loss: 2.2539496421813965\n",
      "Step: 200 Loss: 2.2085049152374268\n",
      "Step: 300 Loss: 2.1328601837158203\n",
      "Step: 400 Loss: 2.0211873054504395\n",
      "Step: 500 Loss: 1.9656133651733398\n",
      "Step: 600 Loss: 1.85891592502594\n",
      "Step: 700 Loss: 1.8758708238601685\n",
      "Step: 800 Loss: 1.760880470275879\n",
      "Step: 900 Loss: 1.710737943649292\n",
      "Step: 0 Loss: 1.6087281703948975\n",
      "Step: 100 Loss: 1.6523501873016357\n",
      "Step: 200 Loss: 1.5956676006317139\n",
      "Step: 300 Loss: 1.7020601034164429\n",
      "Step: 400 Loss: 1.4949090480804443\n",
      "Step: 500 Loss: 1.5925045013427734\n",
      "Step: 600 Loss: 1.4741398096084595\n",
      "Step: 700 Loss: 1.7016775608062744\n",
      "Step: 800 Loss: 1.4500436782836914\n",
      "Step: 900 Loss: 1.5247647762298584\n"
     ]
    }
   ],
   "source": [
    "layers_gradients_2a = training_loop(model2a, layers_2a, layers_gradients_2a)"
   ]
  },
  {
   "cell_type": "code",
   "execution_count": null,
   "metadata": {
    "colab": {
     "base_uri": "https://localhost:8080/"
    },
    "executionInfo": {
     "elapsed": 14,
     "status": "ok",
     "timestamp": 1646838057042,
     "user": {
      "displayName": "Vasilis Kalekis",
      "photoUrl": "https://lh3.googleusercontent.com/a/default-user=s64",
      "userId": "03941487579091556456"
     },
     "user_tz": -120
    },
    "id": "EgwYdKcbKdNR",
    "outputId": "417a7ee4-0a6f-4596-b98f-991cb0f60617"
   },
   "outputs": [
    {
     "name": "stdout",
     "output_type": "stream",
     "text": [
      "0.0006153083\n",
      "0.0058260662\n",
      "0.00012137616\n",
      "0.000100178644\n",
      "0.0009605271\n",
      "0.006972851\n",
      "0.00014394242\n",
      "0.00026557548\n",
      "0.00044994237\n",
      "0.0040994994\n",
      "0.00036353504\n",
      "0.0068013268\n",
      "0.0016164094\n",
      "0.026211761\n",
      "0.00056981144\n",
      "0.012304806\n",
      "0.0004290153\n",
      "0.007891103\n",
      "0.00034914102\n",
      "0.008049096\n",
      "0.00012049767\n",
      "0.0036308877\n",
      "2.4146726e-07\n",
      "0.00033825485\n",
      "0.00014376204\n",
      "0.0019641402\n",
      "-2.5031193e-07\n",
      "0.00030610105\n",
      "-5.442039e-07\n",
      "-0.0008307813\n",
      "2.0350592e-07\n",
      "0.00044684566\n",
      "-4.0096467e-07\n",
      "0.00012622622\n",
      "1.3983176e-06\n",
      "0.0020853942\n",
      "1.5191913e-06\n",
      "0.0019076396\n",
      "5.820766e-10\n",
      "0.0\n"
     ]
    }
   ],
   "source": [
    "m2a = evaluate(layers_gradients_2a)"
   ]
  },
  {
   "cell_type": "markdown",
   "metadata": {
    "id": "lno_CK-5Q7CF"
   },
   "source": [
    "***Model_2b***"
   ]
  },
  {
   "cell_type": "code",
   "execution_count": null,
   "metadata": {
    "id": "IgVhMEtOQ8G1"
   },
   "outputs": [],
   "source": [
    "inputs = tf.keras.Input(shape=(784,), dtype=\"float32\")\n",
    "layer1 = keras.layers.Dense(32, activation=\"tanh\")\n",
    "l1 = layer1(inputs)\n",
    "layer2 = keras.layers.Dense(32, activation=\"tanh\")\n",
    "l2 = layer2(l1)\n",
    "layer3 = keras.layers.Dense(32, activation=\"tanh\")\n",
    "l3 = layer3(l2)\n",
    "layer4 = keras.layers.Dense(32, activation=\"tanh\")\n",
    "l4 = layer4(l3)\n",
    "layer5 = keras.layers.Dense(32, activation=\"tanh\")\n",
    "l5 = layer5(l4)\n",
    "layer6 = keras.layers.Dense(32, activation=\"tanh\")\n",
    "l6 = layer6(l5)\n",
    "layer7 = keras.layers.Dense(32, activation=\"tanh\")\n",
    "l7 = layer7(l6)\n",
    "layer8 = keras.layers.Dense(32, activation=\"tanh\")\n",
    "l8 = layer8(l7)\n",
    "layer9 = keras.layers.Dense(32, activation=\"tanh\")\n",
    "l9 = layer9(l8)\n",
    "layer10 = keras.layers.Dense(32, activation=\"tanh\")\n",
    "l10 = layer10(l9)\n",
    "layer11 = keras.layers.Dense(32, activation=\"tanh\")\n",
    "l11 = layer11(l10)\n",
    "layer12 = keras.layers.Dense(32, activation=\"tanh\")\n",
    "l12 = layer12(l11)\n",
    "layer13 = keras.layers.Dense(32, activation=\"tanh\")\n",
    "l13 = layer13(l12)\n",
    "layer14 = keras.layers.Dense(32, activation=\"tanh\")\n",
    "l14 = layer14(l13)\n",
    "layer15 = keras.layers.Dense(32, activation=\"tanh\")\n",
    "l15 = layer15(l14)\n",
    "layer16 = keras.layers.Dense(32, activation=\"tanh\")\n",
    "l16 = layer16(l15)\n",
    "layer17 = keras.layers.Dense(32, activation=\"tanh\")\n",
    "l17 = layer17(l16)\n",
    "layer18 = keras.layers.Dense(32, activation=\"tanh\")\n",
    "l18 = layer18(l17)\n",
    "layer19 = keras.layers.Dense(32, activation=\"tanh\")\n",
    "l19 = layer19(l18)\n",
    "layer20 = keras.layers.Dense(10, activation=\"softmax\")\n",
    "l20 = layer20(l19)\n",
    "\n",
    "model2b = tf.keras.Model(inputs, l20)\n",
    "\n",
    "optimizer=keras.optimizers.SGD(learning_rate=0.01)\n",
    "\n",
    "\n",
    "# For each epoch, we are going to keep here the gradients and the values for each layer\n",
    "layers_2b = [layer1, layer2, layer3, layer4, layer5, layer6, layer7, layer8, layer9, layer10, \n",
    "             layer11, layer12, layer13, layer14, layer15, layer16, layer17, layer18, layer19, layer20]\n",
    "layers_gradients_2b = [[] for i in range(len(layers_2b))]"
   ]
  },
  {
   "cell_type": "code",
   "execution_count": null,
   "metadata": {
    "colab": {
     "base_uri": "https://localhost:8080/"
    },
    "executionInfo": {
     "elapsed": 445672,
     "status": "ok",
     "timestamp": 1646838503149,
     "user": {
      "displayName": "Vasilis Kalekis",
      "photoUrl": "https://lh3.googleusercontent.com/a/default-user=s64",
      "userId": "03941487579091556456"
     },
     "user_tz": -120
    },
    "id": "EY-hXVp8Q8bK",
    "outputId": "abdafd7e-f70a-495c-d50b-e1c8f8dd0e20"
   },
   "outputs": [
    {
     "name": "stdout",
     "output_type": "stream",
     "text": [
      "Step: 0 Loss: 2.303190231323242\n",
      "Step: 100 Loss: 1.8645453453063965\n",
      "Step: 200 Loss: 1.563291072845459\n",
      "Step: 300 Loss: 1.3060665130615234\n",
      "Step: 400 Loss: 1.0167605876922607\n",
      "Step: 500 Loss: 0.9301596879959106\n",
      "Step: 600 Loss: 0.7169268131256104\n",
      "Step: 700 Loss: 0.6849828958511353\n",
      "Step: 800 Loss: 0.725782036781311\n",
      "Step: 900 Loss: 0.43052294850349426\n",
      "Step: 0 Loss: 0.4592685401439667\n",
      "Step: 100 Loss: 0.5502049326896667\n",
      "Step: 200 Loss: 0.5066417455673218\n",
      "Step: 300 Loss: 0.5328242778778076\n",
      "Step: 400 Loss: 0.5138838887214661\n",
      "Step: 500 Loss: 0.3807033896446228\n",
      "Step: 600 Loss: 0.6204630732536316\n",
      "Step: 700 Loss: 0.447238564491272\n",
      "Step: 800 Loss: 0.3992851972579956\n",
      "Step: 900 Loss: 0.319091260433197\n",
      "Step: 0 Loss: 0.641578197479248\n",
      "Step: 100 Loss: 0.5150370597839355\n",
      "Step: 200 Loss: 0.3957214951515198\n",
      "Step: 300 Loss: 0.3394984006881714\n",
      "Step: 400 Loss: 0.32362765073776245\n",
      "Step: 500 Loss: 0.3179941475391388\n",
      "Step: 600 Loss: 0.35517019033432007\n",
      "Step: 700 Loss: 0.3276292085647583\n",
      "Step: 800 Loss: 0.14909382164478302\n",
      "Step: 900 Loss: 0.20308461785316467\n"
     ]
    }
   ],
   "source": [
    "layers_gradients_2b = training_loop(model2b, layers_2b, layers_gradients_2b)"
   ]
  },
  {
   "cell_type": "code",
   "execution_count": null,
   "metadata": {
    "colab": {
     "base_uri": "https://localhost:8080/"
    },
    "executionInfo": {
     "elapsed": 53,
     "status": "ok",
     "timestamp": 1646838503155,
     "user": {
      "displayName": "Vasilis Kalekis",
      "photoUrl": "https://lh3.googleusercontent.com/a/default-user=s64",
      "userId": "03941487579091556456"
     },
     "user_tz": -120
    },
    "id": "IVPkeLTcQ83V",
    "outputId": "41cc8ade-3190-4864-992d-328990f0bbc6"
   },
   "outputs": [
    {
     "name": "stdout",
     "output_type": "stream",
     "text": [
      "0.0020895365\n",
      "0.020712674\n",
      "0.0018765873\n",
      "-0.0004888582\n",
      "0.0004645742\n",
      "0.0019162982\n",
      "0.00019568973\n",
      "0.006518472\n",
      "-1.7562923e-05\n",
      "0.003644426\n",
      "0.00071616436\n",
      "0.00870156\n",
      "0.00037089514\n",
      "0.016847853\n",
      "9.167471e-05\n",
      "0.0063825687\n",
      "0.00019889057\n",
      "-0.00060442055\n",
      "0.0005932736\n",
      "0.004644464\n",
      "0.00022151828\n",
      "0.003510653\n",
      "0.000108016095\n",
      "0.003997183\n",
      "4.5197405e-05\n",
      "0.0022381807\n",
      "0.00025572797\n",
      "0.0030594065\n",
      "0.00012635208\n",
      "0.009122055\n",
      "-6.398134e-05\n",
      "0.002865517\n",
      "6.808762e-05\n",
      "0.002656607\n",
      "-0.00016155574\n",
      "0.008950738\n",
      "0.00055190723\n",
      "0.0017741619\n",
      "2.7648639e-11\n",
      "0.0\n"
     ]
    }
   ],
   "source": [
    "m2b = evaluate(layers_gradients_2b)"
   ]
  },
  {
   "cell_type": "markdown",
   "metadata": {
    "id": "oxtvc-G_Rwxe"
   },
   "source": [
    "***Model_2c***"
   ]
  },
  {
   "cell_type": "code",
   "execution_count": null,
   "metadata": {
    "id": "BsH9iSGzRyFl"
   },
   "outputs": [],
   "source": [
    "inputs = tf.keras.Input(shape=(784,), dtype=\"float32\")\n",
    "layer1 = keras.layers.Dense(32, activation=\"sigmoid\")\n",
    "l1 = layer1(inputs)\n",
    "layer2 = keras.layers.Dense(32, activation=\"sigmoid\")\n",
    "l2 = layer2(l1)\n",
    "layer3 = keras.layers.Dense(32, activation=\"sigmoid\")\n",
    "l3 = layer3(l2)\n",
    "layer4 = keras.layers.Dense(32, activation=\"sigmoid\")\n",
    "l4 = layer4(l3)\n",
    "layer5 = keras.layers.Dense(32, activation=\"sigmoid\")\n",
    "l5 = layer5(l4)\n",
    "layer6 = keras.layers.Dense(32, activation=\"sigmoid\")\n",
    "l6 = layer6(l5)\n",
    "layer7 = keras.layers.Dense(32, activation=\"sigmoid\")\n",
    "l7 = layer7(l6)\n",
    "layer8 = keras.layers.Dense(32, activation=\"sigmoid\")\n",
    "l8 = layer8(l7)\n",
    "layer9 = keras.layers.Dense(32, activation=\"sigmoid\")\n",
    "l9 = layer9(l8)\n",
    "layer10 = keras.layers.Dense(32, activation=\"sigmoid\")\n",
    "l10 = layer10(l9)\n",
    "layer11 = keras.layers.Dense(32, activation=\"sigmoid\")\n",
    "l11 = layer11(l10)\n",
    "layer12 = keras.layers.Dense(32, activation=\"sigmoid\")\n",
    "l12 = layer12(l11)\n",
    "layer13 = keras.layers.Dense(32, activation=\"sigmoid\")\n",
    "l13 = layer13(l12)\n",
    "layer14 = keras.layers.Dense(32, activation=\"sigmoid\")\n",
    "l14 = layer14(l13)\n",
    "layer15 = keras.layers.Dense(32, activation=\"sigmoid\")\n",
    "l15 = layer15(l14)\n",
    "layer16 = keras.layers.Dense(32, activation=\"sigmoid\")\n",
    "l16 = layer16(l15)\n",
    "layer17 = keras.layers.Dense(32, activation=\"sigmoid\")\n",
    "l17 = layer17(l16)\n",
    "layer18 = keras.layers.Dense(32, activation=\"sigmoid\")\n",
    "l18 = layer18(l17)\n",
    "layer19 = keras.layers.Dense(32, activation=\"sigmoid\")\n",
    "l19 = layer19(l18)\n",
    "layer20 = keras.layers.Dense(10, activation=\"softmax\")\n",
    "l20 = layer20(l19)\n",
    "\n",
    "model2c = tf.keras.Model(inputs, l20)\n",
    "\n",
    "optimizer=keras.optimizers.SGD(learning_rate=0.01)\n",
    "\n",
    "# For each epoch, we are going to keep here the gradients and the values for each layer\n",
    "layers_2c = [layer1, layer2, layer3, layer4, layer5, layer6, layer7, layer8, layer9, layer10, \n",
    "             layer11, layer12, layer13, layer14, layer15, layer16, layer17, layer18, layer19, layer20]\n",
    "layers_gradients_2c = [[] for i in range(len(layers_2c))]"
   ]
  },
  {
   "cell_type": "code",
   "execution_count": null,
   "metadata": {
    "colab": {
     "base_uri": "https://localhost:8080/"
    },
    "executionInfo": {
     "elapsed": 486346,
     "status": "ok",
     "timestamp": 1646838989477,
     "user": {
      "displayName": "Vasilis Kalekis",
      "photoUrl": "https://lh3.googleusercontent.com/a/default-user=s64",
      "userId": "03941487579091556456"
     },
     "user_tz": -120
    },
    "id": "iwUOcbdpRzK8",
    "outputId": "ef9fbd49-c798-4b9a-f96a-c4540b5b8ef2"
   },
   "outputs": [
    {
     "name": "stdout",
     "output_type": "stream",
     "text": [
      "Step: 0 Loss: 2.3312995433807373\n",
      "Step: 100 Loss: 2.3107075691223145\n",
      "Step: 200 Loss: 2.2930908203125\n",
      "Step: 300 Loss: 2.3054025173187256\n",
      "Step: 400 Loss: 2.3041248321533203\n",
      "Step: 500 Loss: 2.3005905151367188\n",
      "Step: 600 Loss: 2.29660701751709\n",
      "Step: 700 Loss: 2.295224189758301\n",
      "Step: 800 Loss: 2.3054702281951904\n",
      "Step: 900 Loss: 2.293970823287964\n",
      "Step: 0 Loss: 2.303091526031494\n",
      "Step: 100 Loss: 2.293977737426758\n",
      "Step: 200 Loss: 2.313600540161133\n",
      "Step: 300 Loss: 2.2974143028259277\n",
      "Step: 400 Loss: 2.3030409812927246\n",
      "Step: 500 Loss: 2.303351879119873\n",
      "Step: 600 Loss: 2.3146955966949463\n",
      "Step: 700 Loss: 2.2893385887145996\n",
      "Step: 800 Loss: 2.3189897537231445\n",
      "Step: 900 Loss: 2.294959545135498\n",
      "Step: 0 Loss: 2.2954893112182617\n",
      "Step: 100 Loss: 2.3005645275115967\n",
      "Step: 200 Loss: 2.297531843185425\n",
      "Step: 300 Loss: 2.301835536956787\n",
      "Step: 400 Loss: 2.292410373687744\n",
      "Step: 500 Loss: 2.285243272781372\n",
      "Step: 600 Loss: 2.3109140396118164\n",
      "Step: 700 Loss: 2.294724464416504\n",
      "Step: 800 Loss: 2.300786018371582\n",
      "Step: 900 Loss: 2.30133056640625\n"
     ]
    }
   ],
   "source": [
    "layers_gradients_2c = training_loop(model2c, layers_2c, layers_gradients_2c)"
   ]
  },
  {
   "cell_type": "code",
   "execution_count": null,
   "metadata": {
    "colab": {
     "base_uri": "https://localhost:8080/"
    },
    "executionInfo": {
     "elapsed": 51,
     "status": "ok",
     "timestamp": 1646838989482,
     "user": {
      "displayName": "Vasilis Kalekis",
      "photoUrl": "https://lh3.googleusercontent.com/a/default-user=s64",
      "userId": "03941487579091556456"
     },
     "user_tz": -120
    },
    "id": "Cp7hMQoTRzoV",
    "outputId": "c0597f5a-e191-4a67-acda-2814c64bb199"
   },
   "outputs": [
    {
     "name": "stdout",
     "output_type": "stream",
     "text": [
      "7.508775e-16\n",
      "5.4711035e-15\n",
      "7.796636e-15\n",
      "1.6857831e-14\n",
      "5.7651133e-15\n",
      "1.1232497e-14\n",
      "1.4229454e-13\n",
      "2.7904973e-13\n",
      "-1.7013387e-13\n",
      "-3.2555577e-13\n",
      "8.003832e-13\n",
      "1.6579342e-12\n",
      "1.959908e-11\n",
      "3.8429714e-11\n",
      "1.3480064e-11\n",
      "2.7436602e-11\n",
      "3.9021876e-11\n",
      "7.692863e-11\n",
      "1.8603921e-09\n",
      "3.6766648e-09\n",
      "5.0751847e-09\n",
      "1.0010098e-08\n",
      "4.3491113e-08\n",
      "9.3665626e-08\n",
      "1.4228266e-07\n",
      "2.8933107e-07\n",
      "3.2457976e-07\n",
      "6.722295e-07\n",
      "3.0849935e-06\n",
      "6.375411e-06\n",
      "-2.5267404e-06\n",
      "-4.986465e-06\n",
      "-1.3949135e-05\n",
      "-2.787702e-05\n",
      "0.00015301458\n",
      "0.0003019533\n",
      "0.00031410108\n",
      "0.00058353913\n",
      "-1.8626452e-10\n",
      "1.1175871e-09\n"
     ]
    }
   ],
   "source": [
    "m2c = evaluate(layers_gradients_2c)"
   ]
  },
  {
   "cell_type": "code",
   "execution_count": null,
   "metadata": {
    "colab": {
     "base_uri": "https://localhost:8080/",
     "height": 295
    },
    "executionInfo": {
     "elapsed": 46,
     "status": "ok",
     "timestamp": 1646838989487,
     "user": {
      "displayName": "Vasilis Kalekis",
      "photoUrl": "https://lh3.googleusercontent.com/a/default-user=s64",
      "userId": "03941487579091556456"
     },
     "user_tz": -120
    },
    "id": "mqzevPmgSb_t",
    "outputId": "93c191a4-56b5-46f6-b254-f8ec0bf2e67a"
   },
   "outputs": [
    {
     "data": {
      "image/png": "[encoded data removed]",
      "text/plain": [
       "<Figure size 432x288 with 1 Axes>"
      ]
     },
     "metadata": {
      "needs_background": "light"
     },
     "output_type": "display_data"
    }
   ],
   "source": [
    "l = [0, 1, 2, 3, 4, 5, 6, 7, 8, 9, 10, 11, 12, 13, 14, 15, 16, 17, 18, 19]\n",
    "  \n",
    "plt.plot(l, m2a, '*--', color='r', label='ReLU')\n",
    "plt.plot(l, m2b, '*--', color='g', label='tanh')\n",
    "plt.plot(l, m2c, '*--', color='b', label='sigmoid')\n",
    "\n",
    "plt.ylabel(\"max_gradient\")\n",
    "plt.xlabel(\"layer\")\n",
    "plt.title(\"max_gradient per layer\")\n",
    "  \n",
    "plt.legend()\n",
    "  \n",
    "plt.show()"
   ]
  },
  {
   "cell_type": "markdown",
   "metadata": {
    "id": "fY9MFftqQpfq"
   },
   "source": [
    "***Observations***\n",
    "\n",
    "\n",
    "Once again we observe that the values of the gradient wrt w, vary in the cases of the tanh and the ReLU activation functions, while in the case of the sigmoid, they are close to zero in all layers of our models. \n",
    "\n",
    "Indeed, if we go back in question 1B, we will see that both models 2a and 2b manage to achieve descent accuracy scores within small numbers of iterations of the training algorithm, while the training process of model 2c did not proceed at all. This is due to the vanishing gradient problem we discussed above, which causes the gradients of the input layers to be so small that the training process freezes. This is also depicted in the graph above, where the only non zero values of the gradients for the sigmoid function are observed very close to the output layer.  "
   ]
  },
  {
   "cell_type": "markdown",
   "metadata": {
    "id": "Cm2xm6k4S7tG"
   },
   "source": [
    "***Model_3a***"
   ]
  },
  {
   "cell_type": "code",
   "execution_count": null,
   "metadata": {
    "id": "oQUrspnMTC1u"
   },
   "outputs": [],
   "source": [
    "inputs = tf.keras.Input(shape=(784,), dtype=\"float32\")\n",
    "layer1 = keras.layers.Dense(32, activation=\"relu\")\n",
    "l1 = layer1(inputs)\n",
    "layer2 = keras.layers.Dense(32, activation=\"relu\")\n",
    "l2 = layer2(l1)\n",
    "layer3 = keras.layers.Dense(32, activation=\"relu\")\n",
    "l3 = layer3(l2)\n",
    "layer4 = keras.layers.Dense(32, activation=\"relu\")\n",
    "l4 = layer4(l3)\n",
    "layer5 = keras.layers.Dense(32, activation=\"relu\")\n",
    "l5 = layer5(l4)\n",
    "layer6 = keras.layers.Dense(32, activation=\"relu\")\n",
    "l6 = layer6(l5)\n",
    "layer7 = keras.layers.Dense(32, activation=\"relu\")\n",
    "l7 = layer7(l6)\n",
    "layer8 = keras.layers.Dense(32, activation=\"relu\")\n",
    "l8 = layer8(l7)\n",
    "layer9 = keras.layers.Dense(32, activation=\"relu\")\n",
    "l9 = layer9(l8)\n",
    "layer10 = keras.layers.Dense(32, activation=\"relu\")\n",
    "l10 = layer10(l9)\n",
    "layer11 = keras.layers.Dense(32, activation=\"relu\")\n",
    "l11 = layer11(l10)\n",
    "layer12 = keras.layers.Dense(32, activation=\"relu\")\n",
    "l12 = layer12(l11)\n",
    "layer13 = keras.layers.Dense(32, activation=\"relu\")\n",
    "l13 = layer13(l12)\n",
    "layer14 = keras.layers.Dense(32, activation=\"relu\")\n",
    "l14 = layer14(l13)\n",
    "layer15 = keras.layers.Dense(32, activation=\"relu\")\n",
    "l15 = layer15(l14)\n",
    "layer16 = keras.layers.Dense(32, activation=\"relu\")\n",
    "l16 = layer16(l15)\n",
    "layer17 = keras.layers.Dense(32, activation=\"relu\")\n",
    "l17 = layer17(l16)\n",
    "layer18 = keras.layers.Dense(32, activation=\"relu\")\n",
    "l18 = layer18(l17)\n",
    "layer19 = keras.layers.Dense(32, activation=\"relu\")\n",
    "l19 = layer19(l18)\n",
    "layer20 = keras.layers.Dense(10, activation=\"relu\")\n",
    "l20 = layer20(l19)\n",
    "layer21 = keras.layers.Dense(32, activation=\"relu\")\n",
    "l21 = layer21(l20)\n",
    "layer22 = keras.layers.Dense(32, activation=\"relu\")\n",
    "l22 = layer22(l21)\n",
    "layer23 = keras.layers.Dense(32, activation=\"relu\")\n",
    "l23 = layer23(l22)\n",
    "layer24 = keras.layers.Dense(32, activation=\"relu\")\n",
    "l24 = layer24(l23)\n",
    "layer25 = keras.layers.Dense(32, activation=\"relu\")\n",
    "l25 = layer25(l24)\n",
    "layer26 = keras.layers.Dense(32, activation=\"relu\")\n",
    "l26 = layer26(l25)\n",
    "layer27 = keras.layers.Dense(32, activation=\"relu\")\n",
    "l27 = layer27(l26)\n",
    "layer28 = keras.layers.Dense(32, activation=\"relu\")\n",
    "l28 = layer28(l27)\n",
    "layer29 = keras.layers.Dense(32, activation=\"relu\")\n",
    "l29 = layer29(l28)\n",
    "layer30 = keras.layers.Dense(32, activation=\"relu\")\n",
    "l30 = layer30(l29)\n",
    "layer31 = keras.layers.Dense(32, activation=\"relu\")\n",
    "l31 = layer31(l30)\n",
    "layer32 = keras.layers.Dense(32, activation=\"relu\")\n",
    "l32 = layer32(l31)\n",
    "layer33 = keras.layers.Dense(32, activation=\"relu\")\n",
    "l33 = layer33(l32)\n",
    "layer34 = keras.layers.Dense(32, activation=\"relu\")\n",
    "l34 = layer34(l33)\n",
    "layer35 = keras.layers.Dense(32, activation=\"relu\")\n",
    "l35 = layer35(l34)\n",
    "layer36 = keras.layers.Dense(32, activation=\"relu\")\n",
    "l36 = layer36(l35)\n",
    "layer37 = keras.layers.Dense(32, activation=\"relu\")\n",
    "l37 = layer37(l36)\n",
    "layer38 = keras.layers.Dense(32, activation=\"relu\")\n",
    "l38 = layer38(l37)\n",
    "layer39 = keras.layers.Dense(32, activation=\"relu\")\n",
    "l39 = layer39(l38)\n",
    "layer40 = keras.layers.Dense(10, activation=\"softmax\")\n",
    "l40 = layer40(l39)\n",
    "\n",
    "\n",
    "model3a = tf.keras.Model(inputs, l40)\n",
    "\n",
    "optimizer=keras.optimizers.SGD(learning_rate=0.01)\n",
    "\n",
    "# For each epoch, we are going to keep here the gradients and the values for each layer\n",
    "layers_3a = [layer1, layer2, layer3, layer4, layer5, layer6, layer7, layer8, layer9, layer10, \n",
    "             layer11, layer12, layer13, layer14, layer15, layer16, layer17, layer18, layer19, layer20,\n",
    "             layer21, layer22, layer23, layer24, layer25, layer26, layer27, layer28, layer29, layer30, \n",
    "             layer31, layer32, layer33, layer34, layer35, layer36, layer37, layer38, layer39, layer40]\n",
    "layers_gradients_3a = [[] for i in range(len(layers_3a))]"
   ]
  },
  {
   "cell_type": "code",
   "execution_count": null,
   "metadata": {
    "colab": {
     "base_uri": "https://localhost:8080/"
    },
    "executionInfo": {
     "elapsed": 1277286,
     "status": "ok",
     "timestamp": 1646840268351,
     "user": {
      "displayName": "Vasilis Kalekis",
      "photoUrl": "https://lh3.googleusercontent.com/a/default-user=s64",
      "userId": "03941487579091556456"
     },
     "user_tz": -120
    },
    "id": "-AhYduInTDmN",
    "outputId": "a4a1eafb-1cf0-495b-e2b1-c01c51db2c26"
   },
   "outputs": [
    {
     "name": "stdout",
     "output_type": "stream",
     "text": [
      "Step: 0 Loss: 2.3025851249694824\n",
      "Step: 100 Loss: 2.302241325378418\n",
      "Step: 200 Loss: 2.3042850494384766\n",
      "Step: 300 Loss: 2.304769992828369\n",
      "Step: 400 Loss: 2.2983601093292236\n",
      "Step: 500 Loss: 2.3043339252471924\n",
      "Step: 600 Loss: 2.303903102874756\n",
      "Step: 700 Loss: 2.30332612991333\n",
      "Step: 800 Loss: 2.3007116317749023\n",
      "Step: 900 Loss: 2.2945802211761475\n",
      "Step: 0 Loss: 2.3008246421813965\n",
      "Step: 100 Loss: 2.300325393676758\n",
      "Step: 200 Loss: 2.2882461547851562\n",
      "Step: 300 Loss: 2.305640697479248\n",
      "Step: 400 Loss: 2.3048598766326904\n",
      "Step: 500 Loss: 2.3006792068481445\n",
      "Step: 600 Loss: 2.3037290573120117\n",
      "Step: 700 Loss: 2.3035173416137695\n",
      "Step: 800 Loss: 2.292301654815674\n",
      "Step: 900 Loss: 2.299982786178589\n",
      "Step: 0 Loss: 2.3045690059661865\n",
      "Step: 100 Loss: 2.2957112789154053\n",
      "Step: 200 Loss: 2.303709030151367\n",
      "Step: 300 Loss: 2.3091201782226562\n",
      "Step: 400 Loss: 2.3112053871154785\n",
      "Step: 500 Loss: 2.3051700592041016\n",
      "Step: 600 Loss: 2.3094570636749268\n",
      "Step: 700 Loss: 2.3047001361846924\n",
      "Step: 800 Loss: 2.2942237854003906\n",
      "Step: 900 Loss: 2.306614875793457\n"
     ]
    }
   ],
   "source": [
    "layers_gradients_3a = training_loop(model3a, layers_3a, layers_gradients_3a)"
   ]
  },
  {
   "cell_type": "code",
   "execution_count": null,
   "metadata": {
    "colab": {
     "base_uri": "https://localhost:8080/"
    },
    "executionInfo": {
     "elapsed": 53,
     "status": "ok",
     "timestamp": 1646840268358,
     "user": {
      "displayName": "Vasilis Kalekis",
      "photoUrl": "https://lh3.googleusercontent.com/a/default-user=s64",
      "userId": "03941487579091556456"
     },
     "user_tz": -120
    },
    "id": "au-fmA7kPPFL",
    "outputId": "0f2d9175-bdb8-4a80-c6c6-59a7f72a3956"
   },
   "outputs": [
    {
     "name": "stdout",
     "output_type": "stream",
     "text": [
      "3.6662617e-11\n",
      "8.2595375e-10\n",
      "3.4575273e-10\n",
      "1.996962e-09\n",
      "2.2677257e-10\n",
      "2.036838e-09\n",
      "4.1363424e-10\n",
      "4.6706194e-09\n",
      "4.547253e-10\n",
      "8.68393e-09\n",
      "7.7526735e-11\n",
      "1.3423156e-09\n",
      "3.1198003e-10\n",
      "1.1084801e-08\n",
      "4.8634535e-10\n",
      "2.7849484e-08\n",
      "2.4050667e-10\n",
      "2.6274652e-08\n",
      "3.1199082e-10\n",
      "7.886133e-08\n",
      "1.5126285e-10\n",
      "4.3046956e-08\n",
      "2.3843755e-10\n",
      "1.13397135e-07\n",
      "2.725144e-10\n",
      "1.471699e-07\n",
      "1.9785076e-10\n",
      "1.1999782e-07\n",
      "2.0804972e-10\n",
      "1.1583491e-07\n",
      "2.5512525e-10\n",
      "1.2059985e-07\n",
      "2.4206503e-10\n",
      "2.3142866e-07\n",
      "4.9757004e-10\n",
      "4.1225445e-07\n",
      "1.06031864e-10\n",
      "1.094913e-07\n",
      "7.6982587e-10\n",
      "2.3793368e-06\n",
      "4.0873652e-10\n",
      "2.405895e-06\n",
      "2.1985268e-10\n",
      "2.2220704e-06\n",
      "1.9467414e-10\n",
      "2.7393505e-06\n",
      "2.5591082e-10\n",
      "4.076659e-06\n",
      "3.338967e-10\n",
      "7.827295e-06\n",
      "4.9693727e-10\n",
      "1.2938599e-05\n",
      "3.9729947e-10\n",
      "1.2271061e-05\n",
      "5.3595944e-10\n",
      "1.6334121e-05\n",
      "4.7064375e-10\n",
      "1.4459575e-05\n",
      "9.796638e-10\n",
      "3.185642e-05\n",
      "1.4042107e-09\n",
      "3.5280344e-05\n",
      "4.840599e-09\n",
      "6.474527e-05\n",
      "1.1923227e-08\n",
      "0.00010366468\n",
      "4.444523e-08\n",
      "0.00016342642\n",
      "9.878255e-08\n",
      "0.00026407058\n",
      "1.4014975e-06\n",
      "0.002162904\n",
      "8.647879e-07\n",
      "0.00093986385\n",
      "1.3887764e-06\n",
      "0.002134101\n",
      "3.44083e-06\n",
      "0.00089113263\n",
      "4.0017768e-12\n",
      "7.636845e-09\n"
     ]
    }
   ],
   "source": [
    "m3a = evaluate(layers_gradients_3a)"
   ]
  },
  {
   "cell_type": "markdown",
   "metadata": {
    "id": "S5LhadtSS8fU"
   },
   "source": [
    "***Model_3b***"
   ]
  },
  {
   "cell_type": "code",
   "execution_count": null,
   "metadata": {
    "id": "B0yJrVuMTEog"
   },
   "outputs": [],
   "source": [
    "inputs = tf.keras.Input(shape=(784,), dtype=\"float32\")\n",
    "layer1 = keras.layers.Dense(32, activation=\"tanh\")\n",
    "l1 = layer1(inputs)\n",
    "layer2 = keras.layers.Dense(32, activation=\"tanh\")\n",
    "l2 = layer2(l1)\n",
    "layer3 = keras.layers.Dense(32, activation=\"tanh\")\n",
    "l3 = layer3(l2)\n",
    "layer4 = keras.layers.Dense(32, activation=\"tanh\")\n",
    "l4 = layer4(l3)\n",
    "layer5 = keras.layers.Dense(32, activation=\"tanh\")\n",
    "l5 = layer5(l4)\n",
    "layer6 = keras.layers.Dense(32, activation=\"tanh\")\n",
    "l6 = layer6(l5)\n",
    "layer7 = keras.layers.Dense(32, activation=\"tanh\")\n",
    "l7 = layer7(l6)\n",
    "layer8 = keras.layers.Dense(32, activation=\"tanh\")\n",
    "l8 = layer8(l7)\n",
    "layer9 = keras.layers.Dense(32, activation=\"tanh\")\n",
    "l9 = layer9(l8)\n",
    "layer10 = keras.layers.Dense(32, activation=\"tanh\")\n",
    "l10 = layer10(l9)\n",
    "layer11 = keras.layers.Dense(32, activation=\"tanh\")\n",
    "l11 = layer11(l10)\n",
    "layer12 = keras.layers.Dense(32, activation=\"tanh\")\n",
    "l12 = layer12(l11)\n",
    "layer13 = keras.layers.Dense(32, activation=\"tanh\")\n",
    "l13 = layer13(l12)\n",
    "layer14 = keras.layers.Dense(32, activation=\"tanh\")\n",
    "l14 = layer14(l13)\n",
    "layer15 = keras.layers.Dense(32, activation=\"tanh\")\n",
    "l15 = layer15(l14)\n",
    "layer16 = keras.layers.Dense(32, activation=\"tanh\")\n",
    "l16 = layer16(l15)\n",
    "layer17 = keras.layers.Dense(32, activation=\"tanh\")\n",
    "l17 = layer17(l16)\n",
    "layer18 = keras.layers.Dense(32, activation=\"tanh\")\n",
    "l18 = layer18(l17)\n",
    "layer19 = keras.layers.Dense(32, activation=\"tanh\")\n",
    "l19 = layer19(l18)\n",
    "layer20 = keras.layers.Dense(10, activation=\"tanh\")\n",
    "l20 = layer20(l19)\n",
    "layer21 = keras.layers.Dense(32, activation=\"tanh\")\n",
    "l21 = layer21(l20)\n",
    "layer22 = keras.layers.Dense(32, activation=\"tanh\")\n",
    "l22 = layer22(l21)\n",
    "layer23 = keras.layers.Dense(32, activation=\"tanh\")\n",
    "l23 = layer23(l22)\n",
    "layer24 = keras.layers.Dense(32, activation=\"tanh\")\n",
    "l24 = layer24(l23)\n",
    "layer25 = keras.layers.Dense(32, activation=\"tanh\")\n",
    "l25 = layer25(l24)\n",
    "layer26 = keras.layers.Dense(32, activation=\"tanh\")\n",
    "l26 = layer26(l25)\n",
    "layer27 = keras.layers.Dense(32, activation=\"tanh\")\n",
    "l27 = layer27(l26)\n",
    "layer28 = keras.layers.Dense(32, activation=\"tanh\")\n",
    "l28 = layer28(l27)\n",
    "layer29 = keras.layers.Dense(32, activation=\"tanh\")\n",
    "l29 = layer29(l28)\n",
    "layer30 = keras.layers.Dense(32, activation=\"tanh\")\n",
    "l30 = layer30(l29)\n",
    "layer31 = keras.layers.Dense(32, activation=\"tanh\")\n",
    "l31 = layer31(l30)\n",
    "layer32 = keras.layers.Dense(32, activation=\"tanh\")\n",
    "l32 = layer32(l31)\n",
    "layer33 = keras.layers.Dense(32, activation=\"tanh\")\n",
    "l33 = layer33(l32)\n",
    "layer34 = keras.layers.Dense(32, activation=\"tanh\")\n",
    "l34 = layer34(l33)\n",
    "layer35 = keras.layers.Dense(32, activation=\"tanh\")\n",
    "l35 = layer35(l34)\n",
    "layer36 = keras.layers.Dense(32, activation=\"tanh\")\n",
    "l36 = layer36(l35)\n",
    "layer37 = keras.layers.Dense(32, activation=\"tanh\")\n",
    "l37 = layer37(l36)\n",
    "layer38 = keras.layers.Dense(32, activation=\"tanh\")\n",
    "l38 = layer38(l37)\n",
    "layer39 = keras.layers.Dense(32, activation=\"tanh\")\n",
    "l39 = layer39(l38)\n",
    "layer40 = keras.layers.Dense(10, activation=\"softmax\")\n",
    "l40 = layer40(l39)\n",
    "\n",
    "\n",
    "model3b = tf.keras.Model(inputs, l40)\n",
    "\n",
    "optimizer=keras.optimizers.SGD(learning_rate=0.01)\n",
    "\n",
    "# For each epoch, we are going to keep here the gradients and the values for each layer\n",
    "layers_3b = [layer1, layer2, layer3, layer4, layer5, layer6, layer7, layer8, layer9, layer10, \n",
    "             layer11, layer12, layer13, layer14, layer15, layer16, layer17, layer18, layer19, layer20,\n",
    "             layer21, layer22, layer23, layer24, layer25, layer26, layer27, layer28, layer29, layer30, \n",
    "             layer31, layer32, layer33, layer34, layer35, layer36, layer37, layer38, layer39, layer40]\n",
    "layers_gradients_3b = [[] for i in range(len(layers_3b))]"
   ]
  },
  {
   "cell_type": "code",
   "execution_count": null,
   "metadata": {
    "colab": {
     "base_uri": "https://localhost:8080/"
    },
    "executionInfo": {
     "elapsed": 1326171,
     "status": "ok",
     "timestamp": 1646841596282,
     "user": {
      "displayName": "Vasilis Kalekis",
      "photoUrl": "https://lh3.googleusercontent.com/a/default-user=s64",
      "userId": "03941487579091556456"
     },
     "user_tz": -120
    },
    "id": "dCRJDddoTE-9",
    "outputId": "c78fefbc-aa57-4643-f2ff-86aa7f515f0a"
   },
   "outputs": [
    {
     "name": "stdout",
     "output_type": "stream",
     "text": [
      "Step: 0 Loss: 2.347759485244751\n",
      "Step: 100 Loss: 2.153733730316162\n",
      "Step: 200 Loss: 1.7176134586334229\n",
      "Step: 300 Loss: 1.6339154243469238\n",
      "Step: 400 Loss: 1.4866265058517456\n",
      "Step: 500 Loss: 1.3990607261657715\n",
      "Step: 600 Loss: 1.3153055906295776\n",
      "Step: 700 Loss: 1.1855534315109253\n",
      "Step: 800 Loss: 1.3139760494232178\n",
      "Step: 900 Loss: 1.1983556747436523\n",
      "Step: 0 Loss: 1.2198511362075806\n",
      "Step: 100 Loss: 1.1207678318023682\n",
      "Step: 200 Loss: 1.1370673179626465\n",
      "Step: 300 Loss: 1.1401070356369019\n",
      "Step: 400 Loss: 1.251177430152893\n",
      "Step: 500 Loss: 1.023393154144287\n",
      "Step: 600 Loss: 1.3100496530532837\n",
      "Step: 700 Loss: 1.8788659572601318\n",
      "Step: 800 Loss: 1.3253719806671143\n",
      "Step: 900 Loss: 0.9194464683532715\n",
      "Step: 0 Loss: 0.697556734085083\n",
      "Step: 100 Loss: 0.9310704469680786\n",
      "Step: 200 Loss: 0.7651653289794922\n",
      "Step: 300 Loss: 1.0326266288757324\n",
      "Step: 400 Loss: 0.9529677629470825\n",
      "Step: 500 Loss: 1.077736496925354\n",
      "Step: 600 Loss: 0.6822004318237305\n",
      "Step: 700 Loss: 0.8778175711631775\n",
      "Step: 800 Loss: 0.873887300491333\n",
      "Step: 900 Loss: 0.5508298873901367\n"
     ]
    }
   ],
   "source": [
    "layers_gradients_3b = training_loop(model3b, layers_3b, layers_gradients_3b)"
   ]
  },
  {
   "cell_type": "code",
   "execution_count": null,
   "metadata": {
    "colab": {
     "base_uri": "https://localhost:8080/"
    },
    "executionInfo": {
     "elapsed": 31,
     "status": "ok",
     "timestamp": 1646841596286,
     "user": {
      "displayName": "Vasilis Kalekis",
      "photoUrl": "https://lh3.googleusercontent.com/a/default-user=s64",
      "userId": "03941487579091556456"
     },
     "user_tz": -120
    },
    "id": "RWeptAo1TFbU",
    "outputId": "49aed97a-a6fc-4f97-e2ad-613ebed52cbc"
   },
   "outputs": [
    {
     "name": "stdout",
     "output_type": "stream",
     "text": [
      "0.002647532\n",
      "0.01762852\n",
      "8.059122e-05\n",
      "0.010492777\n",
      "0.002018807\n",
      "0.012251124\n",
      "0.0025037713\n",
      "-0.00020956155\n",
      "0.00087080617\n",
      "-0.00030165585\n",
      "0.0019461737\n",
      "-0.0013863792\n",
      "8.773961e-05\n",
      "-0.00021284819\n",
      "0.0017768837\n",
      "0.032211334\n",
      "6.159393e-05\n",
      "0.0008182022\n",
      "0.0042556943\n",
      "-0.0031065107\n",
      "5.3300377e-05\n",
      "0.008705332\n",
      "6.632734e-05\n",
      "0.012037177\n",
      "2.0285412e-05\n",
      "0.0022343667\n",
      "0.000990592\n",
      "0.023447596\n",
      "-1.745775e-05\n",
      "0.03917686\n",
      "0.0005153129\n",
      "-0.0027182018\n",
      "1.4931902e-05\n",
      "-0.00082384504\n",
      "3.67949e-05\n",
      "0.024201907\n",
      "-3.624158e-05\n",
      "0.014782237\n",
      "5.1525432e-05\n",
      "0.0017283196\n",
      "1.2636697e-05\n",
      "-0.0026000754\n",
      "-3.4657503e-05\n",
      "0.015204918\n",
      "0.00019211053\n",
      "0.0013584485\n",
      "5.6845336e-05\n",
      "0.0013806305\n",
      "0.00072846527\n",
      "-0.001329513\n",
      "0.0006610028\n",
      "-0.00069973245\n",
      "2.2319262e-05\n",
      "0.00921525\n",
      "0.00043247483\n",
      "0.004713189\n",
      "0.00012289424\n",
      "0.009736535\n",
      "0.001110128\n",
      "0.0038040797\n",
      "2.8574403e-05\n",
      "0.0006444345\n",
      "0.00011527083\n",
      "0.0065386705\n",
      "0.00040777886\n",
      "0.0034422562\n",
      "-2.848365e-05\n",
      "0.009810368\n",
      "1.2072327e-05\n",
      "0.0026197447\n",
      "7.5364915e-06\n",
      "0.0020208808\n",
      "0.00014942874\n",
      "0.00114852\n",
      "3.8961945e-05\n",
      "-4.874592e-05\n",
      "0.00043545797\n",
      "0.0022644405\n",
      "1.4551915e-10\n",
      "2.1420419e-09\n"
     ]
    }
   ],
   "source": [
    "m3b = evaluate(layers_gradients_3b)"
   ]
  },
  {
   "cell_type": "markdown",
   "metadata": {
    "id": "3cuegXQWS9GF"
   },
   "source": [
    "***Model_3c***"
   ]
  },
  {
   "cell_type": "code",
   "execution_count": null,
   "metadata": {
    "id": "sX92KkutTGhs"
   },
   "outputs": [],
   "source": [
    "inputs = tf.keras.Input(shape=(784,), dtype=\"float32\")\n",
    "layer1 = keras.layers.Dense(32, activation=\"sigmoid\")\n",
    "l1 = layer1(inputs)\n",
    "layer2 = keras.layers.Dense(32, activation=\"sigmoid\")\n",
    "l2 = layer2(l1)\n",
    "layer3 = keras.layers.Dense(32, activation=\"sigmoid\")\n",
    "l3 = layer3(l2)\n",
    "layer4 = keras.layers.Dense(32, activation=\"sigmoid\")\n",
    "l4 = layer4(l3)\n",
    "layer5 = keras.layers.Dense(32, activation=\"sigmoid\")\n",
    "l5 = layer5(l4)\n",
    "layer6 = keras.layers.Dense(32, activation=\"sigmoid\")\n",
    "l6 = layer6(l5)\n",
    "layer7 = keras.layers.Dense(32, activation=\"sigmoid\")\n",
    "l7 = layer7(l6)\n",
    "layer8 = keras.layers.Dense(32, activation=\"sigmoid\")\n",
    "l8 = layer8(l7)\n",
    "layer9 = keras.layers.Dense(32, activation=\"sigmoid\")\n",
    "l9 = layer9(l8)\n",
    "layer10 = keras.layers.Dense(32, activation=\"sigmoid\")\n",
    "l10 = layer10(l9)\n",
    "layer11 = keras.layers.Dense(32, activation=\"sigmoid\")\n",
    "l11 = layer11(l10)\n",
    "layer12 = keras.layers.Dense(32, activation=\"sigmoid\")\n",
    "l12 = layer12(l11)\n",
    "layer13 = keras.layers.Dense(32, activation=\"sigmoid\")\n",
    "l13 = layer13(l12)\n",
    "layer14 = keras.layers.Dense(32, activation=\"sigmoid\")\n",
    "l14 = layer14(l13)\n",
    "layer15 = keras.layers.Dense(32, activation=\"sigmoid\")\n",
    "l15 = layer15(l14)\n",
    "layer16 = keras.layers.Dense(32, activation=\"sigmoid\")\n",
    "l16 = layer16(l15)\n",
    "layer17 = keras.layers.Dense(32, activation=\"sigmoid\")\n",
    "l17 = layer17(l16)\n",
    "layer18 = keras.layers.Dense(32, activation=\"sigmoid\")\n",
    "l18 = layer18(l17)\n",
    "layer19 = keras.layers.Dense(32, activation=\"sigmoid\")\n",
    "l19 = layer19(l18)\n",
    "layer20 = keras.layers.Dense(10, activation=\"sigmoid\")\n",
    "l20 = layer20(l19)\n",
    "layer21 = keras.layers.Dense(32, activation=\"sigmoid\")\n",
    "l21 = layer21(l20)\n",
    "layer22 = keras.layers.Dense(32, activation=\"sigmoid\")\n",
    "l22 = layer22(l21)\n",
    "layer23 = keras.layers.Dense(32, activation=\"sigmoid\")\n",
    "l23 = layer23(l22)\n",
    "layer24 = keras.layers.Dense(32, activation=\"sigmoid\")\n",
    "l24 = layer24(l23)\n",
    "layer25 = keras.layers.Dense(32, activation=\"sigmoid\")\n",
    "l25 = layer25(l24)\n",
    "layer26 = keras.layers.Dense(32, activation=\"sigmoid\")\n",
    "l26 = layer26(l25)\n",
    "layer27 = keras.layers.Dense(32, activation=\"sigmoid\")\n",
    "l27 = layer27(l26)\n",
    "layer28 = keras.layers.Dense(32, activation=\"sigmoid\")\n",
    "l28 = layer28(l27)\n",
    "layer29 = keras.layers.Dense(32, activation=\"sigmoid\")\n",
    "l29 = layer29(l28)\n",
    "layer30 = keras.layers.Dense(32, activation=\"sigmoid\")\n",
    "l30 = layer30(l29)\n",
    "layer31 = keras.layers.Dense(32, activation=\"sigmoid\")\n",
    "l31 = layer31(l30)\n",
    "layer32 = keras.layers.Dense(32, activation=\"sigmoid\")\n",
    "l32 = layer32(l31)\n",
    "layer33 = keras.layers.Dense(32, activation=\"sigmoid\")\n",
    "l33 = layer33(l32)\n",
    "layer34 = keras.layers.Dense(32, activation=\"sigmoid\")\n",
    "l34 = layer34(l33)\n",
    "layer35 = keras.layers.Dense(32, activation=\"sigmoid\")\n",
    "l35 = layer35(l34)\n",
    "layer36 = keras.layers.Dense(32, activation=\"sigmoid\")\n",
    "l36 = layer36(l35)\n",
    "layer37 = keras.layers.Dense(32, activation=\"sigmoid\")\n",
    "l37 = layer37(l36)\n",
    "layer38 = keras.layers.Dense(32, activation=\"sigmoid\")\n",
    "l38 = layer38(l37)\n",
    "layer39 = keras.layers.Dense(32, activation=\"sigmoid\")\n",
    "l39 = layer39(l38)\n",
    "layer40 = keras.layers.Dense(10, activation=\"softmax\")\n",
    "l40 = layer40(l39)\n",
    "\n",
    "\n",
    "model3c = tf.keras.Model(inputs, l40)\n",
    "\n",
    "optimizer=keras.optimizers.SGD(learning_rate=0.01)\n",
    "\n",
    "# For each epoch, we are going to keep here the gradients and the values for each layer\n",
    "layers_3c = [layer1, layer2, layer3, layer4, layer5, layer6, layer7, layer8, layer9, layer10, \n",
    "             layer11, layer12, layer13, layer14, layer15, layer16, layer17, layer18, layer19, layer20,\n",
    "             layer21, layer22, layer23, layer24, layer25, layer26, layer27, layer28, layer29, layer30, \n",
    "             layer31, layer32, layer33, layer34, layer35, layer36, layer37, layer38, layer39, layer40]\n",
    "layers_gradients_3c = [[] for i in range(len(layers_3c))]"
   ]
  },
  {
   "cell_type": "code",
   "execution_count": null,
   "metadata": {
    "colab": {
     "base_uri": "https://localhost:8080/"
    },
    "executionInfo": {
     "elapsed": 1274946,
     "status": "ok",
     "timestamp": 1646842871708,
     "user": {
      "displayName": "Vasilis Kalekis",
      "photoUrl": "https://lh3.googleusercontent.com/a/default-user=s64",
      "userId": "03941487579091556456"
     },
     "user_tz": -120
    },
    "id": "VOLbNaACTGSw",
    "outputId": "6597865c-1e3e-4ff2-b3e5-c3bde06948f2"
   },
   "outputs": [
    {
     "name": "stdout",
     "output_type": "stream",
     "text": [
      "Step: 0 Loss: 2.467953681945801\n",
      "Step: 100 Loss: 2.323150396347046\n",
      "Step: 200 Loss: 2.316541910171509\n",
      "Step: 300 Loss: 2.3069710731506348\n",
      "Step: 400 Loss: 2.3071556091308594\n",
      "Step: 500 Loss: 2.2975549697875977\n",
      "Step: 600 Loss: 2.2972304821014404\n",
      "Step: 700 Loss: 2.314332962036133\n",
      "Step: 800 Loss: 2.3075642585754395\n",
      "Step: 900 Loss: 2.310173511505127\n",
      "Step: 0 Loss: 2.3046631813049316\n",
      "Step: 100 Loss: 2.3023223876953125\n",
      "Step: 200 Loss: 2.305783748626709\n",
      "Step: 300 Loss: 2.2981839179992676\n",
      "Step: 400 Loss: 2.310629367828369\n",
      "Step: 500 Loss: 2.307307004928589\n",
      "Step: 600 Loss: 2.2960939407348633\n",
      "Step: 700 Loss: 2.2984933853149414\n",
      "Step: 800 Loss: 2.3105180263519287\n",
      "Step: 900 Loss: 2.3086299896240234\n",
      "Step: 0 Loss: 2.296018123626709\n",
      "Step: 100 Loss: 2.3026809692382812\n",
      "Step: 200 Loss: 2.30202317237854\n",
      "Step: 300 Loss: 2.306703567504883\n",
      "Step: 400 Loss: 2.306919813156128\n",
      "Step: 500 Loss: 2.3140804767608643\n",
      "Step: 600 Loss: 2.3112425804138184\n",
      "Step: 700 Loss: 2.287523031234741\n",
      "Step: 800 Loss: 2.2992894649505615\n",
      "Step: 900 Loss: 2.3014776706695557\n"
     ]
    }
   ],
   "source": [
    "layers_gradients_3c = training_loop(model3c, layers_3c, layers_gradients_3c)"
   ]
  },
  {
   "cell_type": "code",
   "execution_count": null,
   "metadata": {
    "colab": {
     "base_uri": "https://localhost:8080/"
    },
    "executionInfo": {
     "elapsed": 57,
     "status": "ok",
     "timestamp": 1646842871728,
     "user": {
      "displayName": "Vasilis Kalekis",
      "photoUrl": "https://lh3.googleusercontent.com/a/default-user=s64",
      "userId": "03941487579091556456"
     },
     "user_tz": -120
    },
    "id": "qs6D23phTF0U",
    "outputId": "56f5686d-2983-4cec-ecea-b3e147243f5d"
   },
   "outputs": [
    {
     "name": "stdout",
     "output_type": "stream",
     "text": [
      "-2.9946354e-29\n",
      "-9.206595e-29\n",
      "-3.5381587e-29\n",
      "-3.1660314e-29\n",
      "5.2151533e-27\n",
      "1.0124568e-26\n",
      "-5.268182e-27\n",
      "-1.0249308e-26\n",
      "-5.764602e-26\n",
      "-1.1639363e-25\n",
      "1.7656174e-25\n",
      "3.5821146e-25\n",
      "6.316081e-25\n",
      "1.3636933e-24\n",
      "7.161749e-24\n",
      "1.492427e-23\n",
      "-2.3954927e-24\n",
      "-4.924267e-24\n",
      "8.7785275e-23\n",
      "1.7802543e-22\n",
      "-4.8797815e-22\n",
      "-1.0975865e-21\n",
      "3.7908565e-21\n",
      "7.4839376e-21\n",
      "1.9579178e-20\n",
      "3.8472668e-20\n",
      "3.661424e-20\n",
      "7.686981e-20\n",
      "1.253891e-19\n",
      "2.9244958e-19\n",
      "7.3737744e-19\n",
      "1.4314271e-18\n",
      "1.2834087e-17\n",
      "2.5574204e-17\n",
      "4.294825e-17\n",
      "8.078794e-17\n",
      "2.348675e-17\n",
      "4.3726206e-17\n",
      "-6.146003e-16\n",
      "-1.2529577e-15\n",
      "6.8810814e-15\n",
      "1.2547717e-14\n",
      "6.5729037e-15\n",
      "1.3325198e-14\n",
      "4.1790295e-14\n",
      "8.488024e-14\n",
      "3.5854279e-13\n",
      "7.2826044e-13\n",
      "4.445958e-13\n",
      "8.3787144e-13\n",
      "4.8536205e-12\n",
      "8.717649e-12\n",
      "-2.9779605e-12\n",
      "-5.6878027e-12\n",
      "1.2193432e-10\n",
      "2.3559948e-10\n",
      "2.9727204e-10\n",
      "5.510045e-10\n",
      "1.6012333e-09\n",
      "3.0951923e-09\n",
      "4.636345e-09\n",
      "9.669927e-09\n",
      "1.4939388e-08\n",
      "2.9783006e-08\n",
      "2.4511945e-07\n",
      "5.063713e-07\n",
      "1.2856028e-06\n",
      "2.4148123e-06\n",
      "2.775427e-07\n",
      "5.51945e-07\n",
      "4.4157064e-06\n",
      "8.941635e-06\n",
      "4.799505e-05\n",
      "9.735752e-05\n",
      "0.00037648517\n",
      "0.0008060726\n",
      "0.0014725719\n",
      "0.0031084104\n",
      "1.8597348e-09\n",
      "1.6717241e-08\n"
     ]
    }
   ],
   "source": [
    "m3c = evaluate(layers_gradients_3c)"
   ]
  },
  {
   "cell_type": "code",
   "execution_count": null,
   "metadata": {
    "colab": {
     "base_uri": "https://localhost:8080/",
     "height": 295
    },
    "executionInfo": {
     "elapsed": 45,
     "status": "ok",
     "timestamp": 1646842871734,
     "user": {
      "displayName": "Vasilis Kalekis",
      "photoUrl": "https://lh3.googleusercontent.com/a/default-user=s64",
      "userId": "03941487579091556456"
     },
     "user_tz": -120
    },
    "id": "KzkPUSm4agC1",
    "outputId": "20b06727-5093-4d88-a16d-e1c3bf4a0922"
   },
   "outputs": [
    {
     "data": {
      "image/png": "[encoded data removed]",
      "text/plain": [
       "<Figure size 432x288 with 1 Axes>"
      ]
     },
     "metadata": {
      "needs_background": "light"
     },
     "output_type": "display_data"
    }
   ],
   "source": [
    "l = [0, 1, 2, 3, 4, 5, 6, 7, 8, 9, 10, 11, 12, 13, 14, 15, 16, 17, 18, 19, 20, 21, 22, 23, 24, 25, 26, 27, 28, 29, 30, 31, 32, 33, 34, 35, 36, 37, 38, 39]\n",
    "  \n",
    "plt.plot(l, m3a, '*--', color='r', label='ReLU')\n",
    "plt.plot(l, m3b, '*--', color='g', label='tanh')\n",
    "plt.plot(l, m3c, '*--', color='b', label='sigmoid')\n",
    "\n",
    "plt.ylabel(\"max_gradient\")\n",
    "plt.xlabel(\"layer\")\n",
    "plt.title(\"max_gradient per layer\")\n",
    "  \n",
    "plt.legend()\n",
    "  \n",
    "plt.show()"
   ]
  },
  {
   "cell_type": "markdown",
   "metadata": {
    "id": "75D-S_Erb-cw"
   },
   "source": [
    "***Observations***\n",
    "\n",
    "From the graph above, we can observe that the values of the max gradient are close to zero in almost all layers of our models, for both the sigmoid and the ReLu. The only exception is the model where the tanh is used as an activation function.\n",
    "\n",
    "This also agrees with what we observed back in question 1B, where we saw that model 2b by far outperformed the other 2 models. \n",
    "\n",
    "\n",
    "In the case of the sigmoid function, the training process of model 2c did not proceed at all, which is once again caused by the vanishing gradient problem. This is also depicted in the graph above, where we can see the values of the gradient becoming smaller as we move from the output to the input layers of the network.\n",
    "\n",
    " \n",
    "In the case of the ReLU activation, the reason why the gradient is almost zero in all 40 layers is not exactly clear, but this would explain why we observed the training process of model 3a being stack for many epochs, and generally not having a smooth learning curve back in question 1B. \n"
   ]
  },
  {
   "cell_type": "markdown",
   "metadata": {
    "id": "zTqsS0WMUg8s"
   },
   "source": [
    "***References***\n",
    "\n",
    "\n",
    "https://keras.io/getting_started/intro_to_keras_for_researchers/\n",
    "\n",
    "\n",
    "https://machinelearningmastery.com/visualizing-the-vanishing-gradient-problem/"
   ]
  }
 ],
 "metadata": {
  "colab": {
   "collapsed_sections": [],
   "name": "1C.ipynb",
   "provenance": [
    {
     "file_id": "1YnP66OFpVS5IQX8Susf3mruWRT1vCAHY",
     "timestamp": 1646744508137
    }
   ]
  },
  "kernelspec": {
   "display_name": "Python 3 (ipykernel)",
   "language": "python",
   "name": "python3"
  },
  "language_info": {
   "codemirror_mode": {
    "name": "ipython",
    "version": 3
   },
   "file_extension": ".py",
   "mimetype": "text/x-python",
   "name": "python",
   "nbconvert_exporter": "python",
   "pygments_lexer": "ipython3",
   "version": "3.9.7"
  }
 },
 "nbformat": 4,
 "nbformat_minor": 1
}
