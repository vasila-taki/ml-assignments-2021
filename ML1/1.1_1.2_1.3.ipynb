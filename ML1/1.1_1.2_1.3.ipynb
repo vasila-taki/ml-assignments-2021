{
 "cells": [
  {
   "cell_type": "markdown",
   "metadata": {
    "executionInfo": {
     "elapsed": 384,
     "status": "ok",
     "timestamp": 1641310304423,
     "user": {
      "displayName": "Valia Mavrikou",
      "photoUrl": "https://lh3.googleusercontent.com/a-/AOh14GjILpHRCIxbMLTJpbXrLUfXeR0D0fq59J9IzlIElg=s64",
      "userId": "01605552294531161702"
     },
     "user_tz": -120
    },
    "id": "2b61d360"
   },
   "source": [
    "## Global Imports"
   ]
  },
  {
   "cell_type": "code",
   "execution_count": 27,
   "metadata": {
    "executionInfo": {
     "elapsed": 28,
     "status": "ok",
     "timestamp": 1641848629379,
     "user": {
      "displayName": "Valia Mavrikou",
      "photoUrl": "https://lh3.googleusercontent.com/a-/AOh14GjILpHRCIxbMLTJpbXrLUfXeR0D0fq59J9IzlIElg=s64",
      "userId": "01605552294531161702"
     },
     "user_tz": -120
    },
    "id": "G77eLn5XVIWo"
   },
   "outputs": [],
   "source": [
    "import numpy as np\n",
    "import matplotlib.pyplot as plt"
   ]
  },
  {
   "cell_type": "markdown",
   "metadata": {
    "id": "kW97W1aLVIWr"
   },
   "source": [
    "## Functions used in Problem 1 - Questions 1, 2, 3"
   ]
  },
  {
   "cell_type": "code",
   "execution_count": 28,
   "metadata": {
    "executionInfo": {
     "elapsed": 25,
     "status": "ok",
     "timestamp": 1641848629380,
     "user": {
      "displayName": "Valia Mavrikou",
      "photoUrl": "https://lh3.googleusercontent.com/a-/AOh14GjILpHRCIxbMLTJpbXrLUfXeR0D0fq59J9IzlIElg=s64",
      "userId": "01605552294531161702"
     },
     "user_tz": -120
    },
    "id": "e8eb7025"
   },
   "outputs": [],
   "source": [
    "def generate_big_phi(x, thetas_len, N):\n",
    "    \"\"\"\n",
    "        Generates big phi matrix, containing all samples in training set, raised to the appropriate power. \n",
    "        Matrix size: N*(l+1), N: Training set size, l: Number of features in theta vector (theta_len)\n",
    "    \"\"\"\n",
    "    \n",
    "    # powers = [1,2,...thetas_len,0\n",
    "    #              ...\n",
    "    #          1,2,...thetas_len,0]    \n",
    "    powers = np.tile(np.concatenate([np.arange(1, thetas_len), np.array([0])]), (N,1))\n",
    "    \n",
    "    # Tiles each value in x vector (thetas_len+1) times. The resulting matrix is size N*(l+1).\n",
    "    tiled_x = np.tile(x, (1, powers.shape[1]))\n",
    "    \n",
    "    # Element-wise power of matrix tiled_x to powers matrix.\n",
    "    return np.power(tiled_x, powers)"
   ]
  },
  {
   "cell_type": "code",
   "execution_count": 29,
   "metadata": {
    "executionInfo": {
     "elapsed": 25,
     "status": "ok",
     "timestamp": 1641848629381,
     "user": {
      "displayName": "Valia Mavrikou",
      "photoUrl": "https://lh3.googleusercontent.com/a-/AOh14GjILpHRCIxbMLTJpbXrLUfXeR0D0fq59J9IzlIElg=s64",
      "userId": "01605552294531161702"
     },
     "user_tz": -120
    },
    "id": "53ea47a4"
   },
   "outputs": [],
   "source": [
    "def calculate_y(x, thetas, N, noise_variance=-0.1):\n",
    "    \"\"\"\n",
    "        Calculates vector y, containing the observations or predictions, using the relationship: y=big_phi*thetas\n",
    "        Matrix size: (N,1)\n",
    "        If we want to apply gaussian noise to generate synthetic observations, we pass a positive\n",
    "            noise variance as the last argument of the function.\n",
    "        \n",
    "    \"\"\"\n",
    "    big_phi = generate_big_phi(x, len(thetas), N)\n",
    "    \n",
    "    y = np.matmul(big_phi, thetas)\n",
    "\n",
    "    if noise_variance > 0:\n",
    "        gaussian_noise = np.random.normal(0, np.sqrt(noise_variance), N).reshape((N,1))\n",
    "        y_withnoise = y + gaussian_noise\n",
    "        return y_withnoise\n",
    "    else:\n",
    "        return y"
   ]
  },
  {
   "cell_type": "code",
   "execution_count": 30,
   "metadata": {
    "executionInfo": {
     "elapsed": 24,
     "status": "ok",
     "timestamp": 1641848629382,
     "user": {
      "displayName": "Valia Mavrikou",
      "photoUrl": "https://lh3.googleusercontent.com/a-/AOh14GjILpHRCIxbMLTJpbXrLUfXeR0D0fq59J9IzlIElg=s64",
      "userId": "01605552294531161702"
     },
     "user_tz": -120
    },
    "id": "-1G5gaZA6ghF"
   },
   "outputs": [],
   "source": [
    "def LS_method(X, y):    \n",
    "    \"\"\"\n",
    "        Implementation of LS method. Calculates theta_prediction vector using the relationship: \n",
    "            theta_pred = (X^T X)^-1 X^T y\n",
    "    \"\"\"\n",
    "    Xt = np.transpose(X)\n",
    "    Xt_X = np.matmul(Xt, X)\n",
    "    Xt_X_inverse = np.linalg.inv(Xt_X) \n",
    "    \n",
    "    theta_pred = np.matmul(np.matmul(Xt_X_inverse, Xt), y)\n",
    "    \n",
    "    return theta_pred"
   ]
  },
  {
   "cell_type": "code",
   "execution_count": 31,
   "metadata": {
    "executionInfo": {
     "elapsed": 24,
     "status": "ok",
     "timestamp": 1641848629383,
     "user": {
      "displayName": "Valia Mavrikou",
      "photoUrl": "https://lh3.googleusercontent.com/a-/AOh14GjILpHRCIxbMLTJpbXrLUfXeR0D0fq59J9IzlIElg=s64",
      "userId": "01605552294531161702"
     },
     "user_tz": -120
    },
    "id": "ut4sdffxQUjp"
   },
   "outputs": [],
   "source": [
    "def MSE_error(y_true, y_predicted):\n",
    "    \"\"\"\n",
    "        Calculates MSE error between y_true and y_predicted\n",
    "    \"\"\"\n",
    "    return np.square(np.subtract(y_true, y_predicted)).mean()"
   ]
  },
  {
   "cell_type": "code",
   "execution_count": 32,
   "metadata": {
    "executionInfo": {
     "elapsed": 23,
     "status": "ok",
     "timestamp": 1641848629384,
     "user": {
      "displayName": "Valia Mavrikou",
      "photoUrl": "https://lh3.googleusercontent.com/a-/AOh14GjILpHRCIxbMLTJpbXrLUfXeR0D0fq59J9IzlIElg=s64",
      "userId": "01605552294531161702"
     },
     "user_tz": -120
    },
    "id": "L5iA9SnJiJgQ"
   },
   "outputs": [],
   "source": [
    "def calculate_Y(x_train, N_train, thetas, degrees, experiments):\n",
    "    \n",
    "    \"\"\"\n",
    "        After conduncting a number of experiments using different noise variances in each experiment,   \n",
    "            we generate the Y matrix. Each column of the Y matrix contains the predicted values y in each experiment.\n",
    "        Matrix size: N*experiments\n",
    "    \"\"\"\n",
    "    Y = np.zeros((N_train, experiments)) \n",
    "    \n",
    "    for i in range(experiments):\n",
    "    \n",
    "        y_train = calculate_y(x_train, thetas, N_train, 0.1)\n",
    "        X = generate_big_phi(x_train, degrees+1, N_train)\n",
    "\n",
    "        theta_pred = LS_method(X, y_train)        \n",
    "\n",
    "        y_train_pred = calculate_y(x_train, theta_pred, N_train)    \n",
    "\n",
    "        Y[:, i] = np.squeeze(y_train_pred)    \n",
    "    return Y"
   ]
  },
  {
   "cell_type": "markdown",
   "metadata": {
    "id": "jaok3HBv8i7C"
   },
   "source": [
    "## Problem 1 - Question 1\n",
    "\n",
    "In this question, we applied the Least Squares method to calculate estimates of the parameter vector theta using a set of observations / training set. The observations are synthetic data, generated by using the structure of the true theta vector on a set of points ($N_{train}=20$) randomly picked in the interval $[0,2]$, with additive Gaussian noise of mean 0 and variance $\\sigma_\\eta^2=0.1$. \n",
    "\n",
    "By using the LS method, we obtained an estimate for the true theta vector. This estimate $\\theta_{LS}$ for $\\theta_{true}$ is given by: $\\theta_{LS} = (\\Phi^{Τ}\\Phi)^{-1}\\Phi^{Τ}y_{train}$\n",
    "\n",
    "We calculated the MSE error on the train set and then used the estimated theta vector to make predictions on a test set of 1000 randomly selected points in $[0,2]$. Finally, we calculated the MSE error on the test set, between the predictions given by the estimated theta and the true theta vector."
   ]
  },
  {
   "cell_type": "code",
   "execution_count": 33,
   "metadata": {
    "executionInfo": {
     "elapsed": 23,
     "status": "ok",
     "timestamp": 1641848629385,
     "user": {
      "displayName": "Valia Mavrikou",
      "photoUrl": "https://lh3.googleusercontent.com/a-/AOh14GjILpHRCIxbMLTJpbXrLUfXeR0D0fq59J9IzlIElg=s64",
      "userId": "01605552294531161702"
     },
     "user_tz": -120
    },
    "id": "5f1e20Ga6Qgl"
   },
   "outputs": [],
   "source": [
    "# Parameters\n",
    "N_train = 20\n",
    "noise_variance = 0.1\n",
    "# True theta vector in the form of [theta1, theta2,..., theta0]\n",
    "thetas = np.array([-1, 0.9, 0.7, 0, -0.2, 0.2]).reshape((6,1))\n",
    "\n",
    "# Generates synthetic data by taking N_train x-values, finding the true prediction y by using the true theta\n",
    "# vector and then adding Gaussian noise of mean value 0 and variance 0.1.\n",
    "x_train = np.linspace(0, 2, num=N_train).reshape((N_train, 1))\n",
    "X_train = generate_big_phi(x_train, len(thetas), N_train) \n",
    "y_train = calculate_y(x_train, thetas, N_train, noise_variance)"
   ]
  },
  {
   "cell_type": "code",
   "execution_count": 34,
   "metadata": {
    "executionInfo": {
     "elapsed": 23,
     "status": "ok",
     "timestamp": 1641848629386,
     "user": {
      "displayName": "Valia Mavrikou",
      "photoUrl": "https://lh3.googleusercontent.com/a-/AOh14GjILpHRCIxbMLTJpbXrLUfXeR0D0fq59J9IzlIElg=s64",
      "userId": "01605552294531161702"
     },
     "user_tz": -120
    },
    "id": "ic85kcO5QT43"
   },
   "outputs": [],
   "source": [
    "# Prediction for theta_vector using LS method.\n",
    "theta_pred = LS_method(X_train, y_train)"
   ]
  },
  {
   "cell_type": "code",
   "execution_count": 35,
   "metadata": {
    "colab": {
     "base_uri": "https://localhost:8080/",
     "height": 298
    },
    "executionInfo": {
     "elapsed": 563,
     "status": "ok",
     "timestamp": 1641848629928,
     "user": {
      "displayName": "Valia Mavrikou",
      "photoUrl": "https://lh3.googleusercontent.com/a-/AOh14GjILpHRCIxbMLTJpbXrLUfXeR0D0fq59J9IzlIElg=s64",
      "userId": "01605552294531161702"
     },
     "user_tz": -120
    },
    "id": "odm9U9LxUPJu",
    "outputId": "1edb8bd7-1e2b-4d4d-ad6e-3e93ca22ec58"
   },
   "outputs": [
    {
     "data": {
      "text/plain": [
       "[<matplotlib.lines.Line2D at 0x7f4a6a225070>]"
      ]
     },
     "execution_count": 35,
     "metadata": {},
     "output_type": "execute_result"
    },
    {
     "data": {
      "image/png": "[encoded data removed]",
      "text/plain": [
       "<Figure size 432x288 with 1 Axes>"
      ]
     },
     "metadata": {
      "needs_background": "light"
     },
     "output_type": "display_data"
    }
   ],
   "source": [
    "# Fit of predicted curve in train set.\n",
    "y_train_pred = calculate_y(x_train, theta_pred, N_train)\n",
    "\n",
    "fig = plt.figure()\n",
    "plt.title(\"Curve of using theta pred in train set\")\n",
    "plt.scatter(x_train, y_train)\n",
    "plt.plot(x_train, y_train_pred)"
   ]
  },
  {
   "cell_type": "code",
   "execution_count": 36,
   "metadata": {
    "colab": {
     "base_uri": "https://localhost:8080/"
    },
    "executionInfo": {
     "elapsed": 38,
     "status": "ok",
     "timestamp": 1641848629929,
     "user": {
      "displayName": "Valia Mavrikou",
      "photoUrl": "https://lh3.googleusercontent.com/a-/AOh14GjILpHRCIxbMLTJpbXrLUfXeR0D0fq59J9IzlIElg=s64",
      "userId": "01605552294531161702"
     },
     "user_tz": -120
    },
    "id": "oqlUYWh0V1Aa",
    "outputId": "c3a3f7dd-03a9-4ec6-c119-b6e4ee1350e6"
   },
   "outputs": [
    {
     "name": "stdout",
     "output_type": "stream",
     "text": [
      "MSE error in train set: 0.12420126809117074\n"
     ]
    }
   ],
   "source": [
    "print(f\"MSE error in train set: {MSE_error(y_train, y_train_pred)}\")"
   ]
  },
  {
   "cell_type": "code",
   "execution_count": 37,
   "metadata": {
    "executionInfo": {
     "elapsed": 33,
     "status": "ok",
     "timestamp": 1641848629931,
     "user": {
      "displayName": "Valia Mavrikou",
      "photoUrl": "https://lh3.googleusercontent.com/a-/AOh14GjILpHRCIxbMLTJpbXrLUfXeR0D0fq59J9IzlIElg=s64",
      "userId": "01605552294531161702"
     },
     "user_tz": -120
    },
    "id": "wdkg2Sy2-7hn"
   },
   "outputs": [],
   "source": [
    "# Making predictions in test set (N_test randomly selected points in [0,2])\n",
    "N_test = 1000\n",
    "\n",
    "x_test = np.sort(2 * np.random.sample(N_test)).reshape((N_test, 1))\n",
    "\n",
    "# y_test_pred : values of y using the predicted theta vector\n",
    "# y_test_true : values of y using the true theta vector\n",
    "y_test_pred = calculate_y(x_test, theta_pred, N_test)\n",
    "y_test_true = calculate_y(x_test, thetas, N_test)"
   ]
  },
  {
   "cell_type": "code",
   "execution_count": 38,
   "metadata": {
    "colab": {
     "base_uri": "https://localhost:8080/",
     "height": 298
    },
    "executionInfo": {
     "elapsed": 33,
     "status": "ok",
     "timestamp": 1641848629932,
     "user": {
      "displayName": "Valia Mavrikou",
      "photoUrl": "https://lh3.googleusercontent.com/a-/AOh14GjILpHRCIxbMLTJpbXrLUfXeR0D0fq59J9IzlIElg=s64",
      "userId": "01605552294531161702"
     },
     "user_tz": -120
    },
    "id": "c7acdbe4",
    "outputId": "7df89309-4d42-48ee-83ca-98c3a20072d2"
   },
   "outputs": [
    {
     "data": {
      "text/plain": [
       "<matplotlib.legend.Legend at 0x7f4a6a1df040>"
      ]
     },
     "execution_count": 38,
     "metadata": {},
     "output_type": "execute_result"
    },
    {
     "data": {
      "image/png": "[encoded data removed]",
      "text/plain": [
       "<Figure size 432x288 with 1 Axes>"
      ]
     },
     "metadata": {
      "needs_background": "light"
     },
     "output_type": "display_data"
    }
   ],
   "source": [
    "fig = plt.figure()\n",
    "plt.title(\"Curve of using theta pred and theta true on test set\")\n",
    "plt.scatter(x_test, y_test_pred, s=0.1, c='red', label=\"y_test_pred\")\n",
    "plt.scatter(x_test, y_test_true, s=0.1, c='blue', label=\"y_test_true\")\n",
    "plt.legend(loc=\"upper left\")"
   ]
  },
  {
   "cell_type": "code",
   "execution_count": 39,
   "metadata": {
    "colab": {
     "base_uri": "https://localhost:8080/"
    },
    "executionInfo": {
     "elapsed": 26,
     "status": "ok",
     "timestamp": 1641848629933,
     "user": {
      "displayName": "Valia Mavrikou",
      "photoUrl": "https://lh3.googleusercontent.com/a-/AOh14GjILpHRCIxbMLTJpbXrLUfXeR0D0fq59J9IzlIElg=s64",
      "userId": "01605552294531161702"
     },
     "user_tz": -120
    },
    "id": "1098029e",
    "outputId": "c809241b-52f9-4d7a-dfc6-dce3d2587363"
   },
   "outputs": [
    {
     "name": "stdout",
     "output_type": "stream",
     "text": [
      "MSE error in test set: 0.01545419406533262\n"
     ]
    }
   ],
   "source": [
    "print(f\"MSE error in test set: {MSE_error(y_test_pred, y_test_true)}\")"
   ]
  },
  {
   "cell_type": "markdown",
   "metadata": {
    "id": "6_4FBhyJVIXH"
   },
   "source": [
    "## Comments\n",
    "\n",
    "After running the LS method a few times, we observed that in all cases the MSE error in the train set is larger than the one in the test set. The fit of the curve in the test set can be greatly dependent on the additive noise on the samples of the train set. So, in order to evaluate the results of the LS method we have to consider the statistical properties of the noise.\n",
    "\n",
    "If the noise in a lot of the points in the train set is large enough that they end up far away from the true curve (outliers), the MSE error is large and the shape of the curve diverges from the shape of the true curve. If we consider the small amount of train points (20 points) and the noise variance, our results are adequate. As the number of train points is small, any outliers largely increase the MSE error in the train set, with this phenomenon not being observed in the test set.\n",
    "\n"
   ]
  },
  {
   "cell_type": "markdown",
   "metadata": {
    "id": "3Tyc4z9JAdOS"
   },
   "source": [
    "## Problem 1 - Question 2\n",
    "\n",
    "In this question, we applied the LS method using: (a) a 2nd degree polynomial and  (b) a 10th degree polynomial \n",
    "\n",
    "for the structure of the prediction model. We conducted 100 experiments, using different noise variances in the generation of the training set (20 points in [0,2]) for each experiment. Afterwards, for each polynomial type and for every sample in the training set, we plotted the mean value of the predicted y across all experiments and an errorbar which corresponds to +- 1 standard deviation from the mean value.\n",
    "\n",
    "To be able to visualize better the fit of each type of model, we plotted 5 resulting curves of each model as an intermediate step."
   ]
  },
  {
   "cell_type": "code",
   "execution_count": 40,
   "metadata": {
    "executionInfo": {
     "elapsed": 347,
     "status": "ok",
     "timestamp": 1641848630259,
     "user": {
      "displayName": "Valia Mavrikou",
      "photoUrl": "https://lh3.googleusercontent.com/a-/AOh14GjILpHRCIxbMLTJpbXrLUfXeR0D0fq59J9IzlIElg=s64",
      "userId": "01605552294531161702"
     },
     "user_tz": -120
    },
    "id": "RpJQ4vaGA8z5"
   },
   "outputs": [],
   "source": [
    "# Parameters\n",
    "experiments = 100\n",
    "degrees_1 = 2\n",
    "degrees_2 = 10\n",
    "N_train = 20\n",
    "N_test = 1000\n",
    "\n",
    "# Generation of train and test vectors.\n",
    "x_train = np.linspace(0, 2, num=N_train).reshape((N_train, 1))\n",
    "x_test = np.sort(2 * np.random.sample(N_test)).reshape((N_test, 1))"
   ]
  },
  {
   "cell_type": "code",
   "execution_count": 41,
   "metadata": {
    "colab": {
     "base_uri": "https://localhost:8080/",
     "height": 373
    },
    "executionInfo": {
     "elapsed": 518,
     "status": "ok",
     "timestamp": 1641848630769,
     "user": {
      "displayName": "Valia Mavrikou",
      "photoUrl": "https://lh3.googleusercontent.com/a-/AOh14GjILpHRCIxbMLTJpbXrLUfXeR0D0fq59J9IzlIElg=s64",
      "userId": "01605552294531161702"
     },
     "user_tz": -120
    },
    "id": "5GE6OpDd_HwE",
    "outputId": "c760d477-f371-4c2c-ea31-d41dee770c66"
   },
   "outputs": [
    {
     "data": {
      "text/plain": [
       "<matplotlib.legend.Legend at 0x7f4a6a0e2ee0>"
      ]
     },
     "execution_count": 41,
     "metadata": {},
     "output_type": "execute_result"
    },
    {
     "data": {
      "image/png": "[encoded data removed]",
      "text/plain": [
       "<Figure size 720x360 with 2 Axes>"
      ]
     },
     "metadata": {
      "needs_background": "light"
     },
     "output_type": "display_data"
    }
   ],
   "source": [
    "# A sample plot of 5 resulting curves from fitting each model of theta. \n",
    "\n",
    "fig, axs = plt.subplots(1,2, figsize=(10,5))\n",
    "\n",
    "for i in range(5):\n",
    "    \n",
    "    y_train = calculate_y(x_train, thetas, N_train, 0.1)\n",
    "    \n",
    "    X_2 = generate_big_phi(x_train, degrees_1+1, N_train)    \n",
    "    theta_pred_2 = LS_method(X_2, y_train)    \n",
    "    y_test_2 = calculate_y(x_test, theta_pred_2, N_test)\n",
    "    \n",
    "    axs[0].plot(x_test, y_test_2, c='red', linewidth=0.4)\n",
    "    \n",
    "    X_10 = generate_big_phi(x_train, degrees_2+1, N_train)    \n",
    "    theta_pred_10 = LS_method(X_10, y_train)    \n",
    "    y_test_10 = calculate_y(x_test, theta_pred_10, N_test)\n",
    "    \n",
    "    axs[1].plot(x_test, y_test_10, c='blue', linewidth=0.4)\n",
    "\n",
    "y_true = calculate_y(x_test, thetas, N_test)\n",
    "axs[0].plot(x_test, y_true, c='green', label=\"y_true\")\n",
    "axs[1].plot(x_test, y_true, c='green', label=\"y_true\")\n",
    "\n",
    "axs[0].title.set_text('theta: 2nd degree polynomial')\n",
    "axs[1].title.set_text('theta: 10th degree polynomial')\n",
    "fig.suptitle(\"Some resulting curves for fitting different theta polynomials\", fontsize=16)\n",
    "\n",
    "axs[0].legend(loc=\"upper left\")\n",
    "axs[1].legend(loc=\"upper left\")"
   ]
  },
  {
   "cell_type": "code",
   "execution_count": 42,
   "metadata": {
    "executionInfo": {
     "elapsed": 51,
     "status": "ok",
     "timestamp": 1641848630770,
     "user": {
      "displayName": "Valia Mavrikou",
      "photoUrl": "https://lh3.googleusercontent.com/a-/AOh14GjILpHRCIxbMLTJpbXrLUfXeR0D0fq59J9IzlIElg=s64",
      "userId": "01605552294531161702"
     },
     "user_tz": -120
    },
    "id": "l8a657vNVIXK"
   },
   "outputs": [],
   "source": [
    "# Matrices containing the y values across all experiments.\n",
    "# Matrix size: Ntrain*experiments\n",
    "Y_2 = calculate_Y(x_train, N_train, thetas, degrees_1, experiments)\n",
    "Y_10 = calculate_Y(x_train, N_train, thetas, degrees_2, experiments)"
   ]
  },
  {
   "cell_type": "code",
   "execution_count": 43,
   "metadata": {
    "executionInfo": {
     "elapsed": 52,
     "status": "ok",
     "timestamp": 1641848630772,
     "user": {
      "displayName": "Valia Mavrikou",
      "photoUrl": "https://lh3.googleusercontent.com/a-/AOh14GjILpHRCIxbMLTJpbXrLUfXeR0D0fq59J9IzlIElg=s64",
      "userId": "01605552294531161702"
     },
     "user_tz": -120
    },
    "id": "ySNMNT2FiJgp"
   },
   "outputs": [],
   "source": [
    "# Taking mean and variances of each matrix.\n",
    "Ymean_2 = np.mean(Y_2, axis=1)\n",
    "Yvar_2 = np.var(Y_2, axis=1)\n",
    "\n",
    "Ymean_10 = np.mean(Y_10, axis=1)\n",
    "Yvar_10 = np.var(Y_10, axis=1)"
   ]
  },
  {
   "cell_type": "code",
   "execution_count": 44,
   "metadata": {
    "colab": {
     "base_uri": "https://localhost:8080/"
    },
    "executionInfo": {
     "elapsed": 52,
     "status": "ok",
     "timestamp": 1641848630774,
     "user": {
      "displayName": "Valia Mavrikou",
      "photoUrl": "https://lh3.googleusercontent.com/a-/AOh14GjILpHRCIxbMLTJpbXrLUfXeR0D0fq59J9IzlIElg=s64",
      "userId": "01605552294531161702"
     },
     "user_tz": -120
    },
    "id": "chq3edzLiJgp",
    "outputId": "189151a8-6f7f-4a2b-ed48-87a1fafe6d18"
   },
   "outputs": [
    {
     "name": "stdout",
     "output_type": "stream",
     "text": [
      "Means from fitting a 2nd degree polynomial: [-0.17299364 -0.09313578 -0.01086544  0.07381737  0.16091265  0.25042041\n",
      "  0.34234063  0.43667333  0.5334185   0.63257615  0.73414627  0.83812886\n",
      "  0.94452392  1.05333145  1.16455146  1.27818394  1.39422889  1.51268632\n",
      "  1.63355621  1.75683858]\n",
      "Means from fitting a 10th degree polynomial: [ 0.16753132  0.06793884  0.0496563  -0.01669616 -0.05563994 -0.01844132\n",
      "  0.08407128  0.21711764  0.35839561  0.51042408  0.68976546  0.90635945\n",
      "  1.14807706  1.38031407  1.56120622  1.66308508  1.68332387  1.6259672\n",
      "  1.44271787  0.94118772]\n"
     ]
    }
   ],
   "source": [
    "print(f\"Means from fitting a 2nd degree polynomial: {Ymean_2}\")\n",
    "print(f\"Means from fitting a 10th degree polynomial: {Ymean_10}\")"
   ]
  },
  {
   "cell_type": "code",
   "execution_count": 45,
   "metadata": {
    "colab": {
     "base_uri": "https://localhost:8080/"
    },
    "executionInfo": {
     "elapsed": 47,
     "status": "ok",
     "timestamp": 1641848630775,
     "user": {
      "displayName": "Valia Mavrikou",
      "photoUrl": "https://lh3.googleusercontent.com/a-/AOh14GjILpHRCIxbMLTJpbXrLUfXeR0D0fq59J9IzlIElg=s64",
      "userId": "01605552294531161702"
     },
     "user_tz": -120
    },
    "id": "kHne9WQpiJgr",
    "outputId": "e1830fe3-dc3b-4899-d6aa-ada662e47bf5"
   },
   "outputs": [
    {
     "name": "stdout",
     "output_type": "stream",
     "text": [
      "Variances from fitting a 2nd degree polynomial: [0.03755228 0.02498886 0.01700209 0.01244304 0.01031069 0.00975196\n",
      " 0.01006171 0.01068274 0.01120576 0.01136944 0.01106035 0.01031302\n",
      " 0.00930992 0.00838141 0.00800584 0.00880944 0.01156642 0.01719889\n",
      " 0.0267769  0.04151844]\n",
      "Variances from fitting a 10th degree polynomial: [0.08456349 0.10349158 0.05835735 0.04646477 0.04271332 0.04110002\n",
      " 0.03585331 0.03783453 0.03785615 0.0337256  0.02895416 0.03705871\n",
      " 0.04938633 0.04199263 0.03910862 0.04414297 0.03786411 0.05958774\n",
      " 0.12157991 0.1143763 ]\n"
     ]
    }
   ],
   "source": [
    "print(f\"Variances from fitting a 2nd degree polynomial: {Yvar_2}\")\n",
    "print(f\"Variances from fitting a 10th degree polynomial: {Yvar_10}\")"
   ]
  },
  {
   "cell_type": "code",
   "execution_count": 46,
   "metadata": {
    "colab": {
     "base_uri": "https://localhost:8080/"
    },
    "executionInfo": {
     "elapsed": 43,
     "status": "ok",
     "timestamp": 1641848630776,
     "user": {
      "displayName": "Valia Mavrikou",
      "photoUrl": "https://lh3.googleusercontent.com/a-/AOh14GjILpHRCIxbMLTJpbXrLUfXeR0D0fq59J9IzlIElg=s64",
      "userId": "01605552294531161702"
     },
     "user_tz": -120
    },
    "id": "HZaUXtUyiJgs",
    "outputId": "52919b2a-0e2a-4bbd-8bbe-242f9f77f850"
   },
   "outputs": [
    {
     "name": "stdout",
     "output_type": "stream",
     "text": [
      "Biases from fitting a 2nd degree polynomial: [0.37299364 0.19865878 0.04667717 0.07844021 0.17280273 0.23345024\n",
      " 0.25866328 0.24827319 0.20397231 0.12962413 0.03157347 0.08104336\n",
      " 0.1959884  0.29761187 0.36654201 0.37937491 0.30836434 0.1211116\n",
      " 0.21974465 0.75683858]\n",
      "Biases from fitting a 10th degree polynomial: [0.03246868 0.03758417 0.01384456 0.01207332 0.04374987 0.03541149\n",
      " 0.00039393 0.0287175  0.02894941 0.00747206 0.01280733 0.01281276\n",
      " 0.00756475 0.02937075 0.03011276 0.00552624 0.01926936 0.00783072\n",
      " 0.02890631 0.05881228]\n"
     ]
    }
   ],
   "source": [
    "# Calculates bias for each model.\n",
    "y_train_true = calculate_y(x_train, thetas, N_train)\n",
    "\n",
    "bias_2 = np.abs(Ymean_2-np.squeeze(y_train_true))\n",
    "bias_10 = np.abs(Ymean_10-np.squeeze(y_train_true))\n",
    "\n",
    "print(f\"Biases from fitting a 2nd degree polynomial: {bias_2}\")\n",
    "print(f\"Biases from fitting a 10th degree polynomial: {bias_10}\")"
   ]
  },
  {
   "cell_type": "code",
   "execution_count": 47,
   "metadata": {
    "colab": {
     "base_uri": "https://localhost:8080/",
     "height": 373
    },
    "executionInfo": {
     "elapsed": 545,
     "status": "ok",
     "timestamp": 1641848631285,
     "user": {
      "displayName": "Valia Mavrikou",
      "photoUrl": "https://lh3.googleusercontent.com/a-/AOh14GjILpHRCIxbMLTJpbXrLUfXeR0D0fq59J9IzlIElg=s64",
      "userId": "01605552294531161702"
     },
     "user_tz": -120
    },
    "id": "TrkANSVaiJgt",
    "outputId": "fd2f075f-fe19-4598-cbb4-2973a5a7413f"
   },
   "outputs": [
    {
     "data": {
      "text/plain": [
       "<matplotlib.legend.Legend at 0x7f4a69f7b9d0>"
      ]
     },
     "execution_count": 47,
     "metadata": {},
     "output_type": "execute_result"
    },
    {
     "data": {
      "image/png": "[encoded data removed]",
      "text/plain": [
       "<Figure size 720x360 with 2 Axes>"
      ]
     },
     "metadata": {
      "needs_background": "light"
     },
     "output_type": "display_data"
    }
   ],
   "source": [
    "fig, axs = plt.subplots(1,2, figsize=(10,5))\n",
    "\n",
    "axs[0].plot(x_test, y_true, c='green', label=\"y_true\")\n",
    "axs[1].plot(x_test, y_true, c='green', label=\"y_true\")\n",
    "\n",
    "axs[0].errorbar(x_train, Ymean_2, yerr=np.sqrt(Yvar_2), c='red', fmt='.', capsize=5, label=\"y_pred\")\n",
    "axs[1].errorbar(x_train, Ymean_10, yerr=np.sqrt(Yvar_10), c='blue', fmt='.', capsize=5, label=\"y_pred\")\n",
    "\n",
    "axs[0].title.set_text('theta: 2nd degree polynomial')\n",
    "axs[1].title.set_text('theta: 10th degree polynomial')\n",
    "plt.suptitle(\"Mean values +- 1 std.dev. from fitting different theta polynomials\", fontsize=16)\n",
    "\n",
    "axs[0].legend(loc=\"upper left\")\n",
    "axs[1].legend(loc=\"upper left\")"
   ]
  },
  {
   "cell_type": "markdown",
   "metadata": {
    "id": "xMKKzzrZTNNx"
   },
   "source": [
    "## Comments\n",
    "\n",
    "\n",
    "We can see from the plot of the 5 resulting functions and the plot above that the 2nd polynomial underfits the train dataset. In this case, there are not enough parameters to give a good estimation of the data generated by the higher level polynomial (5th degree). In contrast, the 10th degree polynomial results in overfitting, where the theta vector has more parameters than tne true vector and the model is able to learn the noise used to generate the training data. This model is not able to generalize well to unseen data.\n",
    "\n",
    "This situation describes the 'bias-variance dilemma'. In an ideal world, we would like to choose a model which would fit the train data to a great degree and would be able to generalize well to unseen data. If we are biased to a simple model (high bias) by minimizing the number of parameters, we are underfitting the data and as a result the variance is small. If we increase the complexity of the model (small bias, large number of parameters), we are overfitting the data, the variance is high and we cannot generalize well to unseen data. The results from fitting the two polynomials confirm this assumption for every point in the train set:\n",
    "* bias_2 > bias_10\n",
    "* variance_2 < variance_10\n",
    "\n",
    "Thus, we have to carefully increase the number of parameters and complexity of the model, trying to balance the increase of bias and the increase of the model's variance.\n"
   ]
  },
  {
   "cell_type": "markdown",
   "metadata": {
    "id": "46kLhfQnVIXc"
   },
   "source": [
    "## Functions used in Problem 1 - Question 3"
   ]
  },
  {
   "cell_type": "code",
   "execution_count": 48,
   "metadata": {
    "executionInfo": {
     "elapsed": 34,
     "status": "ok",
     "timestamp": 1641848631287,
     "user": {
      "displayName": "Valia Mavrikou",
      "photoUrl": "https://lh3.googleusercontent.com/a-/AOh14GjILpHRCIxbMLTJpbXrLUfXeR0D0fq59J9IzlIElg=s64",
      "userId": "01605552294531161702"
     },
     "user_tz": -120
    },
    "id": "Fz8cr4vSVIXd"
   },
   "outputs": [],
   "source": [
    "def RR_method(X, y, lamda):    \n",
    "    \"\"\"\n",
    "        Implementation of RR method. Calculates theta_prediction vector using the relationship: \n",
    "            theta_pred = (X^T X + lambda * identity_matrix)^-1 X^T y\n",
    "    \"\"\"\n",
    "    Xt = np.transpose(X)\n",
    "    Xt_X = np.matmul(Xt, X)\n",
    "    Xt_X_RR = Xt_X + lamda * np.identity(len(thetas))\n",
    "    Xt_X_inverse = np.linalg.inv(Xt_X_RR) \n",
    "    \n",
    "    theta_pred = np.matmul(np.matmul(Xt_X_inverse, Xt), y)\n",
    "    \n",
    "    return theta_pred"
   ]
  },
  {
   "cell_type": "markdown",
   "metadata": {
    "id": "PLtUa9ZrVIXd"
   },
   "source": [
    "## Problem 1 - Question 3\n",
    "\n",
    "Here, we repeated the task we were given in Question 1, but this time using the Ridge Regression method in order to find an estimator for the theta vector. What the RR method actually do is: it imposes a bias to our estimator $\\theta$, which depends on a parameter $\\lambda$: \n",
    "\n",
    "$θ_{RR} = (Φ^{Τ}Φ + λΙ)^{-1}Φ^{Τ}y$\n",
    "\n",
    "We know that there is always a $\\lambda>0$ that gives us a better estimator than the LS estimator.\n",
    "\n",
    "We used the RR method to find an estimator for our parameter vector theta, for various values of lambda in the range of 0.0005-500.0. \n",
    "Then we used the models that our estimators gave us over our training set, and over a test set comprising of 1000 points randomly selected in the interval [0,2], and we also calculated the MSE of the y's.\n",
    "\n",
    "*In order to get an idea about the values of lambda we would use, we decided to calculate the value of ${σ_{θ}^{2}}/{θ_{0}^{2}}$, which was proved to be the optimal lambda in the toy problem we did in class. In our case this gave as a $λ = 0.0042$, which actually led to a good MSE in the train and the test sets, and so we decided to start choosing values of lambda that were around this value.\n"
   ]
  },
  {
   "cell_type": "code",
   "execution_count": 49,
   "metadata": {
    "executionInfo": {
     "elapsed": 33,
     "status": "ok",
     "timestamp": 1641848631288,
     "user": {
      "displayName": "Valia Mavrikou",
      "photoUrl": "https://lh3.googleusercontent.com/a-/AOh14GjILpHRCIxbMLTJpbXrLUfXeR0D0fq59J9IzlIElg=s64",
      "userId": "01605552294531161702"
     },
     "user_tz": -120
    },
    "id": "sJrteVANTQvy"
   },
   "outputs": [],
   "source": [
    "# Parameters\n",
    "N_train = 20\n",
    "N_test = 1000\n",
    "noise_variance = 0.1\n",
    "thetas = np.array([-1, 0.9, 0.7, 0, -0.2, 0.2]).reshape((6,1))\n",
    "\n",
    "# Lambdas array\n",
    "lambdas = np.array([0.0005, 0.5, 5.0, 50.0, 500.0]).reshape((5,1))"
   ]
  },
  {
   "cell_type": "code",
   "execution_count": 50,
   "metadata": {
    "executionInfo": {
     "elapsed": 33,
     "status": "ok",
     "timestamp": 1641848631290,
     "user": {
      "displayName": "Valia Mavrikou",
      "photoUrl": "https://lh3.googleusercontent.com/a-/AOh14GjILpHRCIxbMLTJpbXrLUfXeR0D0fq59J9IzlIElg=s64",
      "userId": "01605552294531161702"
     },
     "user_tz": -120
    },
    "id": "MEdvNQTPVIXf"
   },
   "outputs": [],
   "source": [
    "# Train x and y vectors.\n",
    "x_train = np.linspace(0, 2, num=N_train).reshape((N_train, 1))\n",
    "X_train = generate_big_phi(x_train, len(thetas), N_train) \n",
    "y_train = calculate_y(x_train, thetas, N_train, noise_variance)"
   ]
  },
  {
   "cell_type": "code",
   "execution_count": 51,
   "metadata": {
    "colab": {
     "base_uri": "https://localhost:8080/"
    },
    "executionInfo": {
     "elapsed": 34,
     "status": "ok",
     "timestamp": 1641848631292,
     "user": {
      "displayName": "Valia Mavrikou",
      "photoUrl": "https://lh3.googleusercontent.com/a-/AOh14GjILpHRCIxbMLTJpbXrLUfXeR0D0fq59J9IzlIElg=s64",
      "userId": "01605552294531161702"
     },
     "user_tz": -120
    },
    "id": "RCU1goYZ-VSR",
    "outputId": "a05cd055-4af9-4760-e4ee-0c040ef09625"
   },
   "outputs": [
    {
     "name": "stdout",
     "output_type": "stream",
     "text": [
      "MSE error of LS method on train set: 0.08423449291939175\n",
      "MSE errors from the different lambdas on the train set:\n",
      " [0.03653594925903352, 0.053127729852365246, 0.09282595283177433, 0.23606876103161248, 0.42319102074935033]\n"
     ]
    }
   ],
   "source": [
    "# MSE errors on the train set\n",
    "\n",
    "# LS method\n",
    "theta_LS = LS_method(X_train, y_train)\n",
    "y_train_LS = calculate_y(x_train, theta_pred, N_train)\n",
    "\n",
    "print(f\"MSE error of LS method on train set: {MSE_error(y_train, y_train_LS)}\")\n",
    "\n",
    "\n",
    "# RR method\n",
    "mse_train_errors = []\n",
    "\n",
    "for i in range(len(lambdas)):\n",
    "  \n",
    "    theta_pred_it = RR_method(X_train, y_train, lambdas[i])\n",
    "    y_train_pred_it = calculate_y(x_train, theta_pred_it, N_train)\n",
    "    mse_train_errors.append(MSE_error(y_train, y_train_pred_it))\n",
    "\n",
    "print(f\"MSE errors from the different lambdas on the train set:\\n {mse_train_errors}\")"
   ]
  },
  {
   "cell_type": "code",
   "execution_count": 52,
   "metadata": {
    "colab": {
     "base_uri": "https://localhost:8080/"
    },
    "executionInfo": {
     "elapsed": 30,
     "status": "ok",
     "timestamp": 1641848631293,
     "user": {
      "displayName": "Valia Mavrikou",
      "photoUrl": "https://lh3.googleusercontent.com/a-/AOh14GjILpHRCIxbMLTJpbXrLUfXeR0D0fq59J9IzlIElg=s64",
      "userId": "01605552294531161702"
     },
     "user_tz": -120
    },
    "id": "KvB-WbFRa7aP",
    "outputId": "b86e3c04-6861-472e-e8e9-4fbd11ca9ef7"
   },
   "outputs": [
    {
     "name": "stdout",
     "output_type": "stream",
     "text": [
      "MSE error of LS method on test set: 0.01606718686292035\n",
      "MSE errors from the different lambdas on the test set:\n",
      " [0.012333163201249352, 0.007628503737285277, 0.02853583415382195, 0.13948621536162167, 0.3227452469269148]\n"
     ]
    }
   ],
   "source": [
    "# MSE errors on the test set\n",
    "x_test = np.sort(2 * np.random.sample(N_test)).reshape((N_test, 1)) \n",
    "y_true = calculate_y(x_test, thetas, N_test)\n",
    "\n",
    "# LS method\n",
    "y_test_LS = calculate_y(x_test, theta_pred, N_test)\n",
    "\n",
    "print(f\"MSE error of LS method on test set: {MSE_error(y_true, y_test_LS)}\")\n",
    "\n",
    "\n",
    "# RR methods\n",
    "mse_test_errors = []\n",
    "\n",
    "for i in range(len(lambdas)):\n",
    "  \n",
    "    theta_pred_it = RR_method(X_train, y_train, lambdas[i])\n",
    "    y_test_it = calculate_y(x_test, theta_pred_it, N_test)\n",
    "    mse_test_errors.append(MSE_error(y_true, y_test_it))\n",
    "\n",
    "print(f\"MSE errors from the different lambdas on the test set:\\n {mse_test_errors}\")"
   ]
  },
  {
   "cell_type": "markdown",
   "metadata": {
    "id": "t21W8tUtVIXi"
   },
   "source": [
    "## Comments\n",
    "So from the above values of the MSE's for the LS and the RR methods, we observe that indeed we have found some values of $λ$ for which the biased estimator gives us better results than the unbiased one, in terms of the MSE.\n",
    "\n",
    "\n",
    "As the value of $\\lambda$ increases, so does the regularization term $\\lambda I$, biasing away the solution from the one obtained by the LS method. If the regularization term increases after a certain value ($\\approx 5$ according to our tests), we are biased that much from the LS solution that the results start to become worse than the original method."
   ]
  }
 ],
 "metadata": {
  "colab": {
   "collapsed_sections": [],
   "name": "1.1_1.2_1.3_officially.ipynb",
   "provenance": []
  },
  "kernelspec": {
   "display_name": "Python 3 (ipykernel)",
   "language": "python",
   "name": "python3"
  },
  "language_info": {
   "codemirror_mode": {
    "name": "ipython",
    "version": 3
   },
   "file_extension": ".py",
   "mimetype": "text/x-python",
   "name": "python",
   "nbconvert_exporter": "python",
   "pygments_lexer": "ipython3",
   "version": "3.9.5"
  }
 },
 "nbformat": 4,
 "nbformat_minor": 1
}
